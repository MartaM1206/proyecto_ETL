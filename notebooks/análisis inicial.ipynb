{
 "cells": [
  {
   "cell_type": "code",
   "execution_count": 3,
   "metadata": {},
   "outputs": [],
   "source": [
    "# importamos librerías\n",
    "import pandas as pd\n",
    "from datetime import datetime"
   ]
  },
  {
   "cell_type": "markdown",
   "metadata": {},
   "source": [
    "# **Carga del archivo**"
   ]
  },
  {
   "cell_type": "code",
   "execution_count": 4,
   "metadata": {},
   "outputs": [],
   "source": [
    "# cargamos el archivo con los datos\n",
    "df_raw = pd.read_parquet(\"../data/reservas_hoteles.parquet\")"
   ]
  },
  {
   "cell_type": "code",
   "execution_count": 5,
   "metadata": {},
   "outputs": [
    {
     "name": "stdout",
     "output_type": "stream",
     "text": [
      "<class 'pandas.core.frame.DataFrame'>\n",
      "RangeIndex: 15098 entries, 0 to 15097\n",
      "Data columns (total 14 columns):\n",
      " #   Column           Non-Null Count  Dtype  \n",
      "---  ------           --------------  -----  \n",
      " 0   id_reserva       15098 non-null  object \n",
      " 1   id_cliente       15098 non-null  object \n",
      " 2   nombre           15098 non-null  object \n",
      " 3   apellido         15098 non-null  object \n",
      " 4   mail             15098 non-null  object \n",
      " 5   competencia      15098 non-null  bool   \n",
      " 6   fecha_reserva    15098 non-null  object \n",
      " 7   inicio_estancia  15023 non-null  object \n",
      " 8   final_estancia   15023 non-null  object \n",
      " 9   id_hotel         15098 non-null  int64  \n",
      " 10  precio_noche     9874 non-null   float64\n",
      " 11  nombre_hotel     15098 non-null  object \n",
      " 12  estrellas        9926 non-null   float64\n",
      " 13  ciudad           15098 non-null  object \n",
      "dtypes: bool(1), float64(2), int64(1), object(10)\n",
      "memory usage: 1.5+ MB\n"
     ]
    }
   ],
   "source": [
    "# info del dataframe con los datos\n",
    "df_raw.info()"
   ]
  },
  {
   "cell_type": "code",
   "execution_count": 6,
   "metadata": {},
   "outputs": [],
   "source": [
    "# Hacemos copia del dataframe para trabajar\n",
    "df = df_raw.copy()"
   ]
  },
  {
   "cell_type": "markdown",
   "metadata": {},
   "source": [
    "# Cambio columnas con fechas a datetime"
   ]
  },
  {
   "cell_type": "code",
   "execution_count": 7,
   "metadata": {},
   "outputs": [],
   "source": [
    "# Las columnas de fecha_reserva, inicio_estancia y final_estancia deberían estar en formato fecha. Hacemos una función para transformarlas.\n",
    "def trans_fecha(lista_col, dataframe):\n",
    "    for col in lista_col:\n",
    "        dataframe[col] = pd.to_datetime(dataframe[col], errors=\"coerce\")\n",
    "    return dataframe"
   ]
  },
  {
   "cell_type": "code",
   "execution_count": 8,
   "metadata": {},
   "outputs": [
    {
     "name": "stdout",
     "output_type": "stream",
     "text": [
      "<class 'pandas.core.frame.DataFrame'>\n",
      "RangeIndex: 15098 entries, 0 to 15097\n",
      "Data columns (total 14 columns):\n",
      " #   Column           Non-Null Count  Dtype         \n",
      "---  ------           --------------  -----         \n",
      " 0   id_reserva       15098 non-null  object        \n",
      " 1   id_cliente       15098 non-null  object        \n",
      " 2   nombre           15098 non-null  object        \n",
      " 3   apellido         15098 non-null  object        \n",
      " 4   mail             15098 non-null  object        \n",
      " 5   competencia      15098 non-null  bool          \n",
      " 6   fecha_reserva    9926 non-null   datetime64[ns]\n",
      " 7   inicio_estancia  15023 non-null  datetime64[ns]\n",
      " 8   final_estancia   15023 non-null  datetime64[ns]\n",
      " 9   id_hotel         15098 non-null  int64         \n",
      " 10  precio_noche     9874 non-null   float64       \n",
      " 11  nombre_hotel     15098 non-null  object        \n",
      " 12  estrellas        9926 non-null   float64       \n",
      " 13  ciudad           15098 non-null  object        \n",
      "dtypes: bool(1), datetime64[ns](3), float64(2), int64(1), object(7)\n",
      "memory usage: 1.5+ MB\n"
     ]
    }
   ],
   "source": [
    "df = trans_fecha([\"fecha_reserva\", \"inicio_estancia\", \"final_estancia\"], df)\n",
    "df.info()"
   ]
  },
  {
   "cell_type": "markdown",
   "metadata": {},
   "source": [
    "# Fechas estancia"
   ]
  },
  {
   "cell_type": "code",
   "execution_count": 9,
   "metadata": {},
   "outputs": [
    {
     "data": {
      "text/plain": [
       "<DatetimeArray>\n",
       "['2025-03-01 00:00:00', 'NaT']\n",
       "Length: 2, dtype: datetime64[ns]"
      ]
     },
     "execution_count": 9,
     "metadata": {},
     "output_type": "execute_result"
    }
   ],
   "source": [
    "# miramos valores únicos de fechas de inicio y final de estancia porque las necesitaremos para buscar eventos en la API\n",
    "ini_estancia =df[\"inicio_estancia\"].unique()\n",
    "ini_estancia"
   ]
  },
  {
   "cell_type": "code",
   "execution_count": 10,
   "metadata": {},
   "outputs": [
    {
     "data": {
      "text/plain": [
       "<DatetimeArray>\n",
       "['2025-03-02 00:00:00', 'NaT']\n",
       "Length: 2, dtype: datetime64[ns]"
      ]
     },
     "execution_count": 10,
     "metadata": {},
     "output_type": "execute_result"
    }
   ],
   "source": [
    "fin_estancia = df[\"final_estancia\"].unique()\n",
    "fin_estancia"
   ]
  },
  {
   "cell_type": "markdown",
   "metadata": {},
   "source": [
    "Como las fechas son las mismas, podríamos rellenar toda la columna con el mismo valor."
   ]
  },
  {
   "cell_type": "code",
   "execution_count": 11,
   "metadata": {},
   "outputs": [],
   "source": [
    "# Rellenamos las columnas del df con las fechas.\n",
    "df[\"inicio_estancia\"] = ini_estancia[0]\n",
    "df[\"final_estancia\"] = fin_estancia[0]"
   ]
  },
  {
   "cell_type": "code",
   "execution_count": 12,
   "metadata": {},
   "outputs": [
    {
     "name": "stdout",
     "output_type": "stream",
     "text": [
      "<class 'pandas.core.frame.DataFrame'>\n",
      "RangeIndex: 15098 entries, 0 to 15097\n",
      "Data columns (total 14 columns):\n",
      " #   Column           Non-Null Count  Dtype         \n",
      "---  ------           --------------  -----         \n",
      " 0   id_reserva       15098 non-null  object        \n",
      " 1   id_cliente       15098 non-null  object        \n",
      " 2   nombre           15098 non-null  object        \n",
      " 3   apellido         15098 non-null  object        \n",
      " 4   mail             15098 non-null  object        \n",
      " 5   competencia      15098 non-null  bool          \n",
      " 6   fecha_reserva    9926 non-null   datetime64[ns]\n",
      " 7   inicio_estancia  15098 non-null  datetime64[ns]\n",
      " 8   final_estancia   15098 non-null  datetime64[ns]\n",
      " 9   id_hotel         15098 non-null  int64         \n",
      " 10  precio_noche     9874 non-null   float64       \n",
      " 11  nombre_hotel     15098 non-null  object        \n",
      " 12  estrellas        9926 non-null   float64       \n",
      " 13  ciudad           15098 non-null  object        \n",
      "dtypes: bool(1), datetime64[ns](3), float64(2), int64(1), object(7)\n",
      "memory usage: 1.5+ MB\n"
     ]
    }
   ],
   "source": [
    "df.info()"
   ]
  },
  {
   "cell_type": "code",
   "execution_count": 13,
   "metadata": {},
   "outputs": [
    {
     "data": {
      "application/vnd.microsoft.datawrangler.viewer.v0+json": {
       "columns": [
        {
         "name": "index",
         "rawType": "int64",
         "type": "integer"
        },
        {
         "name": "id_reserva",
         "rawType": "object",
         "type": "string"
        },
        {
         "name": "id_cliente",
         "rawType": "object",
         "type": "string"
        },
        {
         "name": "nombre",
         "rawType": "object",
         "type": "string"
        },
        {
         "name": "apellido",
         "rawType": "object",
         "type": "string"
        },
        {
         "name": "mail",
         "rawType": "object",
         "type": "string"
        },
        {
         "name": "competencia",
         "rawType": "bool",
         "type": "boolean"
        },
        {
         "name": "fecha_reserva",
         "rawType": "datetime64[ns]",
         "type": "datetime"
        },
        {
         "name": "inicio_estancia",
         "rawType": "datetime64[ns]",
         "type": "datetime"
        },
        {
         "name": "final_estancia",
         "rawType": "datetime64[ns]",
         "type": "datetime"
        },
        {
         "name": "id_hotel",
         "rawType": "int64",
         "type": "integer"
        },
        {
         "name": "precio_noche",
         "rawType": "float64",
         "type": "float"
        },
        {
         "name": "nombre_hotel",
         "rawType": "object",
         "type": "string"
        },
        {
         "name": "estrellas",
         "rawType": "float64",
         "type": "float"
        },
        {
         "name": "ciudad",
         "rawType": "object",
         "type": "string"
        }
       ],
       "conversionMethod": "pd.DataFrame",
       "ref": "b7822df3-eb35-4415-863f-288cb772ba7a",
       "rows": [
        [
         "9392",
         "bac6fabb-dd19-417a-861d-5e34117d4e81",
         "7e74569e-230c-4faf-938e-12538ed35ec7",
         "Feliciana",
         "Albero",
         "feliciana.albero@example.com",
         "False",
         "2025-02-02 00:00:00",
         "2025-03-01 00:00:00",
         "2025-03-02 00:00:00",
         "35",
         "278.5",
         "Hotel Vista Alegre",
         "2.0",
         "Madrid"
        ],
        [
         "11590",
         "8e899d87-0f24-4c92-9dd6-03ee40cc6ad4",
         "16939ff8-dca5-4383-97d6-254783169786",
         "Demetrio",
         "Campos",
         "demetrio.campos@example.com",
         "False",
         "2025-02-09 00:00:00",
         "2025-03-01 00:00:00",
         "2025-03-02 00:00:00",
         "15",
         "107.13",
         "Hotel Los Almendros",
         "5.0",
         "Madrid"
        ],
        [
         "3945",
         "f3a0f3aa-0a4c-46c8-b6a8-da42a6e9b79a",
         "b7b5baa3-366f-4c82-8005-7e878bc7afb0",
         "Luis Miguel",
         "Mancebo",
         "luis miguel.mancebo@example.com",
         "False",
         "2025-02-09 00:00:00",
         "2025-03-01 00:00:00",
         "2025-03-02 00:00:00",
         "29",
         "115.74",
         "Hotel Mirador Real",
         "3.0",
         "Madrid"
        ],
        [
         "3808",
         "e1cf6c86-75cd-4acc-b634-d39359a56fb0",
         "bcdb2a87-9ac8-4d16-bbeb-01b6a0a96519",
         "Jose Angel",
         "Tejedor",
         "jose angel.tejedor@example.com",
         "False",
         "2025-02-08 00:00:00",
         "2025-03-01 00:00:00",
         "2025-03-02 00:00:00",
         "36",
         "395.9",
         "Palacio del Sol",
         "2.0",
         "Madrid"
        ],
        [
         "1286",
         "795ac8a9-e89f-4b3d-b035-6c184ae3dffb",
         "896adb08-0bb8-4f3c-a531-8d0373c70739",
         "Pancho",
         "Ocaña",
         "pancho.ocaña@example.com",
         "False",
         "2025-02-02 00:00:00",
         "2025-03-01 00:00:00",
         "2025-03-02 00:00:00",
         "38",
         "364.2",
         "Hotel Palacio Imperial",
         "3.0",
         "Madrid"
        ]
       ],
       "shape": {
        "columns": 14,
        "rows": 5
       }
      },
      "text/html": [
       "<div>\n",
       "<style scoped>\n",
       "    .dataframe tbody tr th:only-of-type {\n",
       "        vertical-align: middle;\n",
       "    }\n",
       "\n",
       "    .dataframe tbody tr th {\n",
       "        vertical-align: top;\n",
       "    }\n",
       "\n",
       "    .dataframe thead th {\n",
       "        text-align: right;\n",
       "    }\n",
       "</style>\n",
       "<table border=\"1\" class=\"dataframe\">\n",
       "  <thead>\n",
       "    <tr style=\"text-align: right;\">\n",
       "      <th></th>\n",
       "      <th>id_reserva</th>\n",
       "      <th>id_cliente</th>\n",
       "      <th>nombre</th>\n",
       "      <th>apellido</th>\n",
       "      <th>mail</th>\n",
       "      <th>competencia</th>\n",
       "      <th>fecha_reserva</th>\n",
       "      <th>inicio_estancia</th>\n",
       "      <th>final_estancia</th>\n",
       "      <th>id_hotel</th>\n",
       "      <th>precio_noche</th>\n",
       "      <th>nombre_hotel</th>\n",
       "      <th>estrellas</th>\n",
       "      <th>ciudad</th>\n",
       "    </tr>\n",
       "  </thead>\n",
       "  <tbody>\n",
       "    <tr>\n",
       "      <th>9392</th>\n",
       "      <td>bac6fabb-dd19-417a-861d-5e34117d4e81</td>\n",
       "      <td>7e74569e-230c-4faf-938e-12538ed35ec7</td>\n",
       "      <td>Feliciana</td>\n",
       "      <td>Albero</td>\n",
       "      <td>feliciana.albero@example.com</td>\n",
       "      <td>False</td>\n",
       "      <td>2025-02-02</td>\n",
       "      <td>2025-03-01</td>\n",
       "      <td>2025-03-02</td>\n",
       "      <td>35</td>\n",
       "      <td>278.50</td>\n",
       "      <td>Hotel Vista Alegre</td>\n",
       "      <td>2.0</td>\n",
       "      <td>Madrid</td>\n",
       "    </tr>\n",
       "    <tr>\n",
       "      <th>11590</th>\n",
       "      <td>8e899d87-0f24-4c92-9dd6-03ee40cc6ad4</td>\n",
       "      <td>16939ff8-dca5-4383-97d6-254783169786</td>\n",
       "      <td>Demetrio</td>\n",
       "      <td>Campos</td>\n",
       "      <td>demetrio.campos@example.com</td>\n",
       "      <td>False</td>\n",
       "      <td>2025-02-09</td>\n",
       "      <td>2025-03-01</td>\n",
       "      <td>2025-03-02</td>\n",
       "      <td>15</td>\n",
       "      <td>107.13</td>\n",
       "      <td>Hotel Los Almendros</td>\n",
       "      <td>5.0</td>\n",
       "      <td>Madrid</td>\n",
       "    </tr>\n",
       "    <tr>\n",
       "      <th>3945</th>\n",
       "      <td>f3a0f3aa-0a4c-46c8-b6a8-da42a6e9b79a</td>\n",
       "      <td>b7b5baa3-366f-4c82-8005-7e878bc7afb0</td>\n",
       "      <td>Luis Miguel</td>\n",
       "      <td>Mancebo</td>\n",
       "      <td>luis miguel.mancebo@example.com</td>\n",
       "      <td>False</td>\n",
       "      <td>2025-02-09</td>\n",
       "      <td>2025-03-01</td>\n",
       "      <td>2025-03-02</td>\n",
       "      <td>29</td>\n",
       "      <td>115.74</td>\n",
       "      <td>Hotel Mirador Real</td>\n",
       "      <td>3.0</td>\n",
       "      <td>Madrid</td>\n",
       "    </tr>\n",
       "    <tr>\n",
       "      <th>3808</th>\n",
       "      <td>e1cf6c86-75cd-4acc-b634-d39359a56fb0</td>\n",
       "      <td>bcdb2a87-9ac8-4d16-bbeb-01b6a0a96519</td>\n",
       "      <td>Jose Angel</td>\n",
       "      <td>Tejedor</td>\n",
       "      <td>jose angel.tejedor@example.com</td>\n",
       "      <td>False</td>\n",
       "      <td>2025-02-08</td>\n",
       "      <td>2025-03-01</td>\n",
       "      <td>2025-03-02</td>\n",
       "      <td>36</td>\n",
       "      <td>395.90</td>\n",
       "      <td>Palacio del Sol</td>\n",
       "      <td>2.0</td>\n",
       "      <td>Madrid</td>\n",
       "    </tr>\n",
       "    <tr>\n",
       "      <th>1286</th>\n",
       "      <td>795ac8a9-e89f-4b3d-b035-6c184ae3dffb</td>\n",
       "      <td>896adb08-0bb8-4f3c-a531-8d0373c70739</td>\n",
       "      <td>Pancho</td>\n",
       "      <td>Ocaña</td>\n",
       "      <td>pancho.ocaña@example.com</td>\n",
       "      <td>False</td>\n",
       "      <td>2025-02-02</td>\n",
       "      <td>2025-03-01</td>\n",
       "      <td>2025-03-02</td>\n",
       "      <td>38</td>\n",
       "      <td>364.20</td>\n",
       "      <td>Hotel Palacio Imperial</td>\n",
       "      <td>3.0</td>\n",
       "      <td>Madrid</td>\n",
       "    </tr>\n",
       "  </tbody>\n",
       "</table>\n",
       "</div>"
      ],
      "text/plain": [
       "                                 id_reserva  \\\n",
       "9392   bac6fabb-dd19-417a-861d-5e34117d4e81   \n",
       "11590  8e899d87-0f24-4c92-9dd6-03ee40cc6ad4   \n",
       "3945   f3a0f3aa-0a4c-46c8-b6a8-da42a6e9b79a   \n",
       "3808   e1cf6c86-75cd-4acc-b634-d39359a56fb0   \n",
       "1286   795ac8a9-e89f-4b3d-b035-6c184ae3dffb   \n",
       "\n",
       "                                 id_cliente       nombre apellido  \\\n",
       "9392   7e74569e-230c-4faf-938e-12538ed35ec7    Feliciana   Albero   \n",
       "11590  16939ff8-dca5-4383-97d6-254783169786     Demetrio   Campos   \n",
       "3945   b7b5baa3-366f-4c82-8005-7e878bc7afb0  Luis Miguel  Mancebo   \n",
       "3808   bcdb2a87-9ac8-4d16-bbeb-01b6a0a96519   Jose Angel  Tejedor   \n",
       "1286   896adb08-0bb8-4f3c-a531-8d0373c70739       Pancho    Ocaña   \n",
       "\n",
       "                                  mail  competencia fecha_reserva  \\\n",
       "9392      feliciana.albero@example.com        False    2025-02-02   \n",
       "11590      demetrio.campos@example.com        False    2025-02-09   \n",
       "3945   luis miguel.mancebo@example.com        False    2025-02-09   \n",
       "3808    jose angel.tejedor@example.com        False    2025-02-08   \n",
       "1286          pancho.ocaña@example.com        False    2025-02-02   \n",
       "\n",
       "      inicio_estancia final_estancia  id_hotel  precio_noche  \\\n",
       "9392       2025-03-01     2025-03-02        35        278.50   \n",
       "11590      2025-03-01     2025-03-02        15        107.13   \n",
       "3945       2025-03-01     2025-03-02        29        115.74   \n",
       "3808       2025-03-01     2025-03-02        36        395.90   \n",
       "1286       2025-03-01     2025-03-02        38        364.20   \n",
       "\n",
       "                 nombre_hotel  estrellas  ciudad  \n",
       "9392       Hotel Vista Alegre        2.0  Madrid  \n",
       "11590     Hotel Los Almendros        5.0  Madrid  \n",
       "3945       Hotel Mirador Real        3.0  Madrid  \n",
       "3808          Palacio del Sol        2.0  Madrid  \n",
       "1286   Hotel Palacio Imperial        3.0  Madrid  "
      ]
     },
     "execution_count": 13,
     "metadata": {},
     "output_type": "execute_result"
    }
   ],
   "source": [
    "df.sample(5)"
   ]
  },
  {
   "cell_type": "markdown",
   "metadata": {},
   "source": [
    "# Ciudades"
   ]
  },
  {
   "cell_type": "code",
   "execution_count": 14,
   "metadata": {},
   "outputs": [
    {
     "data": {
      "text/plain": [
       "array(['', 'Madrid'], dtype=object)"
      ]
     },
     "execution_count": 14,
     "metadata": {},
     "output_type": "execute_result"
    }
   ],
   "source": [
    "ciudades = df[\"ciudad\"].unique()\n",
    "ciudades"
   ]
  },
  {
   "cell_type": "code",
   "execution_count": 15,
   "metadata": {},
   "outputs": [
    {
     "data": {
      "application/vnd.microsoft.datawrangler.viewer.v0+json": {
       "columns": [
        {
         "name": "index",
         "rawType": "int64",
         "type": "integer"
        },
        {
         "name": "id_reserva",
         "rawType": "object",
         "type": "string"
        },
        {
         "name": "id_cliente",
         "rawType": "object",
         "type": "string"
        },
        {
         "name": "nombre",
         "rawType": "object",
         "type": "string"
        },
        {
         "name": "apellido",
         "rawType": "object",
         "type": "string"
        },
        {
         "name": "mail",
         "rawType": "object",
         "type": "string"
        },
        {
         "name": "competencia",
         "rawType": "bool",
         "type": "boolean"
        },
        {
         "name": "fecha_reserva",
         "rawType": "datetime64[ns]",
         "type": "datetime"
        },
        {
         "name": "inicio_estancia",
         "rawType": "datetime64[ns]",
         "type": "datetime"
        },
        {
         "name": "final_estancia",
         "rawType": "datetime64[ns]",
         "type": "datetime"
        },
        {
         "name": "id_hotel",
         "rawType": "int64",
         "type": "integer"
        },
        {
         "name": "precio_noche",
         "rawType": "float64",
         "type": "float"
        },
        {
         "name": "nombre_hotel",
         "rawType": "object",
         "type": "string"
        },
        {
         "name": "estrellas",
         "rawType": "float64",
         "type": "float"
        },
        {
         "name": "ciudad",
         "rawType": "object",
         "type": "string"
        }
       ],
       "conversionMethod": "pd.DataFrame",
       "ref": "eb5b3c56-24ab-4b13-8c86-214c8f877b23",
       "rows": [
        [
         "14353",
         "1dccf800-0327-4ffc-8cf3-0f2cf9db3277",
         "244b5974-e7fe-40d5-8610-4a86c2a816a2",
         "Delia",
         "Carpio",
         "delia.carpio@example.com",
         "True",
         null,
         "2025-03-01 00:00:00",
         "2025-03-02 00:00:00",
         "113",
         null,
         "",
         null,
         "Madrid"
        ],
        [
         "276",
         "8bb4011e-ec87-451f-9c92-9b2804b3fb7c",
         "946f2845-7809-43eb-b2f7-7b2a936fcb1b",
         "Wilfredo",
         "Belda",
         "wilfredo.belda@example.com",
         "False",
         "2025-02-09 00:00:00",
         "2025-03-01 00:00:00",
         "2025-03-02 00:00:00",
         "43",
         "288.87",
         "Hotel Mirador Real",
         "2.0",
         "Madrid"
        ],
        [
         "10038",
         "90156b22-3191-466a-a86d-ea49ab0d44c9",
         "f79211f5-abb9-4d83-96fc-425e7e189d21",
         "Pascual",
         "Folch",
         "pascual.folch@example.com",
         "False",
         "2025-02-04 00:00:00",
         "2025-03-01 00:00:00",
         "2025-03-02 00:00:00",
         "14",
         "358.71",
         "Hotel Las Estrellas",
         "1.0",
         "Madrid"
        ],
        [
         "155",
         "edfdc0ed-e580-4373-9317-f56cd55f8ef9",
         "95a60c70-ecc4-45ed-8e1b-dd976eb197af",
         "Aarón",
         "Mateu",
         "aarón.mateu@example.com",
         "False",
         "2025-02-04 00:00:00",
         "2025-03-01 00:00:00",
         "2025-03-02 00:00:00",
         "36",
         "175.21",
         "Hotel Los Almendros",
         "3.0",
         "Madrid"
        ],
        [
         "10975",
         "99acbde8-98fb-4586-b850-e416229b29be",
         "9debf577-960e-4c12-84a9-feee6da159aa",
         "Hortensia",
         "Vigil",
         "hortensia.vigil@example.com",
         "True",
         null,
         "2025-03-01 00:00:00",
         "2025-03-02 00:00:00",
         "186",
         null,
         "",
         null,
         "Madrid"
        ]
       ],
       "shape": {
        "columns": 14,
        "rows": 5
       }
      },
      "text/html": [
       "<div>\n",
       "<style scoped>\n",
       "    .dataframe tbody tr th:only-of-type {\n",
       "        vertical-align: middle;\n",
       "    }\n",
       "\n",
       "    .dataframe tbody tr th {\n",
       "        vertical-align: top;\n",
       "    }\n",
       "\n",
       "    .dataframe thead th {\n",
       "        text-align: right;\n",
       "    }\n",
       "</style>\n",
       "<table border=\"1\" class=\"dataframe\">\n",
       "  <thead>\n",
       "    <tr style=\"text-align: right;\">\n",
       "      <th></th>\n",
       "      <th>id_reserva</th>\n",
       "      <th>id_cliente</th>\n",
       "      <th>nombre</th>\n",
       "      <th>apellido</th>\n",
       "      <th>mail</th>\n",
       "      <th>competencia</th>\n",
       "      <th>fecha_reserva</th>\n",
       "      <th>inicio_estancia</th>\n",
       "      <th>final_estancia</th>\n",
       "      <th>id_hotel</th>\n",
       "      <th>precio_noche</th>\n",
       "      <th>nombre_hotel</th>\n",
       "      <th>estrellas</th>\n",
       "      <th>ciudad</th>\n",
       "    </tr>\n",
       "  </thead>\n",
       "  <tbody>\n",
       "    <tr>\n",
       "      <th>14353</th>\n",
       "      <td>1dccf800-0327-4ffc-8cf3-0f2cf9db3277</td>\n",
       "      <td>244b5974-e7fe-40d5-8610-4a86c2a816a2</td>\n",
       "      <td>Delia</td>\n",
       "      <td>Carpio</td>\n",
       "      <td>delia.carpio@example.com</td>\n",
       "      <td>True</td>\n",
       "      <td>NaT</td>\n",
       "      <td>2025-03-01</td>\n",
       "      <td>2025-03-02</td>\n",
       "      <td>113</td>\n",
       "      <td>NaN</td>\n",
       "      <td></td>\n",
       "      <td>NaN</td>\n",
       "      <td>Madrid</td>\n",
       "    </tr>\n",
       "    <tr>\n",
       "      <th>276</th>\n",
       "      <td>8bb4011e-ec87-451f-9c92-9b2804b3fb7c</td>\n",
       "      <td>946f2845-7809-43eb-b2f7-7b2a936fcb1b</td>\n",
       "      <td>Wilfredo</td>\n",
       "      <td>Belda</td>\n",
       "      <td>wilfredo.belda@example.com</td>\n",
       "      <td>False</td>\n",
       "      <td>2025-02-09</td>\n",
       "      <td>2025-03-01</td>\n",
       "      <td>2025-03-02</td>\n",
       "      <td>43</td>\n",
       "      <td>288.87</td>\n",
       "      <td>Hotel Mirador Real</td>\n",
       "      <td>2.0</td>\n",
       "      <td>Madrid</td>\n",
       "    </tr>\n",
       "    <tr>\n",
       "      <th>10038</th>\n",
       "      <td>90156b22-3191-466a-a86d-ea49ab0d44c9</td>\n",
       "      <td>f79211f5-abb9-4d83-96fc-425e7e189d21</td>\n",
       "      <td>Pascual</td>\n",
       "      <td>Folch</td>\n",
       "      <td>pascual.folch@example.com</td>\n",
       "      <td>False</td>\n",
       "      <td>2025-02-04</td>\n",
       "      <td>2025-03-01</td>\n",
       "      <td>2025-03-02</td>\n",
       "      <td>14</td>\n",
       "      <td>358.71</td>\n",
       "      <td>Hotel Las Estrellas</td>\n",
       "      <td>1.0</td>\n",
       "      <td>Madrid</td>\n",
       "    </tr>\n",
       "    <tr>\n",
       "      <th>155</th>\n",
       "      <td>edfdc0ed-e580-4373-9317-f56cd55f8ef9</td>\n",
       "      <td>95a60c70-ecc4-45ed-8e1b-dd976eb197af</td>\n",
       "      <td>Aarón</td>\n",
       "      <td>Mateu</td>\n",
       "      <td>aarón.mateu@example.com</td>\n",
       "      <td>False</td>\n",
       "      <td>2025-02-04</td>\n",
       "      <td>2025-03-01</td>\n",
       "      <td>2025-03-02</td>\n",
       "      <td>36</td>\n",
       "      <td>175.21</td>\n",
       "      <td>Hotel Los Almendros</td>\n",
       "      <td>3.0</td>\n",
       "      <td>Madrid</td>\n",
       "    </tr>\n",
       "    <tr>\n",
       "      <th>10975</th>\n",
       "      <td>99acbde8-98fb-4586-b850-e416229b29be</td>\n",
       "      <td>9debf577-960e-4c12-84a9-feee6da159aa</td>\n",
       "      <td>Hortensia</td>\n",
       "      <td>Vigil</td>\n",
       "      <td>hortensia.vigil@example.com</td>\n",
       "      <td>True</td>\n",
       "      <td>NaT</td>\n",
       "      <td>2025-03-01</td>\n",
       "      <td>2025-03-02</td>\n",
       "      <td>186</td>\n",
       "      <td>NaN</td>\n",
       "      <td></td>\n",
       "      <td>NaN</td>\n",
       "      <td>Madrid</td>\n",
       "    </tr>\n",
       "  </tbody>\n",
       "</table>\n",
       "</div>"
      ],
      "text/plain": [
       "                                 id_reserva  \\\n",
       "14353  1dccf800-0327-4ffc-8cf3-0f2cf9db3277   \n",
       "276    8bb4011e-ec87-451f-9c92-9b2804b3fb7c   \n",
       "10038  90156b22-3191-466a-a86d-ea49ab0d44c9   \n",
       "155    edfdc0ed-e580-4373-9317-f56cd55f8ef9   \n",
       "10975  99acbde8-98fb-4586-b850-e416229b29be   \n",
       "\n",
       "                                 id_cliente     nombre apellido  \\\n",
       "14353  244b5974-e7fe-40d5-8610-4a86c2a816a2      Delia   Carpio   \n",
       "276    946f2845-7809-43eb-b2f7-7b2a936fcb1b   Wilfredo    Belda   \n",
       "10038  f79211f5-abb9-4d83-96fc-425e7e189d21    Pascual    Folch   \n",
       "155    95a60c70-ecc4-45ed-8e1b-dd976eb197af      Aarón    Mateu   \n",
       "10975  9debf577-960e-4c12-84a9-feee6da159aa  Hortensia    Vigil   \n",
       "\n",
       "                              mail  competencia fecha_reserva inicio_estancia  \\\n",
       "14353     delia.carpio@example.com         True           NaT      2025-03-01   \n",
       "276     wilfredo.belda@example.com        False    2025-02-09      2025-03-01   \n",
       "10038    pascual.folch@example.com        False    2025-02-04      2025-03-01   \n",
       "155        aarón.mateu@example.com        False    2025-02-04      2025-03-01   \n",
       "10975  hortensia.vigil@example.com         True           NaT      2025-03-01   \n",
       "\n",
       "      final_estancia  id_hotel  precio_noche         nombre_hotel  estrellas  \\\n",
       "14353     2025-03-02       113           NaN                             NaN   \n",
       "276       2025-03-02        43        288.87   Hotel Mirador Real        2.0   \n",
       "10038     2025-03-02        14        358.71  Hotel Las Estrellas        1.0   \n",
       "155       2025-03-02        36        175.21  Hotel Los Almendros        3.0   \n",
       "10975     2025-03-02       186           NaN                             NaN   \n",
       "\n",
       "       ciudad  \n",
       "14353  Madrid  \n",
       "276    Madrid  \n",
       "10038  Madrid  \n",
       "155    Madrid  \n",
       "10975  Madrid  "
      ]
     },
     "execution_count": 15,
     "metadata": {},
     "output_type": "execute_result"
    }
   ],
   "source": [
    "# Rellenamos toda la columna con Madrid.\n",
    "df[\"ciudad\"] = \"Madrid\"\n",
    "df.sample(5)"
   ]
  },
  {
   "cell_type": "code",
   "execution_count": 16,
   "metadata": {},
   "outputs": [
    {
     "data": {
      "text/plain": [
       "array(['Madrid'], dtype=object)"
      ]
     },
     "execution_count": 16,
     "metadata": {},
     "output_type": "execute_result"
    }
   ],
   "source": [
    "df[\"ciudad\"].unique()\n"
   ]
  },
  {
   "cell_type": "markdown",
   "metadata": {},
   "source": [
    "# Duplicados"
   ]
  },
  {
   "cell_type": "code",
   "execution_count": 17,
   "metadata": {},
   "outputs": [
    {
     "data": {
      "text/plain": [
       "np.int64(98)"
      ]
     },
     "execution_count": 17,
     "metadata": {},
     "output_type": "execute_result"
    }
   ],
   "source": [
    "duplicados = df.duplicated()\n",
    "duplicados.sum()"
   ]
  },
  {
   "cell_type": "code",
   "execution_count": 18,
   "metadata": {},
   "outputs": [
    {
     "name": "stdout",
     "output_type": "stream",
     "text": [
      "<class 'pandas.core.frame.DataFrame'>\n",
      "Index: 15000 entries, 0 to 14999\n",
      "Data columns (total 14 columns):\n",
      " #   Column           Non-Null Count  Dtype         \n",
      "---  ------           --------------  -----         \n",
      " 0   id_reserva       15000 non-null  object        \n",
      " 1   id_cliente       15000 non-null  object        \n",
      " 2   nombre           15000 non-null  object        \n",
      " 3   apellido         15000 non-null  object        \n",
      " 4   mail             15000 non-null  object        \n",
      " 5   competencia      15000 non-null  bool          \n",
      " 6   fecha_reserva    9828 non-null   datetime64[ns]\n",
      " 7   inicio_estancia  15000 non-null  datetime64[ns]\n",
      " 8   final_estancia   15000 non-null  datetime64[ns]\n",
      " 9   id_hotel         15000 non-null  int64         \n",
      " 10  precio_noche     9776 non-null   float64       \n",
      " 11  nombre_hotel     15000 non-null  object        \n",
      " 12  estrellas        9828 non-null   float64       \n",
      " 13  ciudad           15000 non-null  object        \n",
      "dtypes: bool(1), datetime64[ns](3), float64(2), int64(1), object(7)\n",
      "memory usage: 1.6+ MB\n"
     ]
    }
   ],
   "source": [
    "# Hay 98 filas totalmente duplicadas, las eliminamos\n",
    "df = df.drop_duplicates()\n",
    "df.info()"
   ]
  },
  {
   "cell_type": "markdown",
   "metadata": {},
   "source": [
    "# **Transformación**"
   ]
  },
  {
   "cell_type": "markdown",
   "metadata": {},
   "source": [
    "De cara a cargar los datos en la base de datos vamos a generar unas tablas a partir del df."
   ]
  },
  {
   "cell_type": "code",
   "execution_count": 19,
   "metadata": {},
   "outputs": [
    {
     "data": {
      "text/plain": [
       "np.int64(0)"
      ]
     },
     "execution_count": 19,
     "metadata": {},
     "output_type": "execute_result"
    }
   ],
   "source": [
    "# Podemos tener id_hotel duplicados porque más de un cliente puede reservar en el mismo hotel y podemos tener id_cliente duplicados porque el mismo cliente puede haber hecho varias reservas\n",
    "# lo que no podemos tener repetido es el id_reserva. Lo comprobamos\n",
    "reservas = df[\"id_reserva\"].duplicated().sum()\n",
    "reservas"
   ]
  },
  {
   "cell_type": "markdown",
   "metadata": {},
   "source": [
    "## Hoteles"
   ]
  },
  {
   "cell_type": "code",
   "execution_count": 20,
   "metadata": {},
   "outputs": [
    {
     "data": {
      "text/plain": [
       "29"
      ]
     },
     "execution_count": 20,
     "metadata": {},
     "output_type": "execute_result"
    }
   ],
   "source": [
    "# Cantidad de id_hotel\n",
    "df[\"id_hotel\"].nunique()"
   ]
  },
  {
   "cell_type": "code",
   "execution_count": 21,
   "metadata": {},
   "outputs": [
    {
     "data": {
      "text/plain": [
       "20"
      ]
     },
     "execution_count": 21,
     "metadata": {},
     "output_type": "execute_result"
    }
   ],
   "source": [
    "# Cantidad nombres hotel\n",
    "df[\"nombre_hotel\"].nunique()"
   ]
  },
  {
   "cell_type": "markdown",
   "metadata": {},
   "source": [
    "Hay discrepancia en la cantidad de valores únicos. Vamos a generar dos tablas de hoteles, una con los hoteles propios y otra con los de la competencia."
   ]
  },
  {
   "cell_type": "markdown",
   "metadata": {},
   "source": [
    "### Hoteles propios"
   ]
  },
  {
   "cell_type": "code",
   "execution_count": 22,
   "metadata": {},
   "outputs": [
    {
     "data": {
      "application/vnd.microsoft.datawrangler.viewer.v0+json": {
       "columns": [
        {
         "name": "index",
         "rawType": "int64",
         "type": "integer"
        },
        {
         "name": "id_hotel",
         "rawType": "int64",
         "type": "integer"
        },
        {
         "name": "nombre_hotel",
         "rawType": "object",
         "type": "string"
        },
        {
         "name": "estrellas",
         "rawType": "float64",
         "type": "float"
        },
        {
         "name": "ciudad",
         "rawType": "object",
         "type": "string"
        },
        {
         "name": "competencia",
         "rawType": "bool",
         "type": "boolean"
        }
       ],
       "conversionMethod": "pd.DataFrame",
       "ref": "41a21011-52ee-416e-8a49-f14697291348",
       "rows": [
        [
         "506",
         "14",
         "Hotel Luz de Madrid",
         "3.0",
         "Madrid",
         "False"
        ],
        [
         "3546",
         "27",
         "Hotel Monte Verde",
         "1.0",
         "Madrid",
         "False"
        ],
        [
         "13559",
         "43",
         "Hotel Torre Dorada",
         "4.0",
         "Madrid",
         "False"
        ],
        [
         "5456",
         "29",
         "Hotel Encanto Real",
         "5.0",
         "Madrid",
         "False"
        ],
        [
         "11028",
         "35",
         "Hotel Torre Dorada",
         "2.0",
         "Madrid",
         "False"
        ]
       ],
       "shape": {
        "columns": 5,
        "rows": 5
       }
      },
      "text/html": [
       "<div>\n",
       "<style scoped>\n",
       "    .dataframe tbody tr th:only-of-type {\n",
       "        vertical-align: middle;\n",
       "    }\n",
       "\n",
       "    .dataframe tbody tr th {\n",
       "        vertical-align: top;\n",
       "    }\n",
       "\n",
       "    .dataframe thead th {\n",
       "        text-align: right;\n",
       "    }\n",
       "</style>\n",
       "<table border=\"1\" class=\"dataframe\">\n",
       "  <thead>\n",
       "    <tr style=\"text-align: right;\">\n",
       "      <th></th>\n",
       "      <th>id_hotel</th>\n",
       "      <th>nombre_hotel</th>\n",
       "      <th>estrellas</th>\n",
       "      <th>ciudad</th>\n",
       "      <th>competencia</th>\n",
       "    </tr>\n",
       "  </thead>\n",
       "  <tbody>\n",
       "    <tr>\n",
       "      <th>506</th>\n",
       "      <td>14</td>\n",
       "      <td>Hotel Luz de Madrid</td>\n",
       "      <td>3.0</td>\n",
       "      <td>Madrid</td>\n",
       "      <td>False</td>\n",
       "    </tr>\n",
       "    <tr>\n",
       "      <th>3546</th>\n",
       "      <td>27</td>\n",
       "      <td>Hotel Monte Verde</td>\n",
       "      <td>1.0</td>\n",
       "      <td>Madrid</td>\n",
       "      <td>False</td>\n",
       "    </tr>\n",
       "    <tr>\n",
       "      <th>13559</th>\n",
       "      <td>43</td>\n",
       "      <td>Hotel Torre Dorada</td>\n",
       "      <td>4.0</td>\n",
       "      <td>Madrid</td>\n",
       "      <td>False</td>\n",
       "    </tr>\n",
       "    <tr>\n",
       "      <th>5456</th>\n",
       "      <td>29</td>\n",
       "      <td>Hotel Encanto Real</td>\n",
       "      <td>5.0</td>\n",
       "      <td>Madrid</td>\n",
       "      <td>False</td>\n",
       "    </tr>\n",
       "    <tr>\n",
       "      <th>11028</th>\n",
       "      <td>35</td>\n",
       "      <td>Hotel Torre Dorada</td>\n",
       "      <td>2.0</td>\n",
       "      <td>Madrid</td>\n",
       "      <td>False</td>\n",
       "    </tr>\n",
       "  </tbody>\n",
       "</table>\n",
       "</div>"
      ],
      "text/plain": [
       "       id_hotel         nombre_hotel  estrellas  ciudad  competencia\n",
       "506          14  Hotel Luz de Madrid        3.0  Madrid        False\n",
       "3546         27    Hotel Monte Verde        1.0  Madrid        False\n",
       "13559        43   Hotel Torre Dorada        4.0  Madrid        False\n",
       "5456         29   Hotel Encanto Real        5.0  Madrid        False\n",
       "11028        35   Hotel Torre Dorada        2.0  Madrid        False"
      ]
     },
     "execution_count": 22,
     "metadata": {},
     "output_type": "execute_result"
    }
   ],
   "source": [
    "df_propios = df[[\"id_hotel\", \"nombre_hotel\" , \"estrellas\", \"ciudad\", \"competencia\"]][df[\"competencia\"]==False]\n",
    "df_propios.sample(5)"
   ]
  },
  {
   "cell_type": "code",
   "execution_count": 23,
   "metadata": {},
   "outputs": [
    {
     "name": "stdout",
     "output_type": "stream",
     "text": [
      "<class 'pandas.core.frame.DataFrame'>\n",
      "Index: 9828 entries, 2 to 14999\n",
      "Data columns (total 5 columns):\n",
      " #   Column        Non-Null Count  Dtype  \n",
      "---  ------        --------------  -----  \n",
      " 0   id_hotel      9828 non-null   int64  \n",
      " 1   nombre_hotel  9828 non-null   object \n",
      " 2   estrellas     9828 non-null   float64\n",
      " 3   ciudad        9828 non-null   object \n",
      " 4   competencia   9828 non-null   bool   \n",
      "dtypes: bool(1), float64(1), int64(1), object(2)\n",
      "memory usage: 393.5+ KB\n"
     ]
    }
   ],
   "source": [
    "df_propios.info()"
   ]
  },
  {
   "cell_type": "code",
   "execution_count": 24,
   "metadata": {},
   "outputs": [
    {
     "data": {
      "application/vnd.microsoft.datawrangler.viewer.v0+json": {
       "columns": [
        {
         "name": "index",
         "rawType": "int64",
         "type": "integer"
        },
        {
         "name": "nombre_hotel",
         "rawType": "object",
         "type": "string"
        },
        {
         "name": "id_hotel",
         "rawType": "int64",
         "type": "integer"
        }
       ],
       "conversionMethod": "pd.DataFrame",
       "ref": "2cc67a0f-1d7a-4034-93d9-cc12d2e9cdd8",
       "rows": [
        [
         "0",
         "Gran Hotel Madrid",
         "19"
        ],
        [
         "1",
         "Hotel Brisas del Mar",
         "19"
        ],
        [
         "2",
         "Hotel Camino del Sol",
         "19"
        ],
        [
         "3",
         "Hotel Costa Azul",
         "19"
        ],
        [
         "4",
         "Hotel Encanto Real",
         "19"
        ],
        [
         "5",
         "Hotel Jardines del Rey",
         "19"
        ],
        [
         "6",
         "Hotel Las Estrellas",
         "19"
        ],
        [
         "7",
         "Hotel Los Almendros",
         "19"
        ],
        [
         "8",
         "Hotel Luz de Madrid",
         "19"
        ],
        [
         "9",
         "Hotel Maravilla Real",
         "19"
        ],
        [
         "10",
         "Hotel Mirador Real",
         "19"
        ],
        [
         "11",
         "Hotel Monte Verde",
         "19"
        ],
        [
         "12",
         "Hotel Palacio Imperial",
         "19"
        ],
        [
         "13",
         "Hotel Puerta del Cielo",
         "19"
        ],
        [
         "14",
         "Hotel Rincón Sereno",
         "19"
        ],
        [
         "15",
         "Hotel Sol y Luna",
         "19"
        ],
        [
         "16",
         "Hotel Torre Dorada",
         "19"
        ],
        [
         "17",
         "Hotel Vista Alegre",
         "19"
        ],
        [
         "18",
         "Palacio del Sol",
         "19"
        ]
       ],
       "shape": {
        "columns": 2,
        "rows": 19
       }
      },
      "text/html": [
       "<div>\n",
       "<style scoped>\n",
       "    .dataframe tbody tr th:only-of-type {\n",
       "        vertical-align: middle;\n",
       "    }\n",
       "\n",
       "    .dataframe tbody tr th {\n",
       "        vertical-align: top;\n",
       "    }\n",
       "\n",
       "    .dataframe thead th {\n",
       "        text-align: right;\n",
       "    }\n",
       "</style>\n",
       "<table border=\"1\" class=\"dataframe\">\n",
       "  <thead>\n",
       "    <tr style=\"text-align: right;\">\n",
       "      <th></th>\n",
       "      <th>nombre_hotel</th>\n",
       "      <th>id_hotel</th>\n",
       "    </tr>\n",
       "  </thead>\n",
       "  <tbody>\n",
       "    <tr>\n",
       "      <th>0</th>\n",
       "      <td>Gran Hotel Madrid</td>\n",
       "      <td>19</td>\n",
       "    </tr>\n",
       "    <tr>\n",
       "      <th>1</th>\n",
       "      <td>Hotel Brisas del Mar</td>\n",
       "      <td>19</td>\n",
       "    </tr>\n",
       "    <tr>\n",
       "      <th>2</th>\n",
       "      <td>Hotel Camino del Sol</td>\n",
       "      <td>19</td>\n",
       "    </tr>\n",
       "    <tr>\n",
       "      <th>3</th>\n",
       "      <td>Hotel Costa Azul</td>\n",
       "      <td>19</td>\n",
       "    </tr>\n",
       "    <tr>\n",
       "      <th>4</th>\n",
       "      <td>Hotel Encanto Real</td>\n",
       "      <td>19</td>\n",
       "    </tr>\n",
       "    <tr>\n",
       "      <th>5</th>\n",
       "      <td>Hotel Jardines del Rey</td>\n",
       "      <td>19</td>\n",
       "    </tr>\n",
       "    <tr>\n",
       "      <th>6</th>\n",
       "      <td>Hotel Las Estrellas</td>\n",
       "      <td>19</td>\n",
       "    </tr>\n",
       "    <tr>\n",
       "      <th>7</th>\n",
       "      <td>Hotel Los Almendros</td>\n",
       "      <td>19</td>\n",
       "    </tr>\n",
       "    <tr>\n",
       "      <th>8</th>\n",
       "      <td>Hotel Luz de Madrid</td>\n",
       "      <td>19</td>\n",
       "    </tr>\n",
       "    <tr>\n",
       "      <th>9</th>\n",
       "      <td>Hotel Maravilla Real</td>\n",
       "      <td>19</td>\n",
       "    </tr>\n",
       "    <tr>\n",
       "      <th>10</th>\n",
       "      <td>Hotel Mirador Real</td>\n",
       "      <td>19</td>\n",
       "    </tr>\n",
       "    <tr>\n",
       "      <th>11</th>\n",
       "      <td>Hotel Monte Verde</td>\n",
       "      <td>19</td>\n",
       "    </tr>\n",
       "    <tr>\n",
       "      <th>12</th>\n",
       "      <td>Hotel Palacio Imperial</td>\n",
       "      <td>19</td>\n",
       "    </tr>\n",
       "    <tr>\n",
       "      <th>13</th>\n",
       "      <td>Hotel Puerta del Cielo</td>\n",
       "      <td>19</td>\n",
       "    </tr>\n",
       "    <tr>\n",
       "      <th>14</th>\n",
       "      <td>Hotel Rincón Sereno</td>\n",
       "      <td>19</td>\n",
       "    </tr>\n",
       "    <tr>\n",
       "      <th>15</th>\n",
       "      <td>Hotel Sol y Luna</td>\n",
       "      <td>19</td>\n",
       "    </tr>\n",
       "    <tr>\n",
       "      <th>16</th>\n",
       "      <td>Hotel Torre Dorada</td>\n",
       "      <td>19</td>\n",
       "    </tr>\n",
       "    <tr>\n",
       "      <th>17</th>\n",
       "      <td>Hotel Vista Alegre</td>\n",
       "      <td>19</td>\n",
       "    </tr>\n",
       "    <tr>\n",
       "      <th>18</th>\n",
       "      <td>Palacio del Sol</td>\n",
       "      <td>19</td>\n",
       "    </tr>\n",
       "  </tbody>\n",
       "</table>\n",
       "</div>"
      ],
      "text/plain": [
       "              nombre_hotel  id_hotel\n",
       "0        Gran Hotel Madrid        19\n",
       "1     Hotel Brisas del Mar        19\n",
       "2     Hotel Camino del Sol        19\n",
       "3         Hotel Costa Azul        19\n",
       "4       Hotel Encanto Real        19\n",
       "5   Hotel Jardines del Rey        19\n",
       "6      Hotel Las Estrellas        19\n",
       "7      Hotel Los Almendros        19\n",
       "8      Hotel Luz de Madrid        19\n",
       "9     Hotel Maravilla Real        19\n",
       "10      Hotel Mirador Real        19\n",
       "11       Hotel Monte Verde        19\n",
       "12  Hotel Palacio Imperial        19\n",
       "13  Hotel Puerta del Cielo        19\n",
       "14     Hotel Rincón Sereno        19\n",
       "15        Hotel Sol y Luna        19\n",
       "16      Hotel Torre Dorada        19\n",
       "17      Hotel Vista Alegre        19\n",
       "18         Palacio del Sol        19"
      ]
     },
     "execution_count": 24,
     "metadata": {},
     "output_type": "execute_result"
    }
   ],
   "source": [
    "# Comprobamos si hay hoteles con más de un id asignado\n",
    "conteo_hoteles = df_propios.groupby(\"nombre_hotel\")[\"id_hotel\"].nunique().reset_index()\n",
    "conteo_hoteles"
   ]
  },
  {
   "cell_type": "markdown",
   "metadata": {},
   "source": [
    "Todos los hoteles tienen 19 id asignados, lo que no puede ser correcto. Vamos a asociar un único id_hotel por cada nombre_hotel"
   ]
  },
  {
   "cell_type": "code",
   "execution_count": 25,
   "metadata": {},
   "outputs": [],
   "source": [
    "nombrespropios = list(df_propios[\"nombre_hotel\"].unique())"
   ]
  },
  {
   "cell_type": "code",
   "execution_count": 26,
   "metadata": {},
   "outputs": [
    {
     "data": {
      "text/plain": [
       "{'Hotel Monte Verde': 1,\n",
       " 'Hotel Brisas del Mar': 2,\n",
       " 'Hotel Camino del Sol': 3,\n",
       " 'Hotel Puerta del Cielo': 4,\n",
       " 'Hotel Encanto Real': 5,\n",
       " 'Palacio del Sol': 6,\n",
       " 'Hotel Jardines del Rey': 7,\n",
       " 'Hotel Las Estrellas': 8,\n",
       " 'Gran Hotel Madrid': 9,\n",
       " 'Hotel Torre Dorada': 10,\n",
       " 'Hotel Palacio Imperial': 11,\n",
       " 'Hotel Luz de Madrid': 12,\n",
       " 'Hotel Los Almendros': 13,\n",
       " 'Hotel Sol y Luna': 14,\n",
       " 'Hotel Mirador Real': 15,\n",
       " 'Hotel Rincón Sereno': 16,\n",
       " 'Hotel Vista Alegre': 17,\n",
       " 'Hotel Costa Azul': 18,\n",
       " 'Hotel Maravilla Real': 19}"
      ]
     },
     "execution_count": 26,
     "metadata": {},
     "output_type": "execute_result"
    }
   ],
   "source": [
    "# Crear una lista de números seriales según la cantidad de hoteles propios\n",
    "idspropios = list(range(1, len(nombrespropios)+1))\n",
    "# Asignar números seriales a cada elemento. Lo hacemos como un diccionario para poder hacer un mapeo en el df_propios\n",
    "hoteles_propios = dict(zip(nombrespropios, idspropios))\n",
    "hoteles_propios"
   ]
  },
  {
   "cell_type": "code",
   "execution_count": 27,
   "metadata": {},
   "outputs": [
    {
     "data": {
      "application/vnd.microsoft.datawrangler.viewer.v0+json": {
       "columns": [
        {
         "name": "index",
         "rawType": "int64",
         "type": "integer"
        },
        {
         "name": "id_hotel",
         "rawType": "int64",
         "type": "integer"
        },
        {
         "name": "nombre_hotel",
         "rawType": "object",
         "type": "string"
        },
        {
         "name": "estrellas",
         "rawType": "float64",
         "type": "float"
        },
        {
         "name": "ciudad",
         "rawType": "object",
         "type": "string"
        },
        {
         "name": "competencia",
         "rawType": "bool",
         "type": "boolean"
        }
       ],
       "conversionMethod": "pd.DataFrame",
       "ref": "eb633b6c-0b10-44c0-8665-ebef0cc3601f",
       "rows": [
        [
         "14230",
         "17",
         "Hotel Vista Alegre",
         "2.0",
         "Madrid",
         "False"
        ],
        [
         "8813",
         "6",
         "Palacio del Sol",
         "3.0",
         "Madrid",
         "False"
        ],
        [
         "1493",
         "10",
         "Hotel Torre Dorada",
         "5.0",
         "Madrid",
         "False"
        ],
        [
         "8833",
         "19",
         "Hotel Maravilla Real",
         "4.0",
         "Madrid",
         "False"
        ],
        [
         "1474",
         "18",
         "Hotel Costa Azul",
         "1.0",
         "Madrid",
         "False"
        ]
       ],
       "shape": {
        "columns": 5,
        "rows": 5
       }
      },
      "text/html": [
       "<div>\n",
       "<style scoped>\n",
       "    .dataframe tbody tr th:only-of-type {\n",
       "        vertical-align: middle;\n",
       "    }\n",
       "\n",
       "    .dataframe tbody tr th {\n",
       "        vertical-align: top;\n",
       "    }\n",
       "\n",
       "    .dataframe thead th {\n",
       "        text-align: right;\n",
       "    }\n",
       "</style>\n",
       "<table border=\"1\" class=\"dataframe\">\n",
       "  <thead>\n",
       "    <tr style=\"text-align: right;\">\n",
       "      <th></th>\n",
       "      <th>id_hotel</th>\n",
       "      <th>nombre_hotel</th>\n",
       "      <th>estrellas</th>\n",
       "      <th>ciudad</th>\n",
       "      <th>competencia</th>\n",
       "    </tr>\n",
       "  </thead>\n",
       "  <tbody>\n",
       "    <tr>\n",
       "      <th>14230</th>\n",
       "      <td>17</td>\n",
       "      <td>Hotel Vista Alegre</td>\n",
       "      <td>2.0</td>\n",
       "      <td>Madrid</td>\n",
       "      <td>False</td>\n",
       "    </tr>\n",
       "    <tr>\n",
       "      <th>8813</th>\n",
       "      <td>6</td>\n",
       "      <td>Palacio del Sol</td>\n",
       "      <td>3.0</td>\n",
       "      <td>Madrid</td>\n",
       "      <td>False</td>\n",
       "    </tr>\n",
       "    <tr>\n",
       "      <th>1493</th>\n",
       "      <td>10</td>\n",
       "      <td>Hotel Torre Dorada</td>\n",
       "      <td>5.0</td>\n",
       "      <td>Madrid</td>\n",
       "      <td>False</td>\n",
       "    </tr>\n",
       "    <tr>\n",
       "      <th>8833</th>\n",
       "      <td>19</td>\n",
       "      <td>Hotel Maravilla Real</td>\n",
       "      <td>4.0</td>\n",
       "      <td>Madrid</td>\n",
       "      <td>False</td>\n",
       "    </tr>\n",
       "    <tr>\n",
       "      <th>1474</th>\n",
       "      <td>18</td>\n",
       "      <td>Hotel Costa Azul</td>\n",
       "      <td>1.0</td>\n",
       "      <td>Madrid</td>\n",
       "      <td>False</td>\n",
       "    </tr>\n",
       "  </tbody>\n",
       "</table>\n",
       "</div>"
      ],
      "text/plain": [
       "       id_hotel          nombre_hotel  estrellas  ciudad  competencia\n",
       "14230        17    Hotel Vista Alegre        2.0  Madrid        False\n",
       "8813          6       Palacio del Sol        3.0  Madrid        False\n",
       "1493         10    Hotel Torre Dorada        5.0  Madrid        False\n",
       "8833         19  Hotel Maravilla Real        4.0  Madrid        False\n",
       "1474         18      Hotel Costa Azul        1.0  Madrid        False"
      ]
     },
     "execution_count": 27,
     "metadata": {},
     "output_type": "execute_result"
    }
   ],
   "source": [
    "df_propios[\"id_hotel\"] = df_propios[\"nombre_hotel\"].map(hoteles_propios)\n",
    "df_propios.sample(5)"
   ]
  },
  {
   "cell_type": "markdown",
   "metadata": {},
   "source": [
    "La columna estrellas se supone que se refiere a la clasificación del hotel, por lo que cada hotel debería tener una clasificación única. Lo comprobamos"
   ]
  },
  {
   "cell_type": "code",
   "execution_count": 28,
   "metadata": {},
   "outputs": [
    {
     "data": {
      "application/vnd.microsoft.datawrangler.viewer.v0+json": {
       "columns": [
        {
         "name": "index",
         "rawType": "int64",
         "type": "integer"
        },
        {
         "name": "nombre_hotel",
         "rawType": "object",
         "type": "string"
        },
        {
         "name": "estrellas",
         "rawType": "int64",
         "type": "integer"
        }
       ],
       "conversionMethod": "pd.DataFrame",
       "ref": "eb2fe57f-feb6-46ad-8ce4-0abddf9ce7a2",
       "rows": [
        [
         "0",
         "Gran Hotel Madrid",
         "5"
        ],
        [
         "1",
         "Hotel Brisas del Mar",
         "5"
        ],
        [
         "2",
         "Hotel Camino del Sol",
         "5"
        ],
        [
         "3",
         "Hotel Costa Azul",
         "5"
        ],
        [
         "4",
         "Hotel Encanto Real",
         "5"
        ],
        [
         "5",
         "Hotel Jardines del Rey",
         "5"
        ],
        [
         "6",
         "Hotel Las Estrellas",
         "5"
        ],
        [
         "7",
         "Hotel Los Almendros",
         "5"
        ],
        [
         "8",
         "Hotel Luz de Madrid",
         "5"
        ],
        [
         "9",
         "Hotel Maravilla Real",
         "5"
        ],
        [
         "10",
         "Hotel Mirador Real",
         "5"
        ],
        [
         "11",
         "Hotel Monte Verde",
         "5"
        ],
        [
         "12",
         "Hotel Palacio Imperial",
         "5"
        ],
        [
         "13",
         "Hotel Puerta del Cielo",
         "5"
        ],
        [
         "14",
         "Hotel Rincón Sereno",
         "5"
        ],
        [
         "15",
         "Hotel Sol y Luna",
         "5"
        ],
        [
         "16",
         "Hotel Torre Dorada",
         "5"
        ],
        [
         "17",
         "Hotel Vista Alegre",
         "5"
        ],
        [
         "18",
         "Palacio del Sol",
         "5"
        ]
       ],
       "shape": {
        "columns": 2,
        "rows": 19
       }
      },
      "text/html": [
       "<div>\n",
       "<style scoped>\n",
       "    .dataframe tbody tr th:only-of-type {\n",
       "        vertical-align: middle;\n",
       "    }\n",
       "\n",
       "    .dataframe tbody tr th {\n",
       "        vertical-align: top;\n",
       "    }\n",
       "\n",
       "    .dataframe thead th {\n",
       "        text-align: right;\n",
       "    }\n",
       "</style>\n",
       "<table border=\"1\" class=\"dataframe\">\n",
       "  <thead>\n",
       "    <tr style=\"text-align: right;\">\n",
       "      <th></th>\n",
       "      <th>nombre_hotel</th>\n",
       "      <th>estrellas</th>\n",
       "    </tr>\n",
       "  </thead>\n",
       "  <tbody>\n",
       "    <tr>\n",
       "      <th>0</th>\n",
       "      <td>Gran Hotel Madrid</td>\n",
       "      <td>5</td>\n",
       "    </tr>\n",
       "    <tr>\n",
       "      <th>1</th>\n",
       "      <td>Hotel Brisas del Mar</td>\n",
       "      <td>5</td>\n",
       "    </tr>\n",
       "    <tr>\n",
       "      <th>2</th>\n",
       "      <td>Hotel Camino del Sol</td>\n",
       "      <td>5</td>\n",
       "    </tr>\n",
       "    <tr>\n",
       "      <th>3</th>\n",
       "      <td>Hotel Costa Azul</td>\n",
       "      <td>5</td>\n",
       "    </tr>\n",
       "    <tr>\n",
       "      <th>4</th>\n",
       "      <td>Hotel Encanto Real</td>\n",
       "      <td>5</td>\n",
       "    </tr>\n",
       "    <tr>\n",
       "      <th>5</th>\n",
       "      <td>Hotel Jardines del Rey</td>\n",
       "      <td>5</td>\n",
       "    </tr>\n",
       "    <tr>\n",
       "      <th>6</th>\n",
       "      <td>Hotel Las Estrellas</td>\n",
       "      <td>5</td>\n",
       "    </tr>\n",
       "    <tr>\n",
       "      <th>7</th>\n",
       "      <td>Hotel Los Almendros</td>\n",
       "      <td>5</td>\n",
       "    </tr>\n",
       "    <tr>\n",
       "      <th>8</th>\n",
       "      <td>Hotel Luz de Madrid</td>\n",
       "      <td>5</td>\n",
       "    </tr>\n",
       "    <tr>\n",
       "      <th>9</th>\n",
       "      <td>Hotel Maravilla Real</td>\n",
       "      <td>5</td>\n",
       "    </tr>\n",
       "    <tr>\n",
       "      <th>10</th>\n",
       "      <td>Hotel Mirador Real</td>\n",
       "      <td>5</td>\n",
       "    </tr>\n",
       "    <tr>\n",
       "      <th>11</th>\n",
       "      <td>Hotel Monte Verde</td>\n",
       "      <td>5</td>\n",
       "    </tr>\n",
       "    <tr>\n",
       "      <th>12</th>\n",
       "      <td>Hotel Palacio Imperial</td>\n",
       "      <td>5</td>\n",
       "    </tr>\n",
       "    <tr>\n",
       "      <th>13</th>\n",
       "      <td>Hotel Puerta del Cielo</td>\n",
       "      <td>5</td>\n",
       "    </tr>\n",
       "    <tr>\n",
       "      <th>14</th>\n",
       "      <td>Hotel Rincón Sereno</td>\n",
       "      <td>5</td>\n",
       "    </tr>\n",
       "    <tr>\n",
       "      <th>15</th>\n",
       "      <td>Hotel Sol y Luna</td>\n",
       "      <td>5</td>\n",
       "    </tr>\n",
       "    <tr>\n",
       "      <th>16</th>\n",
       "      <td>Hotel Torre Dorada</td>\n",
       "      <td>5</td>\n",
       "    </tr>\n",
       "    <tr>\n",
       "      <th>17</th>\n",
       "      <td>Hotel Vista Alegre</td>\n",
       "      <td>5</td>\n",
       "    </tr>\n",
       "    <tr>\n",
       "      <th>18</th>\n",
       "      <td>Palacio del Sol</td>\n",
       "      <td>5</td>\n",
       "    </tr>\n",
       "  </tbody>\n",
       "</table>\n",
       "</div>"
      ],
      "text/plain": [
       "              nombre_hotel  estrellas\n",
       "0        Gran Hotel Madrid          5\n",
       "1     Hotel Brisas del Mar          5\n",
       "2     Hotel Camino del Sol          5\n",
       "3         Hotel Costa Azul          5\n",
       "4       Hotel Encanto Real          5\n",
       "5   Hotel Jardines del Rey          5\n",
       "6      Hotel Las Estrellas          5\n",
       "7      Hotel Los Almendros          5\n",
       "8      Hotel Luz de Madrid          5\n",
       "9     Hotel Maravilla Real          5\n",
       "10      Hotel Mirador Real          5\n",
       "11       Hotel Monte Verde          5\n",
       "12  Hotel Palacio Imperial          5\n",
       "13  Hotel Puerta del Cielo          5\n",
       "14     Hotel Rincón Sereno          5\n",
       "15        Hotel Sol y Luna          5\n",
       "16      Hotel Torre Dorada          5\n",
       "17      Hotel Vista Alegre          5\n",
       "18         Palacio del Sol          5"
      ]
     },
     "execution_count": 28,
     "metadata": {},
     "output_type": "execute_result"
    }
   ],
   "source": [
    "conteo_estrellas = df_propios.groupby(\"nombre_hotel\")[\"estrellas\"].nunique().reset_index()\n",
    "conteo_estrellas"
   ]
  },
  {
   "cell_type": "markdown",
   "metadata": {},
   "source": [
    "Vemos cada hotel tiene 5 clasificaciones distintas, lo que no tendría sentido. Vamos a suponer que se trata de la valoración de los clientes, por lo que tomaremos el valor medio de cada hotel."
   ]
  },
  {
   "cell_type": "code",
   "execution_count": 29,
   "metadata": {},
   "outputs": [],
   "source": [
    "# Cambiamos el nombre de la columna\n",
    "df_propios.rename(columns={\"estrellas\":\"valoracion\"}, inplace=True)"
   ]
  },
  {
   "cell_type": "code",
   "execution_count": 30,
   "metadata": {},
   "outputs": [
    {
     "data": {
      "application/vnd.microsoft.datawrangler.viewer.v0+json": {
       "columns": [
        {
         "name": "index",
         "rawType": "int64",
         "type": "integer"
        },
        {
         "name": "nombre_hotel",
         "rawType": "object",
         "type": "string"
        },
        {
         "name": "valoracion",
         "rawType": "float64",
         "type": "float"
        }
       ],
       "conversionMethod": "pd.DataFrame",
       "ref": "53d4cc44-6d35-430f-aac5-299dbe7f4f44",
       "rows": [
        [
         "0",
         "Gran Hotel Madrid",
         "3.1"
        ],
        [
         "1",
         "Hotel Brisas del Mar",
         "3.1"
        ],
        [
         "2",
         "Hotel Camino del Sol",
         "3.1"
        ],
        [
         "3",
         "Hotel Costa Azul",
         "3.1"
        ],
        [
         "4",
         "Hotel Encanto Real",
         "3.0"
        ],
        [
         "5",
         "Hotel Jardines del Rey",
         "2.9"
        ],
        [
         "6",
         "Hotel Las Estrellas",
         "2.9"
        ],
        [
         "7",
         "Hotel Los Almendros",
         "3.0"
        ],
        [
         "8",
         "Hotel Luz de Madrid",
         "3.1"
        ],
        [
         "9",
         "Hotel Maravilla Real",
         "3.0"
        ],
        [
         "10",
         "Hotel Mirador Real",
         "3.0"
        ],
        [
         "11",
         "Hotel Monte Verde",
         "3.1"
        ],
        [
         "12",
         "Hotel Palacio Imperial",
         "3.0"
        ],
        [
         "13",
         "Hotel Puerta del Cielo",
         "3.0"
        ],
        [
         "14",
         "Hotel Rincón Sereno",
         "3.0"
        ],
        [
         "15",
         "Hotel Sol y Luna",
         "3.0"
        ],
        [
         "16",
         "Hotel Torre Dorada",
         "2.9"
        ],
        [
         "17",
         "Hotel Vista Alegre",
         "2.9"
        ],
        [
         "18",
         "Palacio del Sol",
         "3.0"
        ]
       ],
       "shape": {
        "columns": 2,
        "rows": 19
       }
      },
      "text/html": [
       "<div>\n",
       "<style scoped>\n",
       "    .dataframe tbody tr th:only-of-type {\n",
       "        vertical-align: middle;\n",
       "    }\n",
       "\n",
       "    .dataframe tbody tr th {\n",
       "        vertical-align: top;\n",
       "    }\n",
       "\n",
       "    .dataframe thead th {\n",
       "        text-align: right;\n",
       "    }\n",
       "</style>\n",
       "<table border=\"1\" class=\"dataframe\">\n",
       "  <thead>\n",
       "    <tr style=\"text-align: right;\">\n",
       "      <th></th>\n",
       "      <th>nombre_hotel</th>\n",
       "      <th>valoracion</th>\n",
       "    </tr>\n",
       "  </thead>\n",
       "  <tbody>\n",
       "    <tr>\n",
       "      <th>0</th>\n",
       "      <td>Gran Hotel Madrid</td>\n",
       "      <td>3.1</td>\n",
       "    </tr>\n",
       "    <tr>\n",
       "      <th>1</th>\n",
       "      <td>Hotel Brisas del Mar</td>\n",
       "      <td>3.1</td>\n",
       "    </tr>\n",
       "    <tr>\n",
       "      <th>2</th>\n",
       "      <td>Hotel Camino del Sol</td>\n",
       "      <td>3.1</td>\n",
       "    </tr>\n",
       "    <tr>\n",
       "      <th>3</th>\n",
       "      <td>Hotel Costa Azul</td>\n",
       "      <td>3.1</td>\n",
       "    </tr>\n",
       "    <tr>\n",
       "      <th>4</th>\n",
       "      <td>Hotel Encanto Real</td>\n",
       "      <td>3.0</td>\n",
       "    </tr>\n",
       "    <tr>\n",
       "      <th>5</th>\n",
       "      <td>Hotel Jardines del Rey</td>\n",
       "      <td>2.9</td>\n",
       "    </tr>\n",
       "    <tr>\n",
       "      <th>6</th>\n",
       "      <td>Hotel Las Estrellas</td>\n",
       "      <td>2.9</td>\n",
       "    </tr>\n",
       "    <tr>\n",
       "      <th>7</th>\n",
       "      <td>Hotel Los Almendros</td>\n",
       "      <td>3.0</td>\n",
       "    </tr>\n",
       "    <tr>\n",
       "      <th>8</th>\n",
       "      <td>Hotel Luz de Madrid</td>\n",
       "      <td>3.1</td>\n",
       "    </tr>\n",
       "    <tr>\n",
       "      <th>9</th>\n",
       "      <td>Hotel Maravilla Real</td>\n",
       "      <td>3.0</td>\n",
       "    </tr>\n",
       "    <tr>\n",
       "      <th>10</th>\n",
       "      <td>Hotel Mirador Real</td>\n",
       "      <td>3.0</td>\n",
       "    </tr>\n",
       "    <tr>\n",
       "      <th>11</th>\n",
       "      <td>Hotel Monte Verde</td>\n",
       "      <td>3.1</td>\n",
       "    </tr>\n",
       "    <tr>\n",
       "      <th>12</th>\n",
       "      <td>Hotel Palacio Imperial</td>\n",
       "      <td>3.0</td>\n",
       "    </tr>\n",
       "    <tr>\n",
       "      <th>13</th>\n",
       "      <td>Hotel Puerta del Cielo</td>\n",
       "      <td>3.0</td>\n",
       "    </tr>\n",
       "    <tr>\n",
       "      <th>14</th>\n",
       "      <td>Hotel Rincón Sereno</td>\n",
       "      <td>3.0</td>\n",
       "    </tr>\n",
       "    <tr>\n",
       "      <th>15</th>\n",
       "      <td>Hotel Sol y Luna</td>\n",
       "      <td>3.0</td>\n",
       "    </tr>\n",
       "    <tr>\n",
       "      <th>16</th>\n",
       "      <td>Hotel Torre Dorada</td>\n",
       "      <td>2.9</td>\n",
       "    </tr>\n",
       "    <tr>\n",
       "      <th>17</th>\n",
       "      <td>Hotel Vista Alegre</td>\n",
       "      <td>2.9</td>\n",
       "    </tr>\n",
       "    <tr>\n",
       "      <th>18</th>\n",
       "      <td>Palacio del Sol</td>\n",
       "      <td>3.0</td>\n",
       "    </tr>\n",
       "  </tbody>\n",
       "</table>\n",
       "</div>"
      ],
      "text/plain": [
       "              nombre_hotel  valoracion\n",
       "0        Gran Hotel Madrid         3.1\n",
       "1     Hotel Brisas del Mar         3.1\n",
       "2     Hotel Camino del Sol         3.1\n",
       "3         Hotel Costa Azul         3.1\n",
       "4       Hotel Encanto Real         3.0\n",
       "5   Hotel Jardines del Rey         2.9\n",
       "6      Hotel Las Estrellas         2.9\n",
       "7      Hotel Los Almendros         3.0\n",
       "8      Hotel Luz de Madrid         3.1\n",
       "9     Hotel Maravilla Real         3.0\n",
       "10      Hotel Mirador Real         3.0\n",
       "11       Hotel Monte Verde         3.1\n",
       "12  Hotel Palacio Imperial         3.0\n",
       "13  Hotel Puerta del Cielo         3.0\n",
       "14     Hotel Rincón Sereno         3.0\n",
       "15        Hotel Sol y Luna         3.0\n",
       "16      Hotel Torre Dorada         2.9\n",
       "17      Hotel Vista Alegre         2.9\n",
       "18         Palacio del Sol         3.0"
      ]
     },
     "execution_count": 30,
     "metadata": {},
     "output_type": "execute_result"
    }
   ],
   "source": [
    "# Calculamos la valoracion media por cada nombre de hotel y redondeamos a 1 decimal\n",
    "df_valoracion_propios = round(df_propios.groupby(\"nombre_hotel\")[\"valoracion\"].mean().reset_index(),1)\n",
    "df_valoracion_propios"
   ]
  },
  {
   "cell_type": "code",
   "execution_count": 31,
   "metadata": {},
   "outputs": [],
   "source": [
    "def generar_mapa(col1, col2, dataframe):\n",
    "    \"\"\"\n",
    "    Genera un diccionario a partir de los valores de dos columnas de un DataFrame, generando pares clave:valor por cada fila.\n",
    "\n",
    "    Parámetros:\n",
    "    col1 (str): Nombre de la primera columna que se usará como claves del diccionario.\n",
    "    col2 (str): Nombre de la segunda columna que se usará como valores del diccionario.\n",
    "    dataframe (pandas.DataFrame): El DataFrame que contiene las columnas a mapear.\n",
    "\n",
    "    Retorna:\n",
    "    dict: Un diccionario donde las claves son los valores de la columna col1 y los valores son los valores de la columna col2.\n",
    "    \"\"\"\n",
    "    lista_col1 = []\n",
    "    lista_col2 = []\n",
    "    for i in dataframe[col1]:\n",
    "        lista_col1.append(i)\n",
    "    for f in dataframe[col2]:\n",
    "        lista_col2.append(f)\n",
    "\n",
    "    mapa = dict(zip(lista_col1, lista_col2))\n",
    "    return mapa"
   ]
  },
  {
   "cell_type": "code",
   "execution_count": 32,
   "metadata": {},
   "outputs": [],
   "source": [
    "# generamos un diccionario con los nombres de los hoteles y su valoración media\n",
    "valoracion_propios = generar_mapa(\"nombre_hotel\", \"valoracion\", df_valoracion_propios)"
   ]
  },
  {
   "cell_type": "code",
   "execution_count": 33,
   "metadata": {},
   "outputs": [
    {
     "name": "stdout",
     "output_type": "stream",
     "text": [
      "<class 'pandas.core.frame.DataFrame'>\n",
      "Index: 9828 entries, 2 to 14999\n",
      "Data columns (total 5 columns):\n",
      " #   Column        Non-Null Count  Dtype  \n",
      "---  ------        --------------  -----  \n",
      " 0   id_hotel      9828 non-null   int64  \n",
      " 1   nombre_hotel  9828 non-null   object \n",
      " 2   valoracion    9828 non-null   float64\n",
      " 3   ciudad        9828 non-null   object \n",
      " 4   competencia   9828 non-null   bool   \n",
      "dtypes: bool(1), float64(1), int64(1), object(2)\n",
      "memory usage: 393.5+ KB\n"
     ]
    }
   ],
   "source": [
    "# Usamos el diccionario para mapear el df de hoteles propios y corregir la columna de estrellas\n",
    "df_propios[\"valoracion\"] = df_propios[\"nombre_hotel\"].map(valoracion_propios)\n",
    "df_propios.info()"
   ]
  },
  {
   "cell_type": "markdown",
   "metadata": {},
   "source": [
    "### Hoteles competencia"
   ]
  },
  {
   "cell_type": "code",
   "execution_count": 34,
   "metadata": {},
   "outputs": [
    {
     "data": {
      "application/vnd.microsoft.datawrangler.viewer.v0+json": {
       "columns": [
        {
         "name": "index",
         "rawType": "int64",
         "type": "integer"
        },
        {
         "name": "id_hotel",
         "rawType": "int64",
         "type": "integer"
        },
        {
         "name": "nombre_hotel",
         "rawType": "object",
         "type": "string"
        },
        {
         "name": "estrellas",
         "rawType": "float64",
         "type": "float"
        },
        {
         "name": "ciudad",
         "rawType": "object",
         "type": "string"
        },
        {
         "name": "competencia",
         "rawType": "bool",
         "type": "boolean"
        }
       ],
       "conversionMethod": "pd.DataFrame",
       "ref": "c60d4e52-7dd5-42d2-ade6-cd96775ae25d",
       "rows": [
        [
         "2107",
         "114",
         "",
         null,
         "Madrid",
         "True"
        ],
        [
         "1378",
         "181",
         "",
         null,
         "Madrid",
         "True"
        ],
        [
         "6679",
         "131",
         "",
         null,
         "Madrid",
         "True"
        ],
        [
         "5101",
         "181",
         "",
         null,
         "Madrid",
         "True"
        ],
        [
         "6159",
         "186",
         "",
         null,
         "Madrid",
         "True"
        ]
       ],
       "shape": {
        "columns": 5,
        "rows": 5
       }
      },
      "text/html": [
       "<div>\n",
       "<style scoped>\n",
       "    .dataframe tbody tr th:only-of-type {\n",
       "        vertical-align: middle;\n",
       "    }\n",
       "\n",
       "    .dataframe tbody tr th {\n",
       "        vertical-align: top;\n",
       "    }\n",
       "\n",
       "    .dataframe thead th {\n",
       "        text-align: right;\n",
       "    }\n",
       "</style>\n",
       "<table border=\"1\" class=\"dataframe\">\n",
       "  <thead>\n",
       "    <tr style=\"text-align: right;\">\n",
       "      <th></th>\n",
       "      <th>id_hotel</th>\n",
       "      <th>nombre_hotel</th>\n",
       "      <th>estrellas</th>\n",
       "      <th>ciudad</th>\n",
       "      <th>competencia</th>\n",
       "    </tr>\n",
       "  </thead>\n",
       "  <tbody>\n",
       "    <tr>\n",
       "      <th>2107</th>\n",
       "      <td>114</td>\n",
       "      <td></td>\n",
       "      <td>NaN</td>\n",
       "      <td>Madrid</td>\n",
       "      <td>True</td>\n",
       "    </tr>\n",
       "    <tr>\n",
       "      <th>1378</th>\n",
       "      <td>181</td>\n",
       "      <td></td>\n",
       "      <td>NaN</td>\n",
       "      <td>Madrid</td>\n",
       "      <td>True</td>\n",
       "    </tr>\n",
       "    <tr>\n",
       "      <th>6679</th>\n",
       "      <td>131</td>\n",
       "      <td></td>\n",
       "      <td>NaN</td>\n",
       "      <td>Madrid</td>\n",
       "      <td>True</td>\n",
       "    </tr>\n",
       "    <tr>\n",
       "      <th>5101</th>\n",
       "      <td>181</td>\n",
       "      <td></td>\n",
       "      <td>NaN</td>\n",
       "      <td>Madrid</td>\n",
       "      <td>True</td>\n",
       "    </tr>\n",
       "    <tr>\n",
       "      <th>6159</th>\n",
       "      <td>186</td>\n",
       "      <td></td>\n",
       "      <td>NaN</td>\n",
       "      <td>Madrid</td>\n",
       "      <td>True</td>\n",
       "    </tr>\n",
       "  </tbody>\n",
       "</table>\n",
       "</div>"
      ],
      "text/plain": [
       "      id_hotel nombre_hotel  estrellas  ciudad  competencia\n",
       "2107       114                     NaN  Madrid         True\n",
       "1378       181                     NaN  Madrid         True\n",
       "6679       131                     NaN  Madrid         True\n",
       "5101       181                     NaN  Madrid         True\n",
       "6159       186                     NaN  Madrid         True"
      ]
     },
     "execution_count": 34,
     "metadata": {},
     "output_type": "execute_result"
    }
   ],
   "source": [
    "competencia = df[[\"id_hotel\", \"nombre_hotel\", \"estrellas\", \"ciudad\", \"competencia\"]][df[\"competencia\"]==True]\n",
    "competencia.sample(5)"
   ]
  },
  {
   "cell_type": "code",
   "execution_count": 35,
   "metadata": {},
   "outputs": [],
   "source": [
    "# Cambiamos el nombre de la columna\n",
    "competencia.rename(columns={\"estrellas\":\"valoracion\"}, inplace=True)"
   ]
  },
  {
   "cell_type": "code",
   "execution_count": 36,
   "metadata": {},
   "outputs": [
    {
     "name": "stdout",
     "output_type": "stream",
     "text": [
      "<class 'pandas.core.frame.DataFrame'>\n",
      "Index: 5172 entries, 0 to 14998\n",
      "Data columns (total 5 columns):\n",
      " #   Column        Non-Null Count  Dtype  \n",
      "---  ------        --------------  -----  \n",
      " 0   id_hotel      5172 non-null   int64  \n",
      " 1   nombre_hotel  5172 non-null   object \n",
      " 2   valoracion    0 non-null      float64\n",
      " 3   ciudad        5172 non-null   object \n",
      " 4   competencia   5172 non-null   bool   \n",
      "dtypes: bool(1), float64(1), int64(1), object(2)\n",
      "memory usage: 207.1+ KB\n"
     ]
    }
   ],
   "source": [
    "competencia.info()"
   ]
  },
  {
   "cell_type": "code",
   "execution_count": 37,
   "metadata": {},
   "outputs": [],
   "source": [
    "ids_competencia = (competencia[\"id_hotel\"].unique()).tolist()"
   ]
  },
  {
   "cell_type": "markdown",
   "metadata": {},
   "source": [
    "Los datos que faltan los extraemos por scrapeo"
   ]
  },
  {
   "cell_type": "code",
   "execution_count": 38,
   "metadata": {},
   "outputs": [
    {
     "data": {
      "application/vnd.microsoft.datawrangler.viewer.v0+json": {
       "columns": [
        {
         "name": "index",
         "rawType": "int64",
         "type": "integer"
        },
        {
         "name": "nombre",
         "rawType": "object",
         "type": "string"
        },
        {
         "name": "valoracion",
         "rawType": "float64",
         "type": "float"
        },
        {
         "name": "precio",
         "rawType": "float64",
         "type": "float"
        },
        {
         "name": "fecha_reserva",
         "rawType": "datetime64[ns]",
         "type": "datetime"
        }
       ],
       "conversionMethod": "pd.DataFrame",
       "ref": "cf403482-1670-42bb-ae5f-abd681a4f657",
       "rows": [
        [
         "0",
         "ibis Styles Madrid Prado",
         "4.7",
         "179.0",
         "2025-02-20 00:00:00"
        ],
        [
         "1",
         "ibis budget Madrid Calle 30",
         "4.4",
         "106.0",
         "2025-02-20 00:00:00"
        ],
        [
         "2",
         "ibis Madrid Centro las Ventas",
         "4.5",
         "181.0",
         "2025-02-20 00:00:00"
        ],
        [
         "3",
         "ibis budget Madrid Centro las Ventas",
         "4.3",
         "119.0",
         "2025-02-20 00:00:00"
        ],
        [
         "4",
         "ibis budget Madrid Vallecas",
         "4.3",
         "102.0",
         "2025-02-20 00:00:00"
        ],
        [
         "5",
         "ibis Madrid Aeropuerto Barajas",
         "4.4",
         "129.0",
         "2025-02-20 00:00:00"
        ],
        [
         "6",
         "ibis Madrid Alcorcon Tresaguas",
         "4.4",
         "95.0",
         "2025-02-20 00:00:00"
        ],
        [
         "7",
         "ibis budget Madrid Aeropuerto",
         "4.0",
         "97.0",
         "2025-02-20 00:00:00"
        ],
        [
         "8",
         "ibis Madrid Alcobendas",
         "4.4",
         "89.0",
         "2025-02-20 00:00:00"
        ],
        [
         "9",
         "ibis budget Madrid Alcorcon Móstoles",
         "4.5",
         "77.0",
         "2025-02-20 00:00:00"
        ]
       ],
       "shape": {
        "columns": 4,
        "rows": 10
       }
      },
      "text/html": [
       "<div>\n",
       "<style scoped>\n",
       "    .dataframe tbody tr th:only-of-type {\n",
       "        vertical-align: middle;\n",
       "    }\n",
       "\n",
       "    .dataframe tbody tr th {\n",
       "        vertical-align: top;\n",
       "    }\n",
       "\n",
       "    .dataframe thead th {\n",
       "        text-align: right;\n",
       "    }\n",
       "</style>\n",
       "<table border=\"1\" class=\"dataframe\">\n",
       "  <thead>\n",
       "    <tr style=\"text-align: right;\">\n",
       "      <th></th>\n",
       "      <th>nombre</th>\n",
       "      <th>valoracion</th>\n",
       "      <th>precio</th>\n",
       "      <th>fecha_reserva</th>\n",
       "    </tr>\n",
       "  </thead>\n",
       "  <tbody>\n",
       "    <tr>\n",
       "      <th>0</th>\n",
       "      <td>ibis Styles Madrid Prado</td>\n",
       "      <td>4.7</td>\n",
       "      <td>179.0</td>\n",
       "      <td>2025-02-20</td>\n",
       "    </tr>\n",
       "    <tr>\n",
       "      <th>1</th>\n",
       "      <td>ibis budget Madrid Calle 30</td>\n",
       "      <td>4.4</td>\n",
       "      <td>106.0</td>\n",
       "      <td>2025-02-20</td>\n",
       "    </tr>\n",
       "    <tr>\n",
       "      <th>2</th>\n",
       "      <td>ibis Madrid Centro las Ventas</td>\n",
       "      <td>4.5</td>\n",
       "      <td>181.0</td>\n",
       "      <td>2025-02-20</td>\n",
       "    </tr>\n",
       "    <tr>\n",
       "      <th>3</th>\n",
       "      <td>ibis budget Madrid Centro las Ventas</td>\n",
       "      <td>4.3</td>\n",
       "      <td>119.0</td>\n",
       "      <td>2025-02-20</td>\n",
       "    </tr>\n",
       "    <tr>\n",
       "      <th>4</th>\n",
       "      <td>ibis budget Madrid Vallecas</td>\n",
       "      <td>4.3</td>\n",
       "      <td>102.0</td>\n",
       "      <td>2025-02-20</td>\n",
       "    </tr>\n",
       "    <tr>\n",
       "      <th>5</th>\n",
       "      <td>ibis Madrid Aeropuerto Barajas</td>\n",
       "      <td>4.4</td>\n",
       "      <td>129.0</td>\n",
       "      <td>2025-02-20</td>\n",
       "    </tr>\n",
       "    <tr>\n",
       "      <th>6</th>\n",
       "      <td>ibis Madrid Alcorcon Tresaguas</td>\n",
       "      <td>4.4</td>\n",
       "      <td>95.0</td>\n",
       "      <td>2025-02-20</td>\n",
       "    </tr>\n",
       "    <tr>\n",
       "      <th>7</th>\n",
       "      <td>ibis budget Madrid Aeropuerto</td>\n",
       "      <td>4.0</td>\n",
       "      <td>97.0</td>\n",
       "      <td>2025-02-20</td>\n",
       "    </tr>\n",
       "    <tr>\n",
       "      <th>8</th>\n",
       "      <td>ibis Madrid Alcobendas</td>\n",
       "      <td>4.4</td>\n",
       "      <td>89.0</td>\n",
       "      <td>2025-02-20</td>\n",
       "    </tr>\n",
       "    <tr>\n",
       "      <th>9</th>\n",
       "      <td>ibis budget Madrid Alcorcon Móstoles</td>\n",
       "      <td>4.5</td>\n",
       "      <td>77.0</td>\n",
       "      <td>2025-02-20</td>\n",
       "    </tr>\n",
       "  </tbody>\n",
       "</table>\n",
       "</div>"
      ],
      "text/plain": [
       "                                 nombre  valoracion  precio fecha_reserva\n",
       "0              ibis Styles Madrid Prado         4.7   179.0    2025-02-20\n",
       "1           ibis budget Madrid Calle 30         4.4   106.0    2025-02-20\n",
       "2         ibis Madrid Centro las Ventas         4.5   181.0    2025-02-20\n",
       "3  ibis budget Madrid Centro las Ventas         4.3   119.0    2025-02-20\n",
       "4           ibis budget Madrid Vallecas         4.3   102.0    2025-02-20\n",
       "5        ibis Madrid Aeropuerto Barajas         4.4   129.0    2025-02-20\n",
       "6        ibis Madrid Alcorcon Tresaguas         4.4    95.0    2025-02-20\n",
       "7         ibis budget Madrid Aeropuerto         4.0    97.0    2025-02-20\n",
       "8                ibis Madrid Alcobendas         4.4    89.0    2025-02-20\n",
       "9  ibis budget Madrid Alcorcon Móstoles         4.5    77.0    2025-02-20"
      ]
     },
     "execution_count": 38,
     "metadata": {},
     "output_type": "execute_result"
    }
   ],
   "source": [
    "info_competencia = pd.read_pickle(\"hoteles_competencia.pkl\")\n",
    "info_competencia"
   ]
  },
  {
   "cell_type": "code",
   "execution_count": 39,
   "metadata": {},
   "outputs": [
    {
     "name": "stdout",
     "output_type": "stream",
     "text": [
      "<class 'pandas.core.frame.DataFrame'>\n",
      "RangeIndex: 10 entries, 0 to 9\n",
      "Data columns (total 4 columns):\n",
      " #   Column         Non-Null Count  Dtype         \n",
      "---  ------         --------------  -----         \n",
      " 0   nombre         10 non-null     object        \n",
      " 1   valoracion     10 non-null     float64       \n",
      " 2   precio         10 non-null     float64       \n",
      " 3   fecha_reserva  10 non-null     datetime64[ns]\n",
      "dtypes: datetime64[ns](1), float64(2), object(1)\n",
      "memory usage: 452.0+ bytes\n"
     ]
    }
   ],
   "source": [
    "info_competencia.info()"
   ]
  },
  {
   "cell_type": "code",
   "execution_count": 40,
   "metadata": {},
   "outputs": [
    {
     "data": {
      "application/vnd.microsoft.datawrangler.viewer.v0+json": {
       "columns": [
        {
         "name": "index",
         "rawType": "int64",
         "type": "integer"
        },
        {
         "name": "nombre",
         "rawType": "object",
         "type": "string"
        },
        {
         "name": "valoracion",
         "rawType": "float64",
         "type": "float"
        },
        {
         "name": "precio",
         "rawType": "float64",
         "type": "float"
        },
        {
         "name": "fecha_reserva",
         "rawType": "datetime64[ns]",
         "type": "datetime"
        },
        {
         "name": "id_hotel",
         "rawType": "int64",
         "type": "integer"
        },
        {
         "name": "ciudad",
         "rawType": "object",
         "type": "string"
        }
       ],
       "conversionMethod": "pd.DataFrame",
       "ref": "91123f18-7a22-4d6e-975a-547352ced9f9",
       "rows": [
        [
         "0",
         "ibis Styles Madrid Prado",
         "4.7",
         "179.0",
         "2025-02-20 00:00:00",
         "113",
         "Madrid"
        ],
        [
         "1",
         "ibis budget Madrid Calle 30",
         "4.4",
         "106.0",
         "2025-02-20 00:00:00",
         "194",
         "Madrid"
        ],
        [
         "2",
         "ibis Madrid Centro las Ventas",
         "4.5",
         "181.0",
         "2025-02-20 00:00:00",
         "131",
         "Madrid"
        ],
        [
         "3",
         "ibis budget Madrid Centro las Ventas",
         "4.3",
         "119.0",
         "2025-02-20 00:00:00",
         "114",
         "Madrid"
        ],
        [
         "4",
         "ibis budget Madrid Vallecas",
         "4.3",
         "102.0",
         "2025-02-20 00:00:00",
         "103",
         "Madrid"
        ],
        [
         "5",
         "ibis Madrid Aeropuerto Barajas",
         "4.4",
         "129.0",
         "2025-02-20 00:00:00",
         "181",
         "Madrid"
        ],
        [
         "6",
         "ibis Madrid Alcorcon Tresaguas",
         "4.4",
         "95.0",
         "2025-02-20 00:00:00",
         "128",
         "Madrid"
        ],
        [
         "7",
         "ibis budget Madrid Aeropuerto",
         "4.0",
         "97.0",
         "2025-02-20 00:00:00",
         "186",
         "Madrid"
        ],
        [
         "8",
         "ibis Madrid Alcobendas",
         "4.4",
         "89.0",
         "2025-02-20 00:00:00",
         "135",
         "Madrid"
        ],
        [
         "9",
         "ibis budget Madrid Alcorcon Móstoles",
         "4.5",
         "77.0",
         "2025-02-20 00:00:00",
         "117",
         "Madrid"
        ]
       ],
       "shape": {
        "columns": 6,
        "rows": 10
       }
      },
      "text/html": [
       "<div>\n",
       "<style scoped>\n",
       "    .dataframe tbody tr th:only-of-type {\n",
       "        vertical-align: middle;\n",
       "    }\n",
       "\n",
       "    .dataframe tbody tr th {\n",
       "        vertical-align: top;\n",
       "    }\n",
       "\n",
       "    .dataframe thead th {\n",
       "        text-align: right;\n",
       "    }\n",
       "</style>\n",
       "<table border=\"1\" class=\"dataframe\">\n",
       "  <thead>\n",
       "    <tr style=\"text-align: right;\">\n",
       "      <th></th>\n",
       "      <th>nombre</th>\n",
       "      <th>valoracion</th>\n",
       "      <th>precio</th>\n",
       "      <th>fecha_reserva</th>\n",
       "      <th>id_hotel</th>\n",
       "      <th>ciudad</th>\n",
       "    </tr>\n",
       "  </thead>\n",
       "  <tbody>\n",
       "    <tr>\n",
       "      <th>0</th>\n",
       "      <td>ibis Styles Madrid Prado</td>\n",
       "      <td>4.7</td>\n",
       "      <td>179.0</td>\n",
       "      <td>2025-02-20</td>\n",
       "      <td>113</td>\n",
       "      <td>Madrid</td>\n",
       "    </tr>\n",
       "    <tr>\n",
       "      <th>1</th>\n",
       "      <td>ibis budget Madrid Calle 30</td>\n",
       "      <td>4.4</td>\n",
       "      <td>106.0</td>\n",
       "      <td>2025-02-20</td>\n",
       "      <td>194</td>\n",
       "      <td>Madrid</td>\n",
       "    </tr>\n",
       "    <tr>\n",
       "      <th>2</th>\n",
       "      <td>ibis Madrid Centro las Ventas</td>\n",
       "      <td>4.5</td>\n",
       "      <td>181.0</td>\n",
       "      <td>2025-02-20</td>\n",
       "      <td>131</td>\n",
       "      <td>Madrid</td>\n",
       "    </tr>\n",
       "    <tr>\n",
       "      <th>3</th>\n",
       "      <td>ibis budget Madrid Centro las Ventas</td>\n",
       "      <td>4.3</td>\n",
       "      <td>119.0</td>\n",
       "      <td>2025-02-20</td>\n",
       "      <td>114</td>\n",
       "      <td>Madrid</td>\n",
       "    </tr>\n",
       "    <tr>\n",
       "      <th>4</th>\n",
       "      <td>ibis budget Madrid Vallecas</td>\n",
       "      <td>4.3</td>\n",
       "      <td>102.0</td>\n",
       "      <td>2025-02-20</td>\n",
       "      <td>103</td>\n",
       "      <td>Madrid</td>\n",
       "    </tr>\n",
       "    <tr>\n",
       "      <th>5</th>\n",
       "      <td>ibis Madrid Aeropuerto Barajas</td>\n",
       "      <td>4.4</td>\n",
       "      <td>129.0</td>\n",
       "      <td>2025-02-20</td>\n",
       "      <td>181</td>\n",
       "      <td>Madrid</td>\n",
       "    </tr>\n",
       "    <tr>\n",
       "      <th>6</th>\n",
       "      <td>ibis Madrid Alcorcon Tresaguas</td>\n",
       "      <td>4.4</td>\n",
       "      <td>95.0</td>\n",
       "      <td>2025-02-20</td>\n",
       "      <td>128</td>\n",
       "      <td>Madrid</td>\n",
       "    </tr>\n",
       "    <tr>\n",
       "      <th>7</th>\n",
       "      <td>ibis budget Madrid Aeropuerto</td>\n",
       "      <td>4.0</td>\n",
       "      <td>97.0</td>\n",
       "      <td>2025-02-20</td>\n",
       "      <td>186</td>\n",
       "      <td>Madrid</td>\n",
       "    </tr>\n",
       "    <tr>\n",
       "      <th>8</th>\n",
       "      <td>ibis Madrid Alcobendas</td>\n",
       "      <td>4.4</td>\n",
       "      <td>89.0</td>\n",
       "      <td>2025-02-20</td>\n",
       "      <td>135</td>\n",
       "      <td>Madrid</td>\n",
       "    </tr>\n",
       "    <tr>\n",
       "      <th>9</th>\n",
       "      <td>ibis budget Madrid Alcorcon Móstoles</td>\n",
       "      <td>4.5</td>\n",
       "      <td>77.0</td>\n",
       "      <td>2025-02-20</td>\n",
       "      <td>117</td>\n",
       "      <td>Madrid</td>\n",
       "    </tr>\n",
       "  </tbody>\n",
       "</table>\n",
       "</div>"
      ],
      "text/plain": [
       "                                 nombre  valoracion  precio fecha_reserva  \\\n",
       "0              ibis Styles Madrid Prado         4.7   179.0    2025-02-20   \n",
       "1           ibis budget Madrid Calle 30         4.4   106.0    2025-02-20   \n",
       "2         ibis Madrid Centro las Ventas         4.5   181.0    2025-02-20   \n",
       "3  ibis budget Madrid Centro las Ventas         4.3   119.0    2025-02-20   \n",
       "4           ibis budget Madrid Vallecas         4.3   102.0    2025-02-20   \n",
       "5        ibis Madrid Aeropuerto Barajas         4.4   129.0    2025-02-20   \n",
       "6        ibis Madrid Alcorcon Tresaguas         4.4    95.0    2025-02-20   \n",
       "7         ibis budget Madrid Aeropuerto         4.0    97.0    2025-02-20   \n",
       "8                ibis Madrid Alcobendas         4.4    89.0    2025-02-20   \n",
       "9  ibis budget Madrid Alcorcon Móstoles         4.5    77.0    2025-02-20   \n",
       "\n",
       "   id_hotel  ciudad  \n",
       "0       113  Madrid  \n",
       "1       194  Madrid  \n",
       "2       131  Madrid  \n",
       "3       114  Madrid  \n",
       "4       103  Madrid  \n",
       "5       181  Madrid  \n",
       "6       128  Madrid  \n",
       "7       186  Madrid  \n",
       "8       135  Madrid  \n",
       "9       117  Madrid  "
      ]
     },
     "execution_count": 40,
     "metadata": {},
     "output_type": "execute_result"
    }
   ],
   "source": [
    "info_competencia[\"id_hotel\"] = ids_competencia\n",
    "info_competencia[\"ciudad\"] = \"Madrid\"\n",
    "info_competencia"
   ]
  },
  {
   "cell_type": "code",
   "execution_count": 41,
   "metadata": {},
   "outputs": [
    {
     "name": "stdout",
     "output_type": "stream",
     "text": [
      "<class 'pandas.core.frame.DataFrame'>\n",
      "RangeIndex: 10 entries, 0 to 9\n",
      "Data columns (total 6 columns):\n",
      " #   Column         Non-Null Count  Dtype         \n",
      "---  ------         --------------  -----         \n",
      " 0   nombre         10 non-null     object        \n",
      " 1   valoracion     10 non-null     float64       \n",
      " 2   precio         10 non-null     float64       \n",
      " 3   fecha_reserva  10 non-null     datetime64[ns]\n",
      " 4   id_hotel       10 non-null     int64         \n",
      " 5   ciudad         10 non-null     object        \n",
      "dtypes: datetime64[ns](1), float64(2), int64(1), object(2)\n",
      "memory usage: 612.0+ bytes\n"
     ]
    }
   ],
   "source": [
    "info_competencia.info()"
   ]
  },
  {
   "cell_type": "code",
   "execution_count": 42,
   "metadata": {},
   "outputs": [
    {
     "name": "stderr",
     "output_type": "stream",
     "text": [
      "C:\\Users\\marta\\AppData\\Local\\Temp\\ipykernel_20052\\244128482.py:2: SettingWithCopyWarning: \n",
      "A value is trying to be set on a copy of a slice from a DataFrame.\n",
      "Try using .loc[row_indexer,col_indexer] = value instead\n",
      "\n",
      "See the caveats in the documentation: https://pandas.pydata.org/pandas-docs/stable/user_guide/indexing.html#returning-a-view-versus-a-copy\n",
      "  df_competencia[\"competencia\"] = True\n",
      "C:\\Users\\marta\\AppData\\Local\\Temp\\ipykernel_20052\\244128482.py:3: SettingWithCopyWarning: \n",
      "A value is trying to be set on a copy of a slice from a DataFrame\n",
      "\n",
      "See the caveats in the documentation: https://pandas.pydata.org/pandas-docs/stable/user_guide/indexing.html#returning-a-view-versus-a-copy\n",
      "  df_competencia.rename(columns={\"nombre\" : \"nombre_hotel\"}, inplace = True)\n"
     ]
    },
    {
     "data": {
      "application/vnd.microsoft.datawrangler.viewer.v0+json": {
       "columns": [
        {
         "name": "index",
         "rawType": "int64",
         "type": "integer"
        },
        {
         "name": "id_hotel",
         "rawType": "int64",
         "type": "integer"
        },
        {
         "name": "nombre_hotel",
         "rawType": "object",
         "type": "string"
        },
        {
         "name": "valoracion",
         "rawType": "float64",
         "type": "float"
        },
        {
         "name": "ciudad",
         "rawType": "object",
         "type": "string"
        },
        {
         "name": "competencia",
         "rawType": "bool",
         "type": "boolean"
        }
       ],
       "conversionMethod": "pd.DataFrame",
       "ref": "9772e252-e9b4-402c-b034-4c9882dfcc52",
       "rows": [
        [
         "0",
         "113",
         "ibis Styles Madrid Prado",
         "4.7",
         "Madrid",
         "True"
        ],
        [
         "1",
         "194",
         "ibis budget Madrid Calle 30",
         "4.4",
         "Madrid",
         "True"
        ],
        [
         "2",
         "131",
         "ibis Madrid Centro las Ventas",
         "4.5",
         "Madrid",
         "True"
        ],
        [
         "3",
         "114",
         "ibis budget Madrid Centro las Ventas",
         "4.3",
         "Madrid",
         "True"
        ],
        [
         "4",
         "103",
         "ibis budget Madrid Vallecas",
         "4.3",
         "Madrid",
         "True"
        ],
        [
         "5",
         "181",
         "ibis Madrid Aeropuerto Barajas",
         "4.4",
         "Madrid",
         "True"
        ],
        [
         "6",
         "128",
         "ibis Madrid Alcorcon Tresaguas",
         "4.4",
         "Madrid",
         "True"
        ],
        [
         "7",
         "186",
         "ibis budget Madrid Aeropuerto",
         "4.0",
         "Madrid",
         "True"
        ],
        [
         "8",
         "135",
         "ibis Madrid Alcobendas",
         "4.4",
         "Madrid",
         "True"
        ],
        [
         "9",
         "117",
         "ibis budget Madrid Alcorcon Móstoles",
         "4.5",
         "Madrid",
         "True"
        ]
       ],
       "shape": {
        "columns": 5,
        "rows": 10
       }
      },
      "text/html": [
       "<div>\n",
       "<style scoped>\n",
       "    .dataframe tbody tr th:only-of-type {\n",
       "        vertical-align: middle;\n",
       "    }\n",
       "\n",
       "    .dataframe tbody tr th {\n",
       "        vertical-align: top;\n",
       "    }\n",
       "\n",
       "    .dataframe thead th {\n",
       "        text-align: right;\n",
       "    }\n",
       "</style>\n",
       "<table border=\"1\" class=\"dataframe\">\n",
       "  <thead>\n",
       "    <tr style=\"text-align: right;\">\n",
       "      <th></th>\n",
       "      <th>id_hotel</th>\n",
       "      <th>nombre_hotel</th>\n",
       "      <th>valoracion</th>\n",
       "      <th>ciudad</th>\n",
       "      <th>competencia</th>\n",
       "    </tr>\n",
       "  </thead>\n",
       "  <tbody>\n",
       "    <tr>\n",
       "      <th>0</th>\n",
       "      <td>113</td>\n",
       "      <td>ibis Styles Madrid Prado</td>\n",
       "      <td>4.7</td>\n",
       "      <td>Madrid</td>\n",
       "      <td>True</td>\n",
       "    </tr>\n",
       "    <tr>\n",
       "      <th>1</th>\n",
       "      <td>194</td>\n",
       "      <td>ibis budget Madrid Calle 30</td>\n",
       "      <td>4.4</td>\n",
       "      <td>Madrid</td>\n",
       "      <td>True</td>\n",
       "    </tr>\n",
       "    <tr>\n",
       "      <th>2</th>\n",
       "      <td>131</td>\n",
       "      <td>ibis Madrid Centro las Ventas</td>\n",
       "      <td>4.5</td>\n",
       "      <td>Madrid</td>\n",
       "      <td>True</td>\n",
       "    </tr>\n",
       "    <tr>\n",
       "      <th>3</th>\n",
       "      <td>114</td>\n",
       "      <td>ibis budget Madrid Centro las Ventas</td>\n",
       "      <td>4.3</td>\n",
       "      <td>Madrid</td>\n",
       "      <td>True</td>\n",
       "    </tr>\n",
       "    <tr>\n",
       "      <th>4</th>\n",
       "      <td>103</td>\n",
       "      <td>ibis budget Madrid Vallecas</td>\n",
       "      <td>4.3</td>\n",
       "      <td>Madrid</td>\n",
       "      <td>True</td>\n",
       "    </tr>\n",
       "    <tr>\n",
       "      <th>5</th>\n",
       "      <td>181</td>\n",
       "      <td>ibis Madrid Aeropuerto Barajas</td>\n",
       "      <td>4.4</td>\n",
       "      <td>Madrid</td>\n",
       "      <td>True</td>\n",
       "    </tr>\n",
       "    <tr>\n",
       "      <th>6</th>\n",
       "      <td>128</td>\n",
       "      <td>ibis Madrid Alcorcon Tresaguas</td>\n",
       "      <td>4.4</td>\n",
       "      <td>Madrid</td>\n",
       "      <td>True</td>\n",
       "    </tr>\n",
       "    <tr>\n",
       "      <th>7</th>\n",
       "      <td>186</td>\n",
       "      <td>ibis budget Madrid Aeropuerto</td>\n",
       "      <td>4.0</td>\n",
       "      <td>Madrid</td>\n",
       "      <td>True</td>\n",
       "    </tr>\n",
       "    <tr>\n",
       "      <th>8</th>\n",
       "      <td>135</td>\n",
       "      <td>ibis Madrid Alcobendas</td>\n",
       "      <td>4.4</td>\n",
       "      <td>Madrid</td>\n",
       "      <td>True</td>\n",
       "    </tr>\n",
       "    <tr>\n",
       "      <th>9</th>\n",
       "      <td>117</td>\n",
       "      <td>ibis budget Madrid Alcorcon Móstoles</td>\n",
       "      <td>4.5</td>\n",
       "      <td>Madrid</td>\n",
       "      <td>True</td>\n",
       "    </tr>\n",
       "  </tbody>\n",
       "</table>\n",
       "</div>"
      ],
      "text/plain": [
       "   id_hotel                          nombre_hotel  valoracion  ciudad  \\\n",
       "0       113              ibis Styles Madrid Prado         4.7  Madrid   \n",
       "1       194           ibis budget Madrid Calle 30         4.4  Madrid   \n",
       "2       131         ibis Madrid Centro las Ventas         4.5  Madrid   \n",
       "3       114  ibis budget Madrid Centro las Ventas         4.3  Madrid   \n",
       "4       103           ibis budget Madrid Vallecas         4.3  Madrid   \n",
       "5       181        ibis Madrid Aeropuerto Barajas         4.4  Madrid   \n",
       "6       128        ibis Madrid Alcorcon Tresaguas         4.4  Madrid   \n",
       "7       186         ibis budget Madrid Aeropuerto         4.0  Madrid   \n",
       "8       135                ibis Madrid Alcobendas         4.4  Madrid   \n",
       "9       117  ibis budget Madrid Alcorcon Móstoles         4.5  Madrid   \n",
       "\n",
       "   competencia  \n",
       "0         True  \n",
       "1         True  \n",
       "2         True  \n",
       "3         True  \n",
       "4         True  \n",
       "5         True  \n",
       "6         True  \n",
       "7         True  \n",
       "8         True  \n",
       "9         True  "
      ]
     },
     "execution_count": 42,
     "metadata": {},
     "output_type": "execute_result"
    }
   ],
   "source": [
    "df_competencia = info_competencia[[\"id_hotel\", \"nombre\", \"valoracion\", \"ciudad\"]]\n",
    "df_competencia[\"competencia\"] = True\n",
    "df_competencia.rename(columns={\"nombre\" : \"nombre_hotel\"}, inplace = True)\n",
    "df_competencia"
   ]
  },
  {
   "cell_type": "code",
   "execution_count": 43,
   "metadata": {},
   "outputs": [
    {
     "name": "stdout",
     "output_type": "stream",
     "text": [
      "<class 'pandas.core.frame.DataFrame'>\n",
      "RangeIndex: 10 entries, 0 to 9\n",
      "Data columns (total 5 columns):\n",
      " #   Column        Non-Null Count  Dtype  \n",
      "---  ------        --------------  -----  \n",
      " 0   id_hotel      10 non-null     int64  \n",
      " 1   nombre_hotel  10 non-null     object \n",
      " 2   valoracion    10 non-null     float64\n",
      " 3   ciudad        10 non-null     object \n",
      " 4   competencia   10 non-null     bool   \n",
      "dtypes: bool(1), float64(1), int64(1), object(2)\n",
      "memory usage: 462.0+ bytes\n"
     ]
    }
   ],
   "source": [
    "df_competencia.info()"
   ]
  },
  {
   "cell_type": "code",
   "execution_count": 44,
   "metadata": {},
   "outputs": [
    {
     "name": "stdout",
     "output_type": "stream",
     "text": [
      "<class 'pandas.core.frame.DataFrame'>\n",
      "Index: 9838 entries, 2 to 9\n",
      "Data columns (total 5 columns):\n",
      " #   Column        Non-Null Count  Dtype  \n",
      "---  ------        --------------  -----  \n",
      " 0   id_hotel      9838 non-null   int64  \n",
      " 1   nombre_hotel  9838 non-null   object \n",
      " 2   valoracion    9838 non-null   float64\n",
      " 3   ciudad        9838 non-null   object \n",
      " 4   competencia   9838 non-null   bool   \n",
      "dtypes: bool(1), float64(1), int64(1), object(2)\n",
      "memory usage: 393.9+ KB\n"
     ]
    }
   ],
   "source": [
    "#unimos los dos dataframes de hoteles\n",
    "df_hoteles = pd.concat([df_propios, df_competencia], axis = 0)\n",
    "df_hoteles.info()"
   ]
  },
  {
   "cell_type": "code",
   "execution_count": 45,
   "metadata": {},
   "outputs": [],
   "source": [
    "valoracion_hoteles = generar_mapa(\"nombre_hotel\", \"valoracion\", df_hoteles)\n",
    "nombres_id_hoteles = generar_mapa(\"nombre_hotel\", \"id_hotel\", df_hoteles)\n",
    "nombres_competencia = generar_mapa(\"id_hotel\", \"nombre_hotel\", df_competencia)\n",
    "precios_competencia = generar_mapa(\"nombre\", \"precio\", info_competencia)"
   ]
  },
  {
   "cell_type": "markdown",
   "metadata": {},
   "source": [
    "## Clientes"
   ]
  },
  {
   "cell_type": "markdown",
   "metadata": {},
   "source": [
    "Como podemos tener dos clientes con el mismo nombre, tomaremos el mail de cliente como el valor único de cliente. Es posible que tengamos un mismo cliente que haya hecho vrias reservas, por lo que encontrar el mismo id_cliente varias veces tampoco indicaría error. Vamos a comprobar si el número de valores únicos de id_cliente se corresponde con el número de valores únicos de mail. De no ser así, podría indicar un error en la asignación de id_cliente que debemos corregir"
   ]
  },
  {
   "cell_type": "code",
   "execution_count": 46,
   "metadata": {},
   "outputs": [
    {
     "data": {
      "text/plain": [
       "14847"
      ]
     },
     "execution_count": 46,
     "metadata": {},
     "output_type": "execute_result"
    }
   ],
   "source": [
    "df[\"id_cliente\"].nunique()"
   ]
  },
  {
   "cell_type": "code",
   "execution_count": 47,
   "metadata": {},
   "outputs": [
    {
     "data": {
      "text/plain": [
       "14905"
      ]
     },
     "execution_count": 47,
     "metadata": {},
     "output_type": "execute_result"
    }
   ],
   "source": [
    "df[\"mail\"].nunique()"
   ]
  },
  {
   "cell_type": "markdown",
   "metadata": {},
   "source": [
    "Vemos que hay más valores de mail que de id_cliente, lo que sugiere que más de un cliente tiene el mismo id. Vamos a corregir el id de la misma forma que hemos corregido los id_hotel."
   ]
  },
  {
   "cell_type": "code",
   "execution_count": 48,
   "metadata": {},
   "outputs": [
    {
     "data": {
      "application/vnd.microsoft.datawrangler.viewer.v0+json": {
       "columns": [
        {
         "name": "index",
         "rawType": "int64",
         "type": "integer"
        },
        {
         "name": "id_cliente",
         "rawType": "object",
         "type": "string"
        },
        {
         "name": "nombre",
         "rawType": "object",
         "type": "string"
        },
        {
         "name": "apellido",
         "rawType": "object",
         "type": "string"
        },
        {
         "name": "mail",
         "rawType": "object",
         "type": "string"
        }
       ],
       "conversionMethod": "pd.DataFrame",
       "ref": "9beed24d-269b-470d-9059-67e6f5aa3d33",
       "rows": [
        [
         "6373",
         "46ba268f-97fd-474d-911a-3b0f8ca76098",
         "Leocadia",
         "Machado",
         "leocadia.machado@example.com"
        ],
        [
         "6962",
         "0c3bdb30-5865-43b9-aeae-d925d2aa0968",
         "Marciano",
         "Peñas",
         "marciano.peñas@example.com"
        ],
        [
         "13468",
         "bbc263e0-b922-433f-ac24-9ad860dc4d90",
         "Dominga",
         "Clavero",
         "dominga.clavero@example.com"
        ],
        [
         "11439",
         "38a72a6c-ac3a-46e7-87bb-69c25fc757ed",
         "Rebeca",
         "Estevez",
         "rebeca.estevez@example.com"
        ],
        [
         "13407",
         "0318460a-5f3a-4a9f-bf2a-befd45f8d936",
         "Nidia",
         "Escrivá",
         "nidia.escrivá@example.com"
        ]
       ],
       "shape": {
        "columns": 4,
        "rows": 5
       }
      },
      "text/html": [
       "<div>\n",
       "<style scoped>\n",
       "    .dataframe tbody tr th:only-of-type {\n",
       "        vertical-align: middle;\n",
       "    }\n",
       "\n",
       "    .dataframe tbody tr th {\n",
       "        vertical-align: top;\n",
       "    }\n",
       "\n",
       "    .dataframe thead th {\n",
       "        text-align: right;\n",
       "    }\n",
       "</style>\n",
       "<table border=\"1\" class=\"dataframe\">\n",
       "  <thead>\n",
       "    <tr style=\"text-align: right;\">\n",
       "      <th></th>\n",
       "      <th>id_cliente</th>\n",
       "      <th>nombre</th>\n",
       "      <th>apellido</th>\n",
       "      <th>mail</th>\n",
       "    </tr>\n",
       "  </thead>\n",
       "  <tbody>\n",
       "    <tr>\n",
       "      <th>6373</th>\n",
       "      <td>46ba268f-97fd-474d-911a-3b0f8ca76098</td>\n",
       "      <td>Leocadia</td>\n",
       "      <td>Machado</td>\n",
       "      <td>leocadia.machado@example.com</td>\n",
       "    </tr>\n",
       "    <tr>\n",
       "      <th>6962</th>\n",
       "      <td>0c3bdb30-5865-43b9-aeae-d925d2aa0968</td>\n",
       "      <td>Marciano</td>\n",
       "      <td>Peñas</td>\n",
       "      <td>marciano.peñas@example.com</td>\n",
       "    </tr>\n",
       "    <tr>\n",
       "      <th>13468</th>\n",
       "      <td>bbc263e0-b922-433f-ac24-9ad860dc4d90</td>\n",
       "      <td>Dominga</td>\n",
       "      <td>Clavero</td>\n",
       "      <td>dominga.clavero@example.com</td>\n",
       "    </tr>\n",
       "    <tr>\n",
       "      <th>11439</th>\n",
       "      <td>38a72a6c-ac3a-46e7-87bb-69c25fc757ed</td>\n",
       "      <td>Rebeca</td>\n",
       "      <td>Estevez</td>\n",
       "      <td>rebeca.estevez@example.com</td>\n",
       "    </tr>\n",
       "    <tr>\n",
       "      <th>13407</th>\n",
       "      <td>0318460a-5f3a-4a9f-bf2a-befd45f8d936</td>\n",
       "      <td>Nidia</td>\n",
       "      <td>Escrivá</td>\n",
       "      <td>nidia.escrivá@example.com</td>\n",
       "    </tr>\n",
       "  </tbody>\n",
       "</table>\n",
       "</div>"
      ],
      "text/plain": [
       "                                 id_cliente    nombre apellido  \\\n",
       "6373   46ba268f-97fd-474d-911a-3b0f8ca76098  Leocadia  Machado   \n",
       "6962   0c3bdb30-5865-43b9-aeae-d925d2aa0968  Marciano    Peñas   \n",
       "13468  bbc263e0-b922-433f-ac24-9ad860dc4d90   Dominga  Clavero   \n",
       "11439  38a72a6c-ac3a-46e7-87bb-69c25fc757ed    Rebeca  Estevez   \n",
       "13407  0318460a-5f3a-4a9f-bf2a-befd45f8d936     Nidia  Escrivá   \n",
       "\n",
       "                               mail  \n",
       "6373   leocadia.machado@example.com  \n",
       "6962     marciano.peñas@example.com  \n",
       "13468   dominga.clavero@example.com  \n",
       "11439    rebeca.estevez@example.com  \n",
       "13407     nidia.escrivá@example.com  "
      ]
     },
     "execution_count": 48,
     "metadata": {},
     "output_type": "execute_result"
    }
   ],
   "source": [
    "df_clientes = df[[\"id_cliente\", \"nombre\", \"apellido\", \"mail\"]]\n",
    "df_clientes.sample(5)"
   ]
  },
  {
   "cell_type": "code",
   "execution_count": 49,
   "metadata": {},
   "outputs": [],
   "source": [
    "mails=df_clientes[\"mail\"].unique()"
   ]
  },
  {
   "cell_type": "code",
   "execution_count": 50,
   "metadata": {},
   "outputs": [],
   "source": [
    "mailcliente=[]\n",
    "idcliente=[]\n",
    "for mail in enumerate(mails, start=1):\n",
    "    mailcliente.append(mail[1])\n",
    "    idcliente.append(f\"cliente_{mail[0]}\")\n",
    "mail_cliente = dict(zip(mailcliente, idcliente))"
   ]
  },
  {
   "cell_type": "code",
   "execution_count": 51,
   "metadata": {},
   "outputs": [
    {
     "data": {
      "application/vnd.microsoft.datawrangler.viewer.v0+json": {
       "columns": [
        {
         "name": "index",
         "rawType": "int64",
         "type": "integer"
        },
        {
         "name": "id_cliente",
         "rawType": "object",
         "type": "string"
        },
        {
         "name": "nombre",
         "rawType": "object",
         "type": "string"
        },
        {
         "name": "apellido",
         "rawType": "object",
         "type": "string"
        },
        {
         "name": "mail",
         "rawType": "object",
         "type": "string"
        }
       ],
       "conversionMethod": "pd.DataFrame",
       "ref": "0db00362-83cc-407e-b393-64f553b6b4bf",
       "rows": [
        [
         "13577",
         "cliente_13501",
         "Clemente",
         "Mínguez",
         "clemente.mínguez@example.com"
        ],
        [
         "14184",
         "cliente_14100",
         "Eufemia",
         "Gallo",
         "eufemia.gallo@example.com"
        ],
        [
         "9697",
         "cliente_9658",
         "Gil",
         "Bartolomé",
         "gil.bartolomé@example.com"
        ],
        [
         "3662",
         "cliente_3658",
         "Paco",
         "Rius",
         "paco.rius@example.com"
        ],
        [
         "6815",
         "cliente_6794",
         "Celso",
         "Elorza",
         "celso.elorza@example.com"
        ]
       ],
       "shape": {
        "columns": 4,
        "rows": 5
       }
      },
      "text/html": [
       "<div>\n",
       "<style scoped>\n",
       "    .dataframe tbody tr th:only-of-type {\n",
       "        vertical-align: middle;\n",
       "    }\n",
       "\n",
       "    .dataframe tbody tr th {\n",
       "        vertical-align: top;\n",
       "    }\n",
       "\n",
       "    .dataframe thead th {\n",
       "        text-align: right;\n",
       "    }\n",
       "</style>\n",
       "<table border=\"1\" class=\"dataframe\">\n",
       "  <thead>\n",
       "    <tr style=\"text-align: right;\">\n",
       "      <th></th>\n",
       "      <th>id_cliente</th>\n",
       "      <th>nombre</th>\n",
       "      <th>apellido</th>\n",
       "      <th>mail</th>\n",
       "    </tr>\n",
       "  </thead>\n",
       "  <tbody>\n",
       "    <tr>\n",
       "      <th>13577</th>\n",
       "      <td>cliente_13501</td>\n",
       "      <td>Clemente</td>\n",
       "      <td>Mínguez</td>\n",
       "      <td>clemente.mínguez@example.com</td>\n",
       "    </tr>\n",
       "    <tr>\n",
       "      <th>14184</th>\n",
       "      <td>cliente_14100</td>\n",
       "      <td>Eufemia</td>\n",
       "      <td>Gallo</td>\n",
       "      <td>eufemia.gallo@example.com</td>\n",
       "    </tr>\n",
       "    <tr>\n",
       "      <th>9697</th>\n",
       "      <td>cliente_9658</td>\n",
       "      <td>Gil</td>\n",
       "      <td>Bartolomé</td>\n",
       "      <td>gil.bartolomé@example.com</td>\n",
       "    </tr>\n",
       "    <tr>\n",
       "      <th>3662</th>\n",
       "      <td>cliente_3658</td>\n",
       "      <td>Paco</td>\n",
       "      <td>Rius</td>\n",
       "      <td>paco.rius@example.com</td>\n",
       "    </tr>\n",
       "    <tr>\n",
       "      <th>6815</th>\n",
       "      <td>cliente_6794</td>\n",
       "      <td>Celso</td>\n",
       "      <td>Elorza</td>\n",
       "      <td>celso.elorza@example.com</td>\n",
       "    </tr>\n",
       "  </tbody>\n",
       "</table>\n",
       "</div>"
      ],
      "text/plain": [
       "          id_cliente    nombre   apellido                          mail\n",
       "13577  cliente_13501  Clemente    Mínguez  clemente.mínguez@example.com\n",
       "14184  cliente_14100   Eufemia      Gallo     eufemia.gallo@example.com\n",
       "9697    cliente_9658       Gil  Bartolomé     gil.bartolomé@example.com\n",
       "3662    cliente_3658      Paco       Rius         paco.rius@example.com\n",
       "6815    cliente_6794     Celso     Elorza      celso.elorza@example.com"
      ]
     },
     "execution_count": 51,
     "metadata": {},
     "output_type": "execute_result"
    }
   ],
   "source": [
    "df_clientes.loc[:, \"id_cliente\"] = df_clientes[\"mail\"].map(mail_cliente)\n",
    "df_clientes.sample(5)"
   ]
  },
  {
   "cell_type": "markdown",
   "metadata": {},
   "source": [
    "## Reservas"
   ]
  },
  {
   "cell_type": "code",
   "execution_count": 52,
   "metadata": {},
   "outputs": [],
   "source": [
    "# Renombramos la columna estrellas por valoracion\n",
    "df.rename(columns = {\"estrellas\": \"valoracion\"}, inplace = True)\n",
    "#df.rename(columns = {\"estrellas\": \"ESTRELLAS\", \"id_hotel\" : \"ID_HOTEL\", \"nombre_hotel\": \"NOMBRE_HOTEL\", \"precio_noche\": \"PRECIO\"}, inplace =  True)"
   ]
  },
  {
   "cell_type": "code",
   "execution_count": 53,
   "metadata": {},
   "outputs": [],
   "source": [
    "# La fecha de reserva para los hoteles de la competencia es la del scrapeo. Lo actualizamos\n",
    "df.loc[df[\"competencia\"]==True, \"fecha_reserva\"] = info_competencia[\"fecha_reserva\"][0]\n",
    "df[\"id_cliente\"] = df[\"mail\"].map(mail_cliente)\n",
    "df.loc[df[\"competencia\"]==False, \"id_hotel\"] = df[\"nombre_hotel\"].map(hoteles_propios)\n",
    "df.loc[df[\"competencia\"] == True, \"nombre_hotel\"] = df[\"id_hotel\"].map(nombres_competencia)\n",
    "df.loc[df[\"competencia\"] == True, \"precio_noche\"] = df[\"nombre_hotel\"].map(precios_competencia)\n",
    "df[\"valoracion\"] = df[\"nombre_hotel\"].map(valoracion_hoteles)"
   ]
  },
  {
   "cell_type": "code",
   "execution_count": 54,
   "metadata": {},
   "outputs": [
    {
     "data": {
      "application/vnd.microsoft.datawrangler.viewer.v0+json": {
       "columns": [
        {
         "name": "index",
         "rawType": "int64",
         "type": "integer"
        },
        {
         "name": "id_reserva",
         "rawType": "object",
         "type": "string"
        },
        {
         "name": "id_cliente",
         "rawType": "object",
         "type": "string"
        },
        {
         "name": "nombre",
         "rawType": "object",
         "type": "string"
        },
        {
         "name": "apellido",
         "rawType": "object",
         "type": "string"
        },
        {
         "name": "mail",
         "rawType": "object",
         "type": "string"
        },
        {
         "name": "competencia",
         "rawType": "bool",
         "type": "boolean"
        },
        {
         "name": "fecha_reserva",
         "rawType": "datetime64[ns]",
         "type": "datetime"
        },
        {
         "name": "inicio_estancia",
         "rawType": "datetime64[ns]",
         "type": "datetime"
        },
        {
         "name": "final_estancia",
         "rawType": "datetime64[ns]",
         "type": "datetime"
        },
        {
         "name": "id_hotel",
         "rawType": "int64",
         "type": "integer"
        },
        {
         "name": "precio_noche",
         "rawType": "float64",
         "type": "float"
        },
        {
         "name": "nombre_hotel",
         "rawType": "object",
         "type": "string"
        },
        {
         "name": "valoracion",
         "rawType": "float64",
         "type": "float"
        },
        {
         "name": "ciudad",
         "rawType": "object",
         "type": "string"
        }
       ],
       "conversionMethod": "pd.DataFrame",
       "ref": "79bce39b-dadd-4a1c-8a84-d7a3f877eab6",
       "rows": [
        [
         "3472",
         "6fcdd18d-6f55-472b-a340-4d0d7c479570",
         "cliente_3468",
         "Rómulo",
         "Uría",
         "rómulo.uría@example.com",
         "False",
         "2025-02-09 00:00:00",
         "2025-03-01 00:00:00",
         "2025-03-02 00:00:00",
         "4",
         "204.06",
         "Hotel Puerta del Cielo",
         "3.0",
         "Madrid"
        ],
        [
         "9263",
         "b0181813-63cf-4070-9683-7b78328bfc52",
         "cliente_9227",
         "Isaac",
         "Cerezo",
         "isaac.cerezo@example.com",
         "False",
         "2025-02-09 00:00:00",
         "2025-03-01 00:00:00",
         "2025-03-02 00:00:00",
         "10",
         null,
         "Hotel Torre Dorada",
         "2.9",
         "Madrid"
        ],
        [
         "3463",
         "ffa8ee27-05a2-437a-a297-8c1240d3145b",
         "cliente_3459",
         "Fabio",
         "Arranz",
         "fabio.arranz@example.com",
         "True",
         "2025-02-20 00:00:00",
         "2025-03-01 00:00:00",
         "2025-03-02 00:00:00",
         "135",
         "89.0",
         "ibis Madrid Alcobendas",
         "4.4",
         "Madrid"
        ],
        [
         "5982",
         "e9b956ee-5e5b-45e0-851e-939fbb055657",
         "cliente_5967",
         "Marcia",
         "Garcia",
         "marcia.garcia@example.com",
         "False",
         "2025-02-02 00:00:00",
         "2025-03-01 00:00:00",
         "2025-03-02 00:00:00",
         "8",
         "131.78",
         "Hotel Las Estrellas",
         "2.9",
         "Madrid"
        ],
        [
         "5600",
         "e0d1382d-68cb-4586-abc8-6377b71936ed",
         "cliente_5589",
         "Eloísa",
         "Juan",
         "eloísa.juan@example.com",
         "False",
         "2025-02-02 00:00:00",
         "2025-03-01 00:00:00",
         "2025-03-02 00:00:00",
         "8",
         "436.0",
         "Hotel Las Estrellas",
         "2.9",
         "Madrid"
        ]
       ],
       "shape": {
        "columns": 14,
        "rows": 5
       }
      },
      "text/html": [
       "<div>\n",
       "<style scoped>\n",
       "    .dataframe tbody tr th:only-of-type {\n",
       "        vertical-align: middle;\n",
       "    }\n",
       "\n",
       "    .dataframe tbody tr th {\n",
       "        vertical-align: top;\n",
       "    }\n",
       "\n",
       "    .dataframe thead th {\n",
       "        text-align: right;\n",
       "    }\n",
       "</style>\n",
       "<table border=\"1\" class=\"dataframe\">\n",
       "  <thead>\n",
       "    <tr style=\"text-align: right;\">\n",
       "      <th></th>\n",
       "      <th>id_reserva</th>\n",
       "      <th>id_cliente</th>\n",
       "      <th>nombre</th>\n",
       "      <th>apellido</th>\n",
       "      <th>mail</th>\n",
       "      <th>competencia</th>\n",
       "      <th>fecha_reserva</th>\n",
       "      <th>inicio_estancia</th>\n",
       "      <th>final_estancia</th>\n",
       "      <th>id_hotel</th>\n",
       "      <th>precio_noche</th>\n",
       "      <th>nombre_hotel</th>\n",
       "      <th>valoracion</th>\n",
       "      <th>ciudad</th>\n",
       "    </tr>\n",
       "  </thead>\n",
       "  <tbody>\n",
       "    <tr>\n",
       "      <th>3472</th>\n",
       "      <td>6fcdd18d-6f55-472b-a340-4d0d7c479570</td>\n",
       "      <td>cliente_3468</td>\n",
       "      <td>Rómulo</td>\n",
       "      <td>Uría</td>\n",
       "      <td>rómulo.uría@example.com</td>\n",
       "      <td>False</td>\n",
       "      <td>2025-02-09</td>\n",
       "      <td>2025-03-01</td>\n",
       "      <td>2025-03-02</td>\n",
       "      <td>4</td>\n",
       "      <td>204.06</td>\n",
       "      <td>Hotel Puerta del Cielo</td>\n",
       "      <td>3.0</td>\n",
       "      <td>Madrid</td>\n",
       "    </tr>\n",
       "    <tr>\n",
       "      <th>9263</th>\n",
       "      <td>b0181813-63cf-4070-9683-7b78328bfc52</td>\n",
       "      <td>cliente_9227</td>\n",
       "      <td>Isaac</td>\n",
       "      <td>Cerezo</td>\n",
       "      <td>isaac.cerezo@example.com</td>\n",
       "      <td>False</td>\n",
       "      <td>2025-02-09</td>\n",
       "      <td>2025-03-01</td>\n",
       "      <td>2025-03-02</td>\n",
       "      <td>10</td>\n",
       "      <td>NaN</td>\n",
       "      <td>Hotel Torre Dorada</td>\n",
       "      <td>2.9</td>\n",
       "      <td>Madrid</td>\n",
       "    </tr>\n",
       "    <tr>\n",
       "      <th>3463</th>\n",
       "      <td>ffa8ee27-05a2-437a-a297-8c1240d3145b</td>\n",
       "      <td>cliente_3459</td>\n",
       "      <td>Fabio</td>\n",
       "      <td>Arranz</td>\n",
       "      <td>fabio.arranz@example.com</td>\n",
       "      <td>True</td>\n",
       "      <td>2025-02-20</td>\n",
       "      <td>2025-03-01</td>\n",
       "      <td>2025-03-02</td>\n",
       "      <td>135</td>\n",
       "      <td>89.00</td>\n",
       "      <td>ibis Madrid Alcobendas</td>\n",
       "      <td>4.4</td>\n",
       "      <td>Madrid</td>\n",
       "    </tr>\n",
       "    <tr>\n",
       "      <th>5982</th>\n",
       "      <td>e9b956ee-5e5b-45e0-851e-939fbb055657</td>\n",
       "      <td>cliente_5967</td>\n",
       "      <td>Marcia</td>\n",
       "      <td>Garcia</td>\n",
       "      <td>marcia.garcia@example.com</td>\n",
       "      <td>False</td>\n",
       "      <td>2025-02-02</td>\n",
       "      <td>2025-03-01</td>\n",
       "      <td>2025-03-02</td>\n",
       "      <td>8</td>\n",
       "      <td>131.78</td>\n",
       "      <td>Hotel Las Estrellas</td>\n",
       "      <td>2.9</td>\n",
       "      <td>Madrid</td>\n",
       "    </tr>\n",
       "    <tr>\n",
       "      <th>5600</th>\n",
       "      <td>e0d1382d-68cb-4586-abc8-6377b71936ed</td>\n",
       "      <td>cliente_5589</td>\n",
       "      <td>Eloísa</td>\n",
       "      <td>Juan</td>\n",
       "      <td>eloísa.juan@example.com</td>\n",
       "      <td>False</td>\n",
       "      <td>2025-02-02</td>\n",
       "      <td>2025-03-01</td>\n",
       "      <td>2025-03-02</td>\n",
       "      <td>8</td>\n",
       "      <td>436.00</td>\n",
       "      <td>Hotel Las Estrellas</td>\n",
       "      <td>2.9</td>\n",
       "      <td>Madrid</td>\n",
       "    </tr>\n",
       "  </tbody>\n",
       "</table>\n",
       "</div>"
      ],
      "text/plain": [
       "                                id_reserva    id_cliente  nombre apellido  \\\n",
       "3472  6fcdd18d-6f55-472b-a340-4d0d7c479570  cliente_3468  Rómulo     Uría   \n",
       "9263  b0181813-63cf-4070-9683-7b78328bfc52  cliente_9227   Isaac   Cerezo   \n",
       "3463  ffa8ee27-05a2-437a-a297-8c1240d3145b  cliente_3459   Fabio   Arranz   \n",
       "5982  e9b956ee-5e5b-45e0-851e-939fbb055657  cliente_5967  Marcia   Garcia   \n",
       "5600  e0d1382d-68cb-4586-abc8-6377b71936ed  cliente_5589  Eloísa     Juan   \n",
       "\n",
       "                           mail  competencia fecha_reserva inicio_estancia  \\\n",
       "3472    rómulo.uría@example.com        False    2025-02-09      2025-03-01   \n",
       "9263   isaac.cerezo@example.com        False    2025-02-09      2025-03-01   \n",
       "3463   fabio.arranz@example.com         True    2025-02-20      2025-03-01   \n",
       "5982  marcia.garcia@example.com        False    2025-02-02      2025-03-01   \n",
       "5600    eloísa.juan@example.com        False    2025-02-02      2025-03-01   \n",
       "\n",
       "     final_estancia  id_hotel  precio_noche            nombre_hotel  \\\n",
       "3472     2025-03-02         4        204.06  Hotel Puerta del Cielo   \n",
       "9263     2025-03-02        10           NaN      Hotel Torre Dorada   \n",
       "3463     2025-03-02       135         89.00  ibis Madrid Alcobendas   \n",
       "5982     2025-03-02         8        131.78     Hotel Las Estrellas   \n",
       "5600     2025-03-02         8        436.00     Hotel Las Estrellas   \n",
       "\n",
       "      valoracion  ciudad  \n",
       "3472         3.0  Madrid  \n",
       "9263         2.9  Madrid  \n",
       "3463         4.4  Madrid  \n",
       "5982         2.9  Madrid  \n",
       "5600         2.9  Madrid  "
      ]
     },
     "execution_count": 54,
     "metadata": {},
     "output_type": "execute_result"
    }
   ],
   "source": [
    "df.sample(5)"
   ]
  },
  {
   "cell_type": "code",
   "execution_count": 55,
   "metadata": {},
   "outputs": [],
   "source": [
    "df_reservas = df[[\"id_reserva\", \"fecha_reserva\", \"inicio_estancia\", \"final_estancia\", \"precio_noche\", \"id_cliente\", \"id_hotel\"]]"
   ]
  },
  {
   "cell_type": "code",
   "execution_count": 68,
   "metadata": {},
   "outputs": [],
   "source": [
    "df_precios = df_reservas[[\"id_hotel\", \"precio_noche\"]]"
   ]
  },
  {
   "cell_type": "code",
   "execution_count": 58,
   "metadata": {},
   "outputs": [],
   "source": [
    "# Hacemos boxplot de los precios por hotel\n",
    "import matplotlib.pyplot as plt\n",
    "import seaborn as sns"
   ]
  },
  {
   "cell_type": "code",
   "execution_count": 59,
   "metadata": {},
   "outputs": [
    {
     "ename": "NameError",
     "evalue": "name 'np' is not defined",
     "output_type": "error",
     "traceback": [
      "\u001b[1;31m---------------------------------------------------------------------------\u001b[0m",
      "\u001b[1;31mNameError\u001b[0m                                 Traceback (most recent call last)",
      "Cell \u001b[1;32mIn[59], line 10\u001b[0m\n\u001b[0;32m      7\u001b[0m fig, axes \u001b[38;5;241m=\u001b[39m plt\u001b[38;5;241m.\u001b[39msubplots(nrows\u001b[38;5;241m=\u001b[39mnum_rows, ncols\u001b[38;5;241m=\u001b[39mcols_per_row, figsize\u001b[38;5;241m=\u001b[39m(\u001b[38;5;241m15\u001b[39m, \u001b[38;5;241m5\u001b[39m \u001b[38;5;241m*\u001b[39m num_rows))\n\u001b[0;32m      9\u001b[0m \u001b[38;5;66;03m# Asegurar que axes es un array 2D\u001b[39;00m\n\u001b[1;32m---> 10\u001b[0m axes \u001b[38;5;241m=\u001b[39m \u001b[43mnp\u001b[49m\u001b[38;5;241m.\u001b[39marray(axes)\u001b[38;5;241m.\u001b[39mreshape(num_rows, cols_per_row)\n\u001b[0;32m     12\u001b[0m \u001b[38;5;66;03m# Dibujar los boxplots en cada subplot\u001b[39;00m\n\u001b[0;32m     13\u001b[0m \u001b[38;5;28;01mfor\u001b[39;00m i, col \u001b[38;5;129;01min\u001b[39;00m \u001b[38;5;28menumerate\u001b[39m(df\u001b[38;5;241m.\u001b[39mcolumns):\n",
      "\u001b[1;31mNameError\u001b[0m: name 'np' is not defined"
     ]
    },
    {
     "data": {
      "image/png": "[encoded data removed]",
      "text/plain": [
       "<Figure size 1500x3500 with 14 Axes>"
      ]
     },
     "metadata": {},
     "output_type": "display_data"
    }
   ],
   "source": [
    "# Definir la cantidad de columnas por fila\n",
    "cols_per_row = 2\n",
    "num_cols = len(df.columns)\n",
    "num_rows = (num_cols // cols_per_row) + (num_cols % cols_per_row > 0)  # Calcular filas necesarias\n",
    "\n",
    "# Crear subplots dinámicamente\n",
    "fig, axes = plt.subplots(nrows=num_rows, ncols=cols_per_row, figsize=(15, 5 * num_rows))\n",
    "\n",
    "# Asegurar que axes es un array 2D\n",
    "axes = np.array(axes).reshape(num_rows, cols_per_row)\n",
    "\n",
    "# Dibujar los boxplots en cada subplot\n",
    "for i, col in enumerate(df.columns):\n",
    "    row, col_idx = divmod(i, cols_per_row)  # Obtener la posición en la grilla\n",
    "    sns.boxplot(y=df[col], ax=axes[row, col_idx])\n",
    "    axes[row, col_idx].set_title(f'Boxplot de {col}')"
   ]
  },
  {
   "cell_type": "code",
   "execution_count": null,
   "metadata": {},
   "outputs": [],
   "source": [
    "def boxplots (dataframe, columnax, columnay):"
   ]
  }
 ],
 "metadata": {
  "kernelspec": {
   "display_name": "Python 3",
   "language": "python",
   "name": "python3"
  },
  "language_info": {
   "codemirror_mode": {
    "name": "ipython",
    "version": 3
   },
   "file_extension": ".py",
   "mimetype": "text/x-python",
   "name": "python",
   "nbconvert_exporter": "python",
   "pygments_lexer": "ipython3",
   "version": "3.13.0"
  }
 },
 "nbformat": 4,
 "nbformat_minor": 2
}
