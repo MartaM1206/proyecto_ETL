{
 "cells": [
  {
   "cell_type": "code",
   "execution_count": 1,
   "metadata": {},
   "outputs": [],
   "source": [
    "# importamos librerías\n",
    "import pandas as pd"
   ]
  },
  {
   "cell_type": "markdown",
   "metadata": {},
   "source": [
    "# **Análsis inicial**"
   ]
  },
  {
   "cell_type": "code",
   "execution_count": 2,
   "metadata": {},
   "outputs": [
    {
     "data": {
      "text/html": [
       "<div>\n",
       "<style scoped>\n",
       "    .dataframe tbody tr th:only-of-type {\n",
       "        vertical-align: middle;\n",
       "    }\n",
       "\n",
       "    .dataframe tbody tr th {\n",
       "        vertical-align: top;\n",
       "    }\n",
       "\n",
       "    .dataframe thead th {\n",
       "        text-align: right;\n",
       "    }\n",
       "</style>\n",
       "<table border=\"1\" class=\"dataframe\">\n",
       "  <thead>\n",
       "    <tr style=\"text-align: right;\">\n",
       "      <th></th>\n",
       "      <th>id_reserva</th>\n",
       "      <th>id_cliente</th>\n",
       "      <th>nombre</th>\n",
       "      <th>apellido</th>\n",
       "      <th>mail</th>\n",
       "      <th>competencia</th>\n",
       "      <th>fecha_reserva</th>\n",
       "      <th>inicio_estancia</th>\n",
       "      <th>final_estancia</th>\n",
       "      <th>id_hotel</th>\n",
       "      <th>precio_noche</th>\n",
       "      <th>nombre_hotel</th>\n",
       "      <th>estrellas</th>\n",
       "      <th>ciudad</th>\n",
       "    </tr>\n",
       "  </thead>\n",
       "  <tbody>\n",
       "    <tr>\n",
       "      <th>11706</th>\n",
       "      <td>db7f5969-6755-4e48-892c-ff744d3133d4</td>\n",
       "      <td>3e23aee2-83af-4f77-961c-271b415ae9c4</td>\n",
       "      <td>Natalio</td>\n",
       "      <td>Naranjo</td>\n",
       "      <td>natalio.naranjo@example.com</td>\n",
       "      <td>False</td>\n",
       "      <td>2025-02-11</td>\n",
       "      <td>2025-03-01</td>\n",
       "      <td>2025-03-02</td>\n",
       "      <td>35</td>\n",
       "      <td>94.59</td>\n",
       "      <td>Hotel Encanto Real</td>\n",
       "      <td>3.0</td>\n",
       "      <td>Madrid</td>\n",
       "    </tr>\n",
       "    <tr>\n",
       "      <th>1836</th>\n",
       "      <td>a2ded5ba-1146-402c-b83e-d8fd7b35dab6</td>\n",
       "      <td>58deb094-3dcd-48e6-a092-2d217da02f3e</td>\n",
       "      <td>Jose Ramón</td>\n",
       "      <td>Escamilla</td>\n",
       "      <td>jose ramón.escamilla@example.com</td>\n",
       "      <td>True</td>\n",
       "      <td></td>\n",
       "      <td>2025-03-01</td>\n",
       "      <td>2025-03-02</td>\n",
       "      <td>113</td>\n",
       "      <td>NaN</td>\n",
       "      <td></td>\n",
       "      <td>NaN</td>\n",
       "      <td></td>\n",
       "    </tr>\n",
       "    <tr>\n",
       "      <th>10386</th>\n",
       "      <td>dc0082c7-fd37-46db-9276-611a8064ea47</td>\n",
       "      <td>0bddf7dc-473e-4ac8-a04b-6a3c005e9bd0</td>\n",
       "      <td>Octavio</td>\n",
       "      <td>Escudero</td>\n",
       "      <td>octavio.escudero@example.com</td>\n",
       "      <td>False</td>\n",
       "      <td>2025-02-12</td>\n",
       "      <td>2025-03-01</td>\n",
       "      <td>2025-03-02</td>\n",
       "      <td>27</td>\n",
       "      <td>308.64</td>\n",
       "      <td>Hotel Camino del Sol</td>\n",
       "      <td>2.0</td>\n",
       "      <td>Madrid</td>\n",
       "    </tr>\n",
       "    <tr>\n",
       "      <th>11854</th>\n",
       "      <td>f77ed93b-bfdd-481a-994b-877ce54ee157</td>\n",
       "      <td>c8d5d147-c22d-4f6a-a5b7-0af9508b76bd</td>\n",
       "      <td>Yago</td>\n",
       "      <td>Solís</td>\n",
       "      <td>yago.solís@example.com</td>\n",
       "      <td>False</td>\n",
       "      <td>2025-02-11</td>\n",
       "      <td>2025-03-01</td>\n",
       "      <td>2025-03-02</td>\n",
       "      <td>29</td>\n",
       "      <td>181.78</td>\n",
       "      <td>Hotel Puerta del Cielo</td>\n",
       "      <td>2.0</td>\n",
       "      <td>Madrid</td>\n",
       "    </tr>\n",
       "    <tr>\n",
       "      <th>8024</th>\n",
       "      <td>0c3ca00a-d6fd-46a3-9820-672a84aa5d0e</td>\n",
       "      <td>27d32987-acdc-4457-9cce-593462ac2178</td>\n",
       "      <td>Ovidio</td>\n",
       "      <td>Amigó</td>\n",
       "      <td>ovidio.amigó@example.com</td>\n",
       "      <td>False</td>\n",
       "      <td>2025-02-09</td>\n",
       "      <td>2025-03-01</td>\n",
       "      <td>2025-03-02</td>\n",
       "      <td>14</td>\n",
       "      <td>174.09</td>\n",
       "      <td>Gran Hotel Madrid</td>\n",
       "      <td>2.0</td>\n",
       "      <td>Madrid</td>\n",
       "    </tr>\n",
       "    <tr>\n",
       "      <th>1828</th>\n",
       "      <td>01f8dd25-f627-4cec-a6e8-ae5fce39e63a</td>\n",
       "      <td>6e5b511c-d84f-4783-a395-8ff014ae864b</td>\n",
       "      <td>Feliciana</td>\n",
       "      <td>Barrera</td>\n",
       "      <td>feliciana.barrera@example.com</td>\n",
       "      <td>False</td>\n",
       "      <td>2025-02-05</td>\n",
       "      <td>2025-03-01</td>\n",
       "      <td>2025-03-02</td>\n",
       "      <td>49</td>\n",
       "      <td>151.02</td>\n",
       "      <td>Hotel Sol y Luna</td>\n",
       "      <td>2.0</td>\n",
       "      <td>Madrid</td>\n",
       "    </tr>\n",
       "    <tr>\n",
       "      <th>5188</th>\n",
       "      <td>67b0b598-073c-4fd2-ad38-dabad0f9673f</td>\n",
       "      <td>a94228a6-97a4-4ad6-a55b-3bfb12f6aff6</td>\n",
       "      <td>Renato</td>\n",
       "      <td>Rocha</td>\n",
       "      <td>renato.rocha@example.com</td>\n",
       "      <td>False</td>\n",
       "      <td>2025-02-09</td>\n",
       "      <td>2025-03-01</td>\n",
       "      <td>2025-03-02</td>\n",
       "      <td>36</td>\n",
       "      <td>372.70</td>\n",
       "      <td>Hotel Rincón Sereno</td>\n",
       "      <td>3.0</td>\n",
       "      <td>Madrid</td>\n",
       "    </tr>\n",
       "    <tr>\n",
       "      <th>5001</th>\n",
       "      <td>5e59a285-41b4-48f2-ba5c-8958e15d99f7</td>\n",
       "      <td>1c9e2869-6562-4cd6-b1b2-9e0da2c59df2</td>\n",
       "      <td>Maximino</td>\n",
       "      <td>Barberá</td>\n",
       "      <td>maximino.barberá@example.com</td>\n",
       "      <td>False</td>\n",
       "      <td>2025-02-02</td>\n",
       "      <td>2025-03-01</td>\n",
       "      <td>2025-03-02</td>\n",
       "      <td>40</td>\n",
       "      <td>337.73</td>\n",
       "      <td>Gran Hotel Madrid</td>\n",
       "      <td>1.0</td>\n",
       "      <td>Madrid</td>\n",
       "    </tr>\n",
       "    <tr>\n",
       "      <th>7771</th>\n",
       "      <td>495a14ff-1284-438a-bf15-6a3fc7a6b9ec</td>\n",
       "      <td>0e6b6e43-9eff-46ff-b639-1f317e652889</td>\n",
       "      <td>Horacio</td>\n",
       "      <td>Gibert</td>\n",
       "      <td>horacio.gibert@example.com</td>\n",
       "      <td>False</td>\n",
       "      <td>2025-02-01</td>\n",
       "      <td>2025-03-01</td>\n",
       "      <td>2025-03-02</td>\n",
       "      <td>15</td>\n",
       "      <td>299.09</td>\n",
       "      <td>Hotel Encanto Real</td>\n",
       "      <td>3.0</td>\n",
       "      <td>Madrid</td>\n",
       "    </tr>\n",
       "    <tr>\n",
       "      <th>9495</th>\n",
       "      <td>9ac63f57-e5b1-4b39-8a39-2e278ec78c19</td>\n",
       "      <td>0f5bff7d-a3d0-4459-92e0-862eb92d2e85</td>\n",
       "      <td>Andrea</td>\n",
       "      <td>Castells</td>\n",
       "      <td>andrea.castells@example.com</td>\n",
       "      <td>True</td>\n",
       "      <td></td>\n",
       "      <td>2025-03-01</td>\n",
       "      <td>2025-03-02</td>\n",
       "      <td>181</td>\n",
       "      <td>NaN</td>\n",
       "      <td></td>\n",
       "      <td>NaN</td>\n",
       "      <td></td>\n",
       "    </tr>\n",
       "    <tr>\n",
       "      <th>3586</th>\n",
       "      <td>d6381c86-4b3c-4a7f-9b38-65135e6f2d43</td>\n",
       "      <td>b14011fc-336b-429d-8411-3329d8a5461a</td>\n",
       "      <td>Pacífica</td>\n",
       "      <td>Berenguer</td>\n",
       "      <td>pacífica.berenguer@example.com</td>\n",
       "      <td>False</td>\n",
       "      <td>2025-02-10</td>\n",
       "      <td>2025-03-01</td>\n",
       "      <td>2025-03-02</td>\n",
       "      <td>3</td>\n",
       "      <td>128.58</td>\n",
       "      <td>Hotel Maravilla Real</td>\n",
       "      <td>2.0</td>\n",
       "      <td>Madrid</td>\n",
       "    </tr>\n",
       "    <tr>\n",
       "      <th>2888</th>\n",
       "      <td>1abaae77-8289-4721-a278-13427cf1ba20</td>\n",
       "      <td>48202e9e-7055-408d-8238-63933d837c7f</td>\n",
       "      <td>Arcelia</td>\n",
       "      <td>Lucena</td>\n",
       "      <td>arcelia.lucena@example.com</td>\n",
       "      <td>False</td>\n",
       "      <td>2025-02-01</td>\n",
       "      <td>2025-03-01</td>\n",
       "      <td>2025-03-02</td>\n",
       "      <td>2</td>\n",
       "      <td>345.62</td>\n",
       "      <td>Hotel Brisas del Mar</td>\n",
       "      <td>2.0</td>\n",
       "      <td>Madrid</td>\n",
       "    </tr>\n",
       "    <tr>\n",
       "      <th>3057</th>\n",
       "      <td>9f0dbd83-7347-46eb-8f0c-83b484ce6649</td>\n",
       "      <td>c62debee-9a74-40c7-a606-f0b9c66da5fb</td>\n",
       "      <td>Nando</td>\n",
       "      <td>Sanmiguel</td>\n",
       "      <td>nando.sanmiguel@example.com</td>\n",
       "      <td>True</td>\n",
       "      <td></td>\n",
       "      <td>2025-03-01</td>\n",
       "      <td>2025-03-02</td>\n",
       "      <td>117</td>\n",
       "      <td>NaN</td>\n",
       "      <td></td>\n",
       "      <td>NaN</td>\n",
       "      <td></td>\n",
       "    </tr>\n",
       "    <tr>\n",
       "      <th>4351</th>\n",
       "      <td>45463a43-fdcc-4074-b1bc-8a20047c0158</td>\n",
       "      <td>d635fcc1-2fb7-4dd8-98c5-d6394729db08</td>\n",
       "      <td>Adelaida</td>\n",
       "      <td>Boix</td>\n",
       "      <td>adelaida.boix@example.com</td>\n",
       "      <td>False</td>\n",
       "      <td>2025-02-07</td>\n",
       "      <td>2025-03-01</td>\n",
       "      <td>2025-03-02</td>\n",
       "      <td>36</td>\n",
       "      <td>388.53</td>\n",
       "      <td>Gran Hotel Madrid</td>\n",
       "      <td>3.0</td>\n",
       "      <td>Madrid</td>\n",
       "    </tr>\n",
       "    <tr>\n",
       "      <th>7141</th>\n",
       "      <td>d7c400d1-9be6-44f4-a072-9fc01a431d8f</td>\n",
       "      <td>aa2b7dc4-8bb7-4616-a76f-7614240f3e51</td>\n",
       "      <td>Edelmiro</td>\n",
       "      <td>Coca</td>\n",
       "      <td>edelmiro.coca@example.com</td>\n",
       "      <td>True</td>\n",
       "      <td></td>\n",
       "      <td>2025-03-01</td>\n",
       "      <td>2025-03-02</td>\n",
       "      <td>135</td>\n",
       "      <td>NaN</td>\n",
       "      <td></td>\n",
       "      <td>NaN</td>\n",
       "      <td></td>\n",
       "    </tr>\n",
       "  </tbody>\n",
       "</table>\n",
       "</div>"
      ],
      "text/plain": [
       "                                 id_reserva  \\\n",
       "11706  db7f5969-6755-4e48-892c-ff744d3133d4   \n",
       "1836   a2ded5ba-1146-402c-b83e-d8fd7b35dab6   \n",
       "10386  dc0082c7-fd37-46db-9276-611a8064ea47   \n",
       "11854  f77ed93b-bfdd-481a-994b-877ce54ee157   \n",
       "8024   0c3ca00a-d6fd-46a3-9820-672a84aa5d0e   \n",
       "1828   01f8dd25-f627-4cec-a6e8-ae5fce39e63a   \n",
       "5188   67b0b598-073c-4fd2-ad38-dabad0f9673f   \n",
       "5001   5e59a285-41b4-48f2-ba5c-8958e15d99f7   \n",
       "7771   495a14ff-1284-438a-bf15-6a3fc7a6b9ec   \n",
       "9495   9ac63f57-e5b1-4b39-8a39-2e278ec78c19   \n",
       "3586   d6381c86-4b3c-4a7f-9b38-65135e6f2d43   \n",
       "2888   1abaae77-8289-4721-a278-13427cf1ba20   \n",
       "3057   9f0dbd83-7347-46eb-8f0c-83b484ce6649   \n",
       "4351   45463a43-fdcc-4074-b1bc-8a20047c0158   \n",
       "7141   d7c400d1-9be6-44f4-a072-9fc01a431d8f   \n",
       "\n",
       "                                 id_cliente      nombre   apellido  \\\n",
       "11706  3e23aee2-83af-4f77-961c-271b415ae9c4     Natalio    Naranjo   \n",
       "1836   58deb094-3dcd-48e6-a092-2d217da02f3e  Jose Ramón  Escamilla   \n",
       "10386  0bddf7dc-473e-4ac8-a04b-6a3c005e9bd0     Octavio   Escudero   \n",
       "11854  c8d5d147-c22d-4f6a-a5b7-0af9508b76bd        Yago      Solís   \n",
       "8024   27d32987-acdc-4457-9cce-593462ac2178      Ovidio      Amigó   \n",
       "1828   6e5b511c-d84f-4783-a395-8ff014ae864b   Feliciana    Barrera   \n",
       "5188   a94228a6-97a4-4ad6-a55b-3bfb12f6aff6      Renato      Rocha   \n",
       "5001   1c9e2869-6562-4cd6-b1b2-9e0da2c59df2    Maximino    Barberá   \n",
       "7771   0e6b6e43-9eff-46ff-b639-1f317e652889     Horacio     Gibert   \n",
       "9495   0f5bff7d-a3d0-4459-92e0-862eb92d2e85      Andrea   Castells   \n",
       "3586   b14011fc-336b-429d-8411-3329d8a5461a    Pacífica  Berenguer   \n",
       "2888   48202e9e-7055-408d-8238-63933d837c7f     Arcelia     Lucena   \n",
       "3057   c62debee-9a74-40c7-a606-f0b9c66da5fb       Nando  Sanmiguel   \n",
       "4351   d635fcc1-2fb7-4dd8-98c5-d6394729db08    Adelaida       Boix   \n",
       "7141   aa2b7dc4-8bb7-4616-a76f-7614240f3e51    Edelmiro       Coca   \n",
       "\n",
       "                                   mail  competencia fecha_reserva  \\\n",
       "11706       natalio.naranjo@example.com        False    2025-02-11   \n",
       "1836   jose ramón.escamilla@example.com         True                 \n",
       "10386      octavio.escudero@example.com        False    2025-02-12   \n",
       "11854            yago.solís@example.com        False    2025-02-11   \n",
       "8024           ovidio.amigó@example.com        False    2025-02-09   \n",
       "1828      feliciana.barrera@example.com        False    2025-02-05   \n",
       "5188           renato.rocha@example.com        False    2025-02-09   \n",
       "5001       maximino.barberá@example.com        False    2025-02-02   \n",
       "7771         horacio.gibert@example.com        False    2025-02-01   \n",
       "9495        andrea.castells@example.com         True                 \n",
       "3586     pacífica.berenguer@example.com        False    2025-02-10   \n",
       "2888         arcelia.lucena@example.com        False    2025-02-01   \n",
       "3057        nando.sanmiguel@example.com         True                 \n",
       "4351          adelaida.boix@example.com        False    2025-02-07   \n",
       "7141          edelmiro.coca@example.com         True                 \n",
       "\n",
       "      inicio_estancia final_estancia  id_hotel  precio_noche  \\\n",
       "11706      2025-03-01     2025-03-02        35         94.59   \n",
       "1836       2025-03-01     2025-03-02       113           NaN   \n",
       "10386      2025-03-01     2025-03-02        27        308.64   \n",
       "11854      2025-03-01     2025-03-02        29        181.78   \n",
       "8024       2025-03-01     2025-03-02        14        174.09   \n",
       "1828       2025-03-01     2025-03-02        49        151.02   \n",
       "5188       2025-03-01     2025-03-02        36        372.70   \n",
       "5001       2025-03-01     2025-03-02        40        337.73   \n",
       "7771       2025-03-01     2025-03-02        15        299.09   \n",
       "9495       2025-03-01     2025-03-02       181           NaN   \n",
       "3586       2025-03-01     2025-03-02         3        128.58   \n",
       "2888       2025-03-01     2025-03-02         2        345.62   \n",
       "3057       2025-03-01     2025-03-02       117           NaN   \n",
       "4351       2025-03-01     2025-03-02        36        388.53   \n",
       "7141       2025-03-01     2025-03-02       135           NaN   \n",
       "\n",
       "                 nombre_hotel  estrellas  ciudad  \n",
       "11706      Hotel Encanto Real        3.0  Madrid  \n",
       "1836                                 NaN          \n",
       "10386    Hotel Camino del Sol        2.0  Madrid  \n",
       "11854  Hotel Puerta del Cielo        2.0  Madrid  \n",
       "8024        Gran Hotel Madrid        2.0  Madrid  \n",
       "1828         Hotel Sol y Luna        2.0  Madrid  \n",
       "5188      Hotel Rincón Sereno        3.0  Madrid  \n",
       "5001        Gran Hotel Madrid        1.0  Madrid  \n",
       "7771       Hotel Encanto Real        3.0  Madrid  \n",
       "9495                                 NaN          \n",
       "3586     Hotel Maravilla Real        2.0  Madrid  \n",
       "2888     Hotel Brisas del Mar        2.0  Madrid  \n",
       "3057                                 NaN          \n",
       "4351        Gran Hotel Madrid        3.0  Madrid  \n",
       "7141                                 NaN          "
      ]
     },
     "execution_count": 2,
     "metadata": {},
     "output_type": "execute_result"
    }
   ],
   "source": [
    "# cargamos el archivo con los datos\n",
    "df_raw = pd.read_parquet(\"../data/reservas_hoteles.parquet\")\n",
    "df_raw.sample(15)"
   ]
  },
  {
   "cell_type": "code",
   "execution_count": 3,
   "metadata": {},
   "outputs": [
    {
     "name": "stdout",
     "output_type": "stream",
     "text": [
      "<class 'pandas.core.frame.DataFrame'>\n",
      "RangeIndex: 15098 entries, 0 to 15097\n",
      "Data columns (total 14 columns):\n",
      " #   Column           Non-Null Count  Dtype  \n",
      "---  ------           --------------  -----  \n",
      " 0   id_reserva       15098 non-null  object \n",
      " 1   id_cliente       15098 non-null  object \n",
      " 2   nombre           15098 non-null  object \n",
      " 3   apellido         15098 non-null  object \n",
      " 4   mail             15098 non-null  object \n",
      " 5   competencia      15098 non-null  bool   \n",
      " 6   fecha_reserva    15098 non-null  object \n",
      " 7   inicio_estancia  15023 non-null  object \n",
      " 8   final_estancia   15023 non-null  object \n",
      " 9   id_hotel         15098 non-null  int64  \n",
      " 10  precio_noche     9874 non-null   float64\n",
      " 11  nombre_hotel     15098 non-null  object \n",
      " 12  estrellas        9926 non-null   float64\n",
      " 13  ciudad           15098 non-null  object \n",
      "dtypes: bool(1), float64(2), int64(1), object(10)\n",
      "memory usage: 1.5+ MB\n"
     ]
    }
   ],
   "source": [
    "# info del dataframe con los datos\n",
    "df_raw.info()"
   ]
  },
  {
   "cell_type": "code",
   "execution_count": 4,
   "metadata": {},
   "outputs": [],
   "source": [
    "# Hacemos copia del dataframe para trabajar\n",
    "df = df_raw.copy()"
   ]
  },
  {
   "cell_type": "markdown",
   "metadata": {},
   "source": [
    "# Conteo hoteles competencia"
   ]
  },
  {
   "cell_type": "code",
   "execution_count": 5,
   "metadata": {},
   "outputs": [
    {
     "data": {
      "text/plain": [
       "10"
      ]
     },
     "execution_count": 5,
     "metadata": {},
     "output_type": "execute_result"
    }
   ],
   "source": [
    "# comprobamos cuántos hoteles son competencia\n",
    "competencia = df[df[\"competencia\"]==True]\n",
    "competencia[\"id_hotel\"].nunique()"
   ]
  },
  {
   "cell_type": "code",
   "execution_count": 6,
   "metadata": {},
   "outputs": [
    {
     "name": "stdout",
     "output_type": "stream",
     "text": [
      "<class 'pandas.core.frame.DataFrame'>\n",
      "Index: 5172 entries, 0 to 14998\n",
      "Data columns (total 14 columns):\n",
      " #   Column           Non-Null Count  Dtype  \n",
      "---  ------           --------------  -----  \n",
      " 0   id_reserva       5172 non-null   object \n",
      " 1   id_cliente       5172 non-null   object \n",
      " 2   nombre           5172 non-null   object \n",
      " 3   apellido         5172 non-null   object \n",
      " 4   mail             5172 non-null   object \n",
      " 5   competencia      5172 non-null   bool   \n",
      " 6   fecha_reserva    5172 non-null   object \n",
      " 7   inicio_estancia  5149 non-null   object \n",
      " 8   final_estancia   5149 non-null   object \n",
      " 9   id_hotel         5172 non-null   int64  \n",
      " 10  precio_noche     0 non-null      float64\n",
      " 11  nombre_hotel     5172 non-null   object \n",
      " 12  estrellas        0 non-null      float64\n",
      " 13  ciudad           5172 non-null   object \n",
      "dtypes: bool(1), float64(2), int64(1), object(10)\n",
      "memory usage: 570.7+ KB\n"
     ]
    }
   ],
   "source": [
    "# info del dataframe de hoteles de la competencia\n",
    "competencia.info()"
   ]
  },
  {
   "cell_type": "code",
   "execution_count": 7,
   "metadata": {},
   "outputs": [
    {
     "data": {
      "text/plain": [
       "array([''], dtype=object)"
      ]
     },
     "execution_count": 7,
     "metadata": {},
     "output_type": "execute_result"
    }
   ],
   "source": [
    "competencia[\"nombre_hotel\"].unique()"
   ]
  },
  {
   "cell_type": "markdown",
   "metadata": {},
   "source": [
    "Hay 10 hoteles de la competencia sin datos de precio_noche, nombre_hotel y estrellas. Vemos que el valor único de la columna nombre_hotel es \" \", lo que implica que están todos vacíos. Tendremos que extraer la información faltante."
   ]
  },
  {
   "cell_type": "markdown",
   "metadata": {},
   "source": [
    "# Cambio columnas con fechas a datetime"
   ]
  },
  {
   "cell_type": "code",
   "execution_count": 8,
   "metadata": {},
   "outputs": [],
   "source": [
    "# Las columnas de fecha_reserva, inicio_estancia y final_estancia deberían estar en formato fecha. Hacemos una función para transformarlas\n",
    "def trans_fecha(lista_col, dataframe):\n",
    "    for col in lista_col:\n",
    "        dataframe[col] = pd.to_datetime(dataframe[col], errors=\"coerce\")\n",
    "    return dataframe"
   ]
  },
  {
   "cell_type": "code",
   "execution_count": 9,
   "metadata": {},
   "outputs": [
    {
     "name": "stdout",
     "output_type": "stream",
     "text": [
      "<class 'pandas.core.frame.DataFrame'>\n",
      "RangeIndex: 15098 entries, 0 to 15097\n",
      "Data columns (total 14 columns):\n",
      " #   Column           Non-Null Count  Dtype         \n",
      "---  ------           --------------  -----         \n",
      " 0   id_reserva       15098 non-null  object        \n",
      " 1   id_cliente       15098 non-null  object        \n",
      " 2   nombre           15098 non-null  object        \n",
      " 3   apellido         15098 non-null  object        \n",
      " 4   mail             15098 non-null  object        \n",
      " 5   competencia      15098 non-null  bool          \n",
      " 6   fecha_reserva    9926 non-null   datetime64[ns]\n",
      " 7   inicio_estancia  15023 non-null  datetime64[ns]\n",
      " 8   final_estancia   15023 non-null  datetime64[ns]\n",
      " 9   id_hotel         15098 non-null  int64         \n",
      " 10  precio_noche     9874 non-null   float64       \n",
      " 11  nombre_hotel     15098 non-null  object        \n",
      " 12  estrellas        9926 non-null   float64       \n",
      " 13  ciudad           15098 non-null  object        \n",
      "dtypes: bool(1), datetime64[ns](3), float64(2), int64(1), object(7)\n",
      "memory usage: 1.5+ MB\n"
     ]
    }
   ],
   "source": [
    "df = trans_fecha([\"fecha_reserva\", \"inicio_estancia\", \"final_estancia\"], df)\n",
    "df.info()"
   ]
  },
  {
   "cell_type": "markdown",
   "metadata": {},
   "source": [
    "# Fechas estancia"
   ]
  },
  {
   "cell_type": "code",
   "execution_count": 10,
   "metadata": {},
   "outputs": [
    {
     "data": {
      "text/plain": [
       "<DatetimeArray>\n",
       "['2025-03-01 00:00:00', 'NaT']\n",
       "Length: 2, dtype: datetime64[ns]"
      ]
     },
     "execution_count": 10,
     "metadata": {},
     "output_type": "execute_result"
    }
   ],
   "source": [
    "# miramos valores únicos de fechas de inicio y final de estancia porque las necesitaremos para buscar eventos en la API\n",
    "inicio = df[\"inicio_estancia\"].unique()\n",
    "inicio"
   ]
  },
  {
   "cell_type": "code",
   "execution_count": 11,
   "metadata": {},
   "outputs": [
    {
     "data": {
      "text/plain": [
       "<DatetimeArray>\n",
       "['2025-03-02 00:00:00', 'NaT']\n",
       "Length: 2, dtype: datetime64[ns]"
      ]
     },
     "execution_count": 11,
     "metadata": {},
     "output_type": "execute_result"
    }
   ],
   "source": [
    "final = df[\"final_estancia\"].unique()\n",
    "final"
   ]
  },
  {
   "cell_type": "code",
   "execution_count": 12,
   "metadata": {},
   "outputs": [
    {
     "data": {
      "text/plain": [
       "Timestamp('2025-03-02 00:00:00')"
      ]
     },
     "execution_count": 12,
     "metadata": {},
     "output_type": "execute_result"
    }
   ],
   "source": [
    "final[0]"
   ]
  },
  {
   "cell_type": "markdown",
   "metadata": {},
   "source": [
    "Como las fechas son las mismas, podríamos rellenar toda la columna con el mismo valor."
   ]
  },
  {
   "cell_type": "code",
   "execution_count": 13,
   "metadata": {},
   "outputs": [],
   "source": [
    "# Rellenamos las columnas del df con las fechas.\n",
    "df[\"inicio_estancia\"] = inicio[0]\n",
    "df[\"final_estancia\"] = final[0]"
   ]
  },
  {
   "cell_type": "code",
   "execution_count": 14,
   "metadata": {},
   "outputs": [
    {
     "name": "stdout",
     "output_type": "stream",
     "text": [
      "<class 'pandas.core.frame.DataFrame'>\n",
      "RangeIndex: 15098 entries, 0 to 15097\n",
      "Data columns (total 14 columns):\n",
      " #   Column           Non-Null Count  Dtype         \n",
      "---  ------           --------------  -----         \n",
      " 0   id_reserva       15098 non-null  object        \n",
      " 1   id_cliente       15098 non-null  object        \n",
      " 2   nombre           15098 non-null  object        \n",
      " 3   apellido         15098 non-null  object        \n",
      " 4   mail             15098 non-null  object        \n",
      " 5   competencia      15098 non-null  bool          \n",
      " 6   fecha_reserva    9926 non-null   datetime64[ns]\n",
      " 7   inicio_estancia  15098 non-null  datetime64[ns]\n",
      " 8   final_estancia   15098 non-null  datetime64[ns]\n",
      " 9   id_hotel         15098 non-null  int64         \n",
      " 10  precio_noche     9874 non-null   float64       \n",
      " 11  nombre_hotel     15098 non-null  object        \n",
      " 12  estrellas        9926 non-null   float64       \n",
      " 13  ciudad           15098 non-null  object        \n",
      "dtypes: bool(1), datetime64[ns](3), float64(2), int64(1), object(7)\n",
      "memory usage: 1.5+ MB\n"
     ]
    }
   ],
   "source": [
    "df.info()"
   ]
  },
  {
   "cell_type": "code",
   "execution_count": 15,
   "metadata": {},
   "outputs": [
    {
     "data": {
      "text/html": [
       "<div>\n",
       "<style scoped>\n",
       "    .dataframe tbody tr th:only-of-type {\n",
       "        vertical-align: middle;\n",
       "    }\n",
       "\n",
       "    .dataframe tbody tr th {\n",
       "        vertical-align: top;\n",
       "    }\n",
       "\n",
       "    .dataframe thead th {\n",
       "        text-align: right;\n",
       "    }\n",
       "</style>\n",
       "<table border=\"1\" class=\"dataframe\">\n",
       "  <thead>\n",
       "    <tr style=\"text-align: right;\">\n",
       "      <th></th>\n",
       "      <th>id_reserva</th>\n",
       "      <th>id_cliente</th>\n",
       "      <th>nombre</th>\n",
       "      <th>apellido</th>\n",
       "      <th>mail</th>\n",
       "      <th>competencia</th>\n",
       "      <th>fecha_reserva</th>\n",
       "      <th>inicio_estancia</th>\n",
       "      <th>final_estancia</th>\n",
       "      <th>id_hotel</th>\n",
       "      <th>precio_noche</th>\n",
       "      <th>nombre_hotel</th>\n",
       "      <th>estrellas</th>\n",
       "      <th>ciudad</th>\n",
       "    </tr>\n",
       "  </thead>\n",
       "  <tbody>\n",
       "    <tr>\n",
       "      <th>5383</th>\n",
       "      <td>d8a45b91-bfb0-4e6b-bf85-af2c00e17c8e</td>\n",
       "      <td>ddd29e93-cf3c-450d-a562-24c94b5b60aa</td>\n",
       "      <td>Santos</td>\n",
       "      <td>Barreda</td>\n",
       "      <td>santos.barreda@example.com</td>\n",
       "      <td>False</td>\n",
       "      <td>2025-02-10</td>\n",
       "      <td>2025-03-01</td>\n",
       "      <td>2025-03-02</td>\n",
       "      <td>19</td>\n",
       "      <td>422.67</td>\n",
       "      <td>Hotel Rincón Sereno</td>\n",
       "      <td>3.0</td>\n",
       "      <td>Madrid</td>\n",
       "    </tr>\n",
       "    <tr>\n",
       "      <th>3186</th>\n",
       "      <td>9bea6761-865b-4915-bda8-f9e7601f9755</td>\n",
       "      <td>f7fca634-632a-4668-a15b-bfd76a483e91</td>\n",
       "      <td>Maricruz</td>\n",
       "      <td>Olivé</td>\n",
       "      <td>maricruz.olivé@example.com</td>\n",
       "      <td>False</td>\n",
       "      <td>2025-02-07</td>\n",
       "      <td>2025-03-01</td>\n",
       "      <td>2025-03-02</td>\n",
       "      <td>49</td>\n",
       "      <td>182.71</td>\n",
       "      <td>Palacio del Sol</td>\n",
       "      <td>1.0</td>\n",
       "      <td>Madrid</td>\n",
       "    </tr>\n",
       "    <tr>\n",
       "      <th>14101</th>\n",
       "      <td>4813770b-ebb4-4c07-ae71-93d67734eddb</td>\n",
       "      <td>35335beb-d8e3-435d-a9ff-40fbb6ec2f9c</td>\n",
       "      <td>Sandra</td>\n",
       "      <td>Goñi</td>\n",
       "      <td>sandra.goñi@example.com</td>\n",
       "      <td>False</td>\n",
       "      <td>2025-02-01</td>\n",
       "      <td>2025-03-01</td>\n",
       "      <td>2025-03-02</td>\n",
       "      <td>3</td>\n",
       "      <td>93.63</td>\n",
       "      <td>Hotel Sol y Luna</td>\n",
       "      <td>5.0</td>\n",
       "      <td>Madrid</td>\n",
       "    </tr>\n",
       "    <tr>\n",
       "      <th>309</th>\n",
       "      <td>760b9113-56ad-4c5f-bb47-74980488d028</td>\n",
       "      <td>b4998190-bade-4504-959e-bbcd40458187</td>\n",
       "      <td>Ciro</td>\n",
       "      <td>Gomila</td>\n",
       "      <td>ciro.gomila@example.com</td>\n",
       "      <td>False</td>\n",
       "      <td>2025-02-12</td>\n",
       "      <td>2025-03-01</td>\n",
       "      <td>2025-03-02</td>\n",
       "      <td>40</td>\n",
       "      <td>149.69</td>\n",
       "      <td>Gran Hotel Madrid</td>\n",
       "      <td>5.0</td>\n",
       "      <td>Madrid</td>\n",
       "    </tr>\n",
       "    <tr>\n",
       "      <th>9839</th>\n",
       "      <td>7e95fa9c-43d9-410c-94e9-d4e2a4ff8a41</td>\n",
       "      <td>4f54f5aa-9b68-4370-ad6b-2f7a1b80f868</td>\n",
       "      <td>Anunciación</td>\n",
       "      <td>Belda</td>\n",
       "      <td>anunciación.belda@example.com</td>\n",
       "      <td>False</td>\n",
       "      <td>2025-02-02</td>\n",
       "      <td>2025-03-01</td>\n",
       "      <td>2025-03-02</td>\n",
       "      <td>28</td>\n",
       "      <td>481.96</td>\n",
       "      <td>Hotel Vista Alegre</td>\n",
       "      <td>3.0</td>\n",
       "      <td>Madrid</td>\n",
       "    </tr>\n",
       "  </tbody>\n",
       "</table>\n",
       "</div>"
      ],
      "text/plain": [
       "                                 id_reserva  \\\n",
       "5383   d8a45b91-bfb0-4e6b-bf85-af2c00e17c8e   \n",
       "3186   9bea6761-865b-4915-bda8-f9e7601f9755   \n",
       "14101  4813770b-ebb4-4c07-ae71-93d67734eddb   \n",
       "309    760b9113-56ad-4c5f-bb47-74980488d028   \n",
       "9839   7e95fa9c-43d9-410c-94e9-d4e2a4ff8a41   \n",
       "\n",
       "                                 id_cliente       nombre apellido  \\\n",
       "5383   ddd29e93-cf3c-450d-a562-24c94b5b60aa       Santos  Barreda   \n",
       "3186   f7fca634-632a-4668-a15b-bfd76a483e91     Maricruz    Olivé   \n",
       "14101  35335beb-d8e3-435d-a9ff-40fbb6ec2f9c       Sandra     Goñi   \n",
       "309    b4998190-bade-4504-959e-bbcd40458187         Ciro   Gomila   \n",
       "9839   4f54f5aa-9b68-4370-ad6b-2f7a1b80f868  Anunciación    Belda   \n",
       "\n",
       "                                mail  competencia fecha_reserva  \\\n",
       "5383      santos.barreda@example.com        False    2025-02-10   \n",
       "3186      maricruz.olivé@example.com        False    2025-02-07   \n",
       "14101        sandra.goñi@example.com        False    2025-02-01   \n",
       "309          ciro.gomila@example.com        False    2025-02-12   \n",
       "9839   anunciación.belda@example.com        False    2025-02-02   \n",
       "\n",
       "      inicio_estancia final_estancia  id_hotel  precio_noche  \\\n",
       "5383       2025-03-01     2025-03-02        19        422.67   \n",
       "3186       2025-03-01     2025-03-02        49        182.71   \n",
       "14101      2025-03-01     2025-03-02         3         93.63   \n",
       "309        2025-03-01     2025-03-02        40        149.69   \n",
       "9839       2025-03-01     2025-03-02        28        481.96   \n",
       "\n",
       "              nombre_hotel  estrellas  ciudad  \n",
       "5383   Hotel Rincón Sereno        3.0  Madrid  \n",
       "3186       Palacio del Sol        1.0  Madrid  \n",
       "14101     Hotel Sol y Luna        5.0  Madrid  \n",
       "309      Gran Hotel Madrid        5.0  Madrid  \n",
       "9839    Hotel Vista Alegre        3.0  Madrid  "
      ]
     },
     "execution_count": 15,
     "metadata": {},
     "output_type": "execute_result"
    }
   ],
   "source": [
    "df.sample(5)"
   ]
  },
  {
   "cell_type": "code",
   "execution_count": 16,
   "metadata": {},
   "outputs": [
    {
     "name": "stdout",
     "output_type": "stream",
     "text": [
      "<class 'pandas.core.frame.DataFrame'>\n",
      "RangeIndex: 15098 entries, 0 to 15097\n",
      "Data columns (total 14 columns):\n",
      " #   Column           Non-Null Count  Dtype         \n",
      "---  ------           --------------  -----         \n",
      " 0   id_reserva       15098 non-null  object        \n",
      " 1   id_cliente       15098 non-null  object        \n",
      " 2   nombre           15098 non-null  object        \n",
      " 3   apellido         15098 non-null  object        \n",
      " 4   mail             15098 non-null  object        \n",
      " 5   competencia      15098 non-null  bool          \n",
      " 6   fecha_reserva    9926 non-null   datetime64[ns]\n",
      " 7   inicio_estancia  15098 non-null  datetime64[ns]\n",
      " 8   final_estancia   15098 non-null  datetime64[ns]\n",
      " 9   id_hotel         15098 non-null  int64         \n",
      " 10  precio_noche     9874 non-null   float64       \n",
      " 11  nombre_hotel     15098 non-null  object        \n",
      " 12  estrellas        9926 non-null   float64       \n",
      " 13  ciudad           15098 non-null  object        \n",
      "dtypes: bool(1), datetime64[ns](3), float64(2), int64(1), object(7)\n",
      "memory usage: 1.5+ MB\n"
     ]
    }
   ],
   "source": [
    "df.info()"
   ]
  },
  {
   "cell_type": "markdown",
   "metadata": {},
   "source": [
    "# Ciudades"
   ]
  },
  {
   "cell_type": "code",
   "execution_count": 17,
   "metadata": {},
   "outputs": [
    {
     "data": {
      "text/plain": [
       "array(['', 'Madrid'], dtype=object)"
      ]
     },
     "execution_count": 17,
     "metadata": {},
     "output_type": "execute_result"
    }
   ],
   "source": [
    "ciudades = df[\"ciudad\"].unique()\n",
    "ciudades"
   ]
  },
  {
   "cell_type": "code",
   "execution_count": 18,
   "metadata": {},
   "outputs": [
    {
     "data": {
      "text/html": [
       "<div>\n",
       "<style scoped>\n",
       "    .dataframe tbody tr th:only-of-type {\n",
       "        vertical-align: middle;\n",
       "    }\n",
       "\n",
       "    .dataframe tbody tr th {\n",
       "        vertical-align: top;\n",
       "    }\n",
       "\n",
       "    .dataframe thead th {\n",
       "        text-align: right;\n",
       "    }\n",
       "</style>\n",
       "<table border=\"1\" class=\"dataframe\">\n",
       "  <thead>\n",
       "    <tr style=\"text-align: right;\">\n",
       "      <th></th>\n",
       "      <th>id_reserva</th>\n",
       "      <th>id_cliente</th>\n",
       "      <th>nombre</th>\n",
       "      <th>apellido</th>\n",
       "      <th>mail</th>\n",
       "      <th>competencia</th>\n",
       "      <th>fecha_reserva</th>\n",
       "      <th>inicio_estancia</th>\n",
       "      <th>final_estancia</th>\n",
       "      <th>id_hotel</th>\n",
       "      <th>precio_noche</th>\n",
       "      <th>nombre_hotel</th>\n",
       "      <th>estrellas</th>\n",
       "      <th>ciudad</th>\n",
       "    </tr>\n",
       "  </thead>\n",
       "  <tbody>\n",
       "    <tr>\n",
       "      <th>7970</th>\n",
       "      <td>41c3c33c-57e2-4d80-8bf1-142e1a780b4c</td>\n",
       "      <td>a9c28149-6965-41f2-9e6a-b7e9c5b07ac2</td>\n",
       "      <td>Sancho</td>\n",
       "      <td>Hierro</td>\n",
       "      <td>sancho.hierro@example.com</td>\n",
       "      <td>False</td>\n",
       "      <td>2025-02-03</td>\n",
       "      <td>2025-03-01</td>\n",
       "      <td>2025-03-02</td>\n",
       "      <td>6</td>\n",
       "      <td>148.31</td>\n",
       "      <td>Hotel Vista Alegre</td>\n",
       "      <td>4.0</td>\n",
       "      <td>Madrid</td>\n",
       "    </tr>\n",
       "    <tr>\n",
       "      <th>10222</th>\n",
       "      <td>8bbf1e48-53b6-4736-a582-3acafe7fe6d1</td>\n",
       "      <td>6cccc821-504e-4233-8fe8-7d9fc21ab5d3</td>\n",
       "      <td>Paz</td>\n",
       "      <td>Rocamora</td>\n",
       "      <td>paz.rocamora@example.com</td>\n",
       "      <td>True</td>\n",
       "      <td>NaT</td>\n",
       "      <td>2025-03-01</td>\n",
       "      <td>2025-03-02</td>\n",
       "      <td>114</td>\n",
       "      <td>NaN</td>\n",
       "      <td></td>\n",
       "      <td>NaN</td>\n",
       "      <td>Madrid</td>\n",
       "    </tr>\n",
       "    <tr>\n",
       "      <th>1480</th>\n",
       "      <td>cf0e17f7-197f-4c27-baaf-5e44713bcd72</td>\n",
       "      <td>d1d0e2af-3a81-423f-bc62-ba4a193779b4</td>\n",
       "      <td>Apolinar</td>\n",
       "      <td>Romero</td>\n",
       "      <td>apolinar.romero@example.com</td>\n",
       "      <td>False</td>\n",
       "      <td>2025-02-04</td>\n",
       "      <td>2025-03-01</td>\n",
       "      <td>2025-03-02</td>\n",
       "      <td>49</td>\n",
       "      <td>440.20</td>\n",
       "      <td>Hotel Rincón Sereno</td>\n",
       "      <td>3.0</td>\n",
       "      <td>Madrid</td>\n",
       "    </tr>\n",
       "    <tr>\n",
       "      <th>2861</th>\n",
       "      <td>7c77649c-39f1-4c85-9d17-e543879c3b01</td>\n",
       "      <td>3de3ecdf-adfc-425e-8c4d-afac9b29198f</td>\n",
       "      <td>Lucho</td>\n",
       "      <td>Cobo</td>\n",
       "      <td>lucho.cobo@example.com</td>\n",
       "      <td>True</td>\n",
       "      <td>NaT</td>\n",
       "      <td>2025-03-01</td>\n",
       "      <td>2025-03-02</td>\n",
       "      <td>117</td>\n",
       "      <td>NaN</td>\n",
       "      <td></td>\n",
       "      <td>NaN</td>\n",
       "      <td>Madrid</td>\n",
       "    </tr>\n",
       "    <tr>\n",
       "      <th>12280</th>\n",
       "      <td>6494ad69-30c0-4d20-b9a9-164f296b3021</td>\n",
       "      <td>e55382b8-7b64-4636-b8e6-45c5d1f2af59</td>\n",
       "      <td>Mauricio</td>\n",
       "      <td>Calderón</td>\n",
       "      <td>mauricio.calderón@example.com</td>\n",
       "      <td>False</td>\n",
       "      <td>2025-02-01</td>\n",
       "      <td>2025-03-01</td>\n",
       "      <td>2025-03-02</td>\n",
       "      <td>33</td>\n",
       "      <td>331.94</td>\n",
       "      <td>Hotel Torre Dorada</td>\n",
       "      <td>4.0</td>\n",
       "      <td>Madrid</td>\n",
       "    </tr>\n",
       "  </tbody>\n",
       "</table>\n",
       "</div>"
      ],
      "text/plain": [
       "                                 id_reserva  \\\n",
       "7970   41c3c33c-57e2-4d80-8bf1-142e1a780b4c   \n",
       "10222  8bbf1e48-53b6-4736-a582-3acafe7fe6d1   \n",
       "1480   cf0e17f7-197f-4c27-baaf-5e44713bcd72   \n",
       "2861   7c77649c-39f1-4c85-9d17-e543879c3b01   \n",
       "12280  6494ad69-30c0-4d20-b9a9-164f296b3021   \n",
       "\n",
       "                                 id_cliente    nombre  apellido  \\\n",
       "7970   a9c28149-6965-41f2-9e6a-b7e9c5b07ac2    Sancho    Hierro   \n",
       "10222  6cccc821-504e-4233-8fe8-7d9fc21ab5d3       Paz  Rocamora   \n",
       "1480   d1d0e2af-3a81-423f-bc62-ba4a193779b4  Apolinar    Romero   \n",
       "2861   3de3ecdf-adfc-425e-8c4d-afac9b29198f     Lucho      Cobo   \n",
       "12280  e55382b8-7b64-4636-b8e6-45c5d1f2af59  Mauricio  Calderón   \n",
       "\n",
       "                                mail  competencia fecha_reserva  \\\n",
       "7970       sancho.hierro@example.com        False    2025-02-03   \n",
       "10222       paz.rocamora@example.com         True           NaT   \n",
       "1480     apolinar.romero@example.com        False    2025-02-04   \n",
       "2861          lucho.cobo@example.com         True           NaT   \n",
       "12280  mauricio.calderón@example.com        False    2025-02-01   \n",
       "\n",
       "      inicio_estancia final_estancia  id_hotel  precio_noche  \\\n",
       "7970       2025-03-01     2025-03-02         6        148.31   \n",
       "10222      2025-03-01     2025-03-02       114           NaN   \n",
       "1480       2025-03-01     2025-03-02        49        440.20   \n",
       "2861       2025-03-01     2025-03-02       117           NaN   \n",
       "12280      2025-03-01     2025-03-02        33        331.94   \n",
       "\n",
       "              nombre_hotel  estrellas  ciudad  \n",
       "7970    Hotel Vista Alegre        4.0  Madrid  \n",
       "10222                             NaN  Madrid  \n",
       "1480   Hotel Rincón Sereno        3.0  Madrid  \n",
       "2861                              NaN  Madrid  \n",
       "12280   Hotel Torre Dorada        4.0  Madrid  "
      ]
     },
     "execution_count": 18,
     "metadata": {},
     "output_type": "execute_result"
    }
   ],
   "source": [
    "# Rellenamos toda la columna con Madrid.\n",
    "df[\"ciudad\"] = \"Madrid\"\n",
    "df.sample(5)"
   ]
  },
  {
   "cell_type": "markdown",
   "metadata": {},
   "source": [
    "# Duplicados"
   ]
  },
  {
   "cell_type": "code",
   "execution_count": 19,
   "metadata": {},
   "outputs": [
    {
     "data": {
      "text/plain": [
       "np.int64(98)"
      ]
     },
     "execution_count": 19,
     "metadata": {},
     "output_type": "execute_result"
    }
   ],
   "source": [
    "duplicados = df.duplicated()\n",
    "duplicados.sum()"
   ]
  },
  {
   "cell_type": "code",
   "execution_count": 20,
   "metadata": {},
   "outputs": [
    {
     "name": "stdout",
     "output_type": "stream",
     "text": [
      "<class 'pandas.core.frame.DataFrame'>\n",
      "Index: 15000 entries, 0 to 14999\n",
      "Data columns (total 14 columns):\n",
      " #   Column           Non-Null Count  Dtype         \n",
      "---  ------           --------------  -----         \n",
      " 0   id_reserva       15000 non-null  object        \n",
      " 1   id_cliente       15000 non-null  object        \n",
      " 2   nombre           15000 non-null  object        \n",
      " 3   apellido         15000 non-null  object        \n",
      " 4   mail             15000 non-null  object        \n",
      " 5   competencia      15000 non-null  bool          \n",
      " 6   fecha_reserva    9828 non-null   datetime64[ns]\n",
      " 7   inicio_estancia  15000 non-null  datetime64[ns]\n",
      " 8   final_estancia   15000 non-null  datetime64[ns]\n",
      " 9   id_hotel         15000 non-null  int64         \n",
      " 10  precio_noche     9776 non-null   float64       \n",
      " 11  nombre_hotel     15000 non-null  object        \n",
      " 12  estrellas        9828 non-null   float64       \n",
      " 13  ciudad           15000 non-null  object        \n",
      "dtypes: bool(1), datetime64[ns](3), float64(2), int64(1), object(7)\n",
      "memory usage: 1.6+ MB\n"
     ]
    }
   ],
   "source": [
    "# Hay 98 filas totalmente duplicadas, las eliminamos\n",
    "df = df.drop_duplicates()\n",
    "df.info()"
   ]
  },
  {
   "cell_type": "markdown",
   "metadata": {},
   "source": [
    "# **Transformación**"
   ]
  },
  {
   "cell_type": "markdown",
   "metadata": {},
   "source": [
    "De cara a cargar los datos en la base de datos vamos a generar unas tablas a partir del df."
   ]
  },
  {
   "cell_type": "code",
   "execution_count": 21,
   "metadata": {},
   "outputs": [
    {
     "data": {
      "text/plain": [
       "np.int64(0)"
      ]
     },
     "execution_count": 21,
     "metadata": {},
     "output_type": "execute_result"
    }
   ],
   "source": [
    "# Podemos tener id_hotel duplicados porque más de un cliente puede reservar en el mismo hotel y podemos tener id_cliente duplicados porque el mismo cliente puede haber hecho varias reservas\n",
    "# lo que no podemos tener repetido es el id_reserva. Lo comprobamos\n",
    "reservas = df[\"id_reserva\"].duplicated().sum()\n",
    "reservas"
   ]
  },
  {
   "cell_type": "markdown",
   "metadata": {},
   "source": [
    "## Hoteles"
   ]
  },
  {
   "cell_type": "code",
   "execution_count": 22,
   "metadata": {},
   "outputs": [
    {
     "data": {
      "text/plain": [
       "29"
      ]
     },
     "execution_count": 22,
     "metadata": {},
     "output_type": "execute_result"
    }
   ],
   "source": [
    "# Cantidad de id_hotel\n",
    "df[\"id_hotel\"].nunique()"
   ]
  },
  {
   "cell_type": "code",
   "execution_count": 23,
   "metadata": {},
   "outputs": [
    {
     "data": {
      "text/plain": [
       "20"
      ]
     },
     "execution_count": 23,
     "metadata": {},
     "output_type": "execute_result"
    }
   ],
   "source": [
    "# Cantidad nombres hotel\n",
    "df[\"nombre_hotel\"].nunique()"
   ]
  },
  {
   "cell_type": "markdown",
   "metadata": {},
   "source": [
    "Ya hemos visto que nos faltan datos de los hoteles de la competencia, lo que explica la discrepancia en la cantidad de valores únicos. Vamos a generar dos tablas de hoteles, una con los hoteles propios y otra con los de la competencia."
   ]
  },
  {
   "cell_type": "code",
   "execution_count": 24,
   "metadata": {},
   "outputs": [
    {
     "data": {
      "text/html": [
       "<div>\n",
       "<style scoped>\n",
       "    .dataframe tbody tr th:only-of-type {\n",
       "        vertical-align: middle;\n",
       "    }\n",
       "\n",
       "    .dataframe tbody tr th {\n",
       "        vertical-align: top;\n",
       "    }\n",
       "\n",
       "    .dataframe thead th {\n",
       "        text-align: right;\n",
       "    }\n",
       "</style>\n",
       "<table border=\"1\" class=\"dataframe\">\n",
       "  <thead>\n",
       "    <tr style=\"text-align: right;\">\n",
       "      <th></th>\n",
       "      <th>id_hotel</th>\n",
       "      <th>nombre_hotel</th>\n",
       "      <th>estrellas</th>\n",
       "      <th>ciudad</th>\n",
       "    </tr>\n",
       "  </thead>\n",
       "  <tbody>\n",
       "    <tr>\n",
       "      <th>746</th>\n",
       "      <td>131</td>\n",
       "      <td></td>\n",
       "      <td>NaN</td>\n",
       "      <td>Madrid</td>\n",
       "    </tr>\n",
       "    <tr>\n",
       "      <th>14620</th>\n",
       "      <td>181</td>\n",
       "      <td></td>\n",
       "      <td>NaN</td>\n",
       "      <td>Madrid</td>\n",
       "    </tr>\n",
       "    <tr>\n",
       "      <th>6548</th>\n",
       "      <td>117</td>\n",
       "      <td></td>\n",
       "      <td>NaN</td>\n",
       "      <td>Madrid</td>\n",
       "    </tr>\n",
       "    <tr>\n",
       "      <th>7949</th>\n",
       "      <td>117</td>\n",
       "      <td></td>\n",
       "      <td>NaN</td>\n",
       "      <td>Madrid</td>\n",
       "    </tr>\n",
       "    <tr>\n",
       "      <th>3477</th>\n",
       "      <td>114</td>\n",
       "      <td></td>\n",
       "      <td>NaN</td>\n",
       "      <td>Madrid</td>\n",
       "    </tr>\n",
       "  </tbody>\n",
       "</table>\n",
       "</div>"
      ],
      "text/plain": [
       "       id_hotel nombre_hotel  estrellas  ciudad\n",
       "746         131                     NaN  Madrid\n",
       "14620       181                     NaN  Madrid\n",
       "6548        117                     NaN  Madrid\n",
       "7949        117                     NaN  Madrid\n",
       "3477        114                     NaN  Madrid"
      ]
     },
     "execution_count": 24,
     "metadata": {},
     "output_type": "execute_result"
    }
   ],
   "source": [
    "df_competencia = df[[\"id_hotel\", \"nombre_hotel\", \"estrellas\", \"ciudad\"]][df[\"competencia\"]==True]\n",
    "df_competencia.sample(5)"
   ]
  },
  {
   "cell_type": "code",
   "execution_count": null,
   "metadata": {},
   "outputs": [
    {
     "data": {
      "text/html": [
       "<div>\n",
       "<style scoped>\n",
       "    .dataframe tbody tr th:only-of-type {\n",
       "        vertical-align: middle;\n",
       "    }\n",
       "\n",
       "    .dataframe tbody tr th {\n",
       "        vertical-align: top;\n",
       "    }\n",
       "\n",
       "    .dataframe thead th {\n",
       "        text-align: right;\n",
       "    }\n",
       "</style>\n",
       "<table border=\"1\" class=\"dataframe\">\n",
       "  <thead>\n",
       "    <tr style=\"text-align: right;\">\n",
       "      <th></th>\n",
       "      <th>id_hotel</th>\n",
       "      <th>nombre_hotel</th>\n",
       "      <th>estrellas</th>\n",
       "      <th>ciudad</th>\n",
       "    </tr>\n",
       "  </thead>\n",
       "  <tbody>\n",
       "    <tr>\n",
       "      <th>9894</th>\n",
       "      <td>14</td>\n",
       "      <td>Hotel Mirador Real</td>\n",
       "      <td>5.0</td>\n",
       "      <td>Madrid</td>\n",
       "    </tr>\n",
       "    <tr>\n",
       "      <th>5854</th>\n",
       "      <td>36</td>\n",
       "      <td>Hotel Las Estrellas</td>\n",
       "      <td>1.0</td>\n",
       "      <td>Madrid</td>\n",
       "    </tr>\n",
       "    <tr>\n",
       "      <th>8200</th>\n",
       "      <td>19</td>\n",
       "      <td>Hotel Jardines del Rey</td>\n",
       "      <td>4.0</td>\n",
       "      <td>Madrid</td>\n",
       "    </tr>\n",
       "    <tr>\n",
       "      <th>13449</th>\n",
       "      <td>33</td>\n",
       "      <td>Hotel Torre Dorada</td>\n",
       "      <td>2.0</td>\n",
       "      <td>Madrid</td>\n",
       "    </tr>\n",
       "    <tr>\n",
       "      <th>9565</th>\n",
       "      <td>43</td>\n",
       "      <td>Hotel Puerta del Cielo</td>\n",
       "      <td>3.0</td>\n",
       "      <td>Madrid</td>\n",
       "    </tr>\n",
       "  </tbody>\n",
       "</table>\n",
       "</div>"
      ],
      "text/plain": [
       "       id_hotel            nombre_hotel  estrellas  ciudad\n",
       "9894         14      Hotel Mirador Real        5.0  Madrid\n",
       "5854         36     Hotel Las Estrellas        1.0  Madrid\n",
       "8200         19  Hotel Jardines del Rey        4.0  Madrid\n",
       "13449        33      Hotel Torre Dorada        2.0  Madrid\n",
       "9565         43  Hotel Puerta del Cielo        3.0  Madrid"
      ]
     },
     "execution_count": 25,
     "metadata": {},
     "output_type": "execute_result"
    }
   ],
   "source": [
    "df_propios = df[[\"id_hotel\",  , \"estrellas\", \"ciudad\"]][df[\"competencia\"]==False]\n",
    "df_propios.sample(5)"
   ]
  },
  {
   "cell_type": "markdown",
   "metadata": {},
   "source": [
    "Al sacar una muestra vemos que hay dos nombres de hotel con id_hotel distintos. Vamos a asociar un único id_hotel por cada nombre_hotel"
   ]
  },
  {
   "cell_type": "code",
   "execution_count": 26,
   "metadata": {},
   "outputs": [
    {
     "data": {
      "text/plain": [
       "array(['Hotel Monte Verde', 'Hotel Brisas del Mar',\n",
       "       'Hotel Camino del Sol', 'Hotel Puerta del Cielo',\n",
       "       'Hotel Encanto Real', 'Palacio del Sol', 'Hotel Jardines del Rey',\n",
       "       'Hotel Las Estrellas', 'Gran Hotel Madrid', 'Hotel Torre Dorada',\n",
       "       'Hotel Palacio Imperial', 'Hotel Luz de Madrid',\n",
       "       'Hotel Los Almendros', 'Hotel Sol y Luna', 'Hotel Mirador Real',\n",
       "       'Hotel Rincón Sereno', 'Hotel Vista Alegre', 'Hotel Costa Azul',\n",
       "       'Hotel Maravilla Real'], dtype=object)"
      ]
     },
     "execution_count": 26,
     "metadata": {},
     "output_type": "execute_result"
    }
   ],
   "source": [
    "nombres=df_propios[\"nombre_hotel\"].unique()\n",
    "nombres"
   ]
  },
  {
   "cell_type": "code",
   "execution_count": 27,
   "metadata": {},
   "outputs": [
    {
     "data": {
      "text/plain": [
       "{'Hotel Monte Verde': '001',\n",
       " 'Hotel Brisas del Mar': '002',\n",
       " 'Hotel Camino del Sol': '003',\n",
       " 'Hotel Puerta del Cielo': '004',\n",
       " 'Hotel Encanto Real': '005',\n",
       " 'Palacio del Sol': '006',\n",
       " 'Hotel Jardines del Rey': '007',\n",
       " 'Hotel Las Estrellas': '008',\n",
       " 'Gran Hotel Madrid': '009',\n",
       " 'Hotel Torre Dorada': '0010',\n",
       " 'Hotel Palacio Imperial': '0011',\n",
       " 'Hotel Luz de Madrid': '0012',\n",
       " 'Hotel Los Almendros': '0013',\n",
       " 'Hotel Sol y Luna': '0014',\n",
       " 'Hotel Mirador Real': '0015',\n",
       " 'Hotel Rincón Sereno': '0016',\n",
       " 'Hotel Vista Alegre': '0017',\n",
       " 'Hotel Costa Azul': '0018',\n",
       " 'Hotel Maravilla Real': '0019'}"
      ]
     },
     "execution_count": 27,
     "metadata": {},
     "output_type": "execute_result"
    }
   ],
   "source": [
    "nombrehotel=[]\n",
    "idhotel=[]\n",
    "for nombre in enumerate(nombres, start=1):\n",
    "    nombrehotel.append(nombre[1])\n",
    "    idhotel.append(f\"00{nombre[0]}\")\n",
    "hoteles_propios = dict(zip(nombrehotel, idhotel))\n",
    "hoteles_propios"
   ]
  },
  {
   "cell_type": "code",
   "execution_count": 29,
   "metadata": {},
   "outputs": [
    {
     "data": {
      "text/html": [
       "<div>\n",
       "<style scoped>\n",
       "    .dataframe tbody tr th:only-of-type {\n",
       "        vertical-align: middle;\n",
       "    }\n",
       "\n",
       "    .dataframe tbody tr th {\n",
       "        vertical-align: top;\n",
       "    }\n",
       "\n",
       "    .dataframe thead th {\n",
       "        text-align: right;\n",
       "    }\n",
       "</style>\n",
       "<table border=\"1\" class=\"dataframe\">\n",
       "  <thead>\n",
       "    <tr style=\"text-align: right;\">\n",
       "      <th></th>\n",
       "      <th>id_hotel</th>\n",
       "      <th>nombre_hotel</th>\n",
       "      <th>estrellas</th>\n",
       "      <th>ciudad</th>\n",
       "    </tr>\n",
       "  </thead>\n",
       "  <tbody>\n",
       "    <tr>\n",
       "      <th>6581</th>\n",
       "      <td>002</td>\n",
       "      <td>Hotel Brisas del Mar</td>\n",
       "      <td>4.0</td>\n",
       "      <td>Madrid</td>\n",
       "    </tr>\n",
       "    <tr>\n",
       "      <th>596</th>\n",
       "      <td>0013</td>\n",
       "      <td>Hotel Los Almendros</td>\n",
       "      <td>5.0</td>\n",
       "      <td>Madrid</td>\n",
       "    </tr>\n",
       "    <tr>\n",
       "      <th>11056</th>\n",
       "      <td>008</td>\n",
       "      <td>Hotel Las Estrellas</td>\n",
       "      <td>3.0</td>\n",
       "      <td>Madrid</td>\n",
       "    </tr>\n",
       "    <tr>\n",
       "      <th>12793</th>\n",
       "      <td>0017</td>\n",
       "      <td>Hotel Vista Alegre</td>\n",
       "      <td>1.0</td>\n",
       "      <td>Madrid</td>\n",
       "    </tr>\n",
       "    <tr>\n",
       "      <th>4810</th>\n",
       "      <td>009</td>\n",
       "      <td>Gran Hotel Madrid</td>\n",
       "      <td>4.0</td>\n",
       "      <td>Madrid</td>\n",
       "    </tr>\n",
       "  </tbody>\n",
       "</table>\n",
       "</div>"
      ],
      "text/plain": [
       "      id_hotel          nombre_hotel  estrellas  ciudad\n",
       "6581       002  Hotel Brisas del Mar        4.0  Madrid\n",
       "596       0013   Hotel Los Almendros        5.0  Madrid\n",
       "11056      008   Hotel Las Estrellas        3.0  Madrid\n",
       "12793     0017    Hotel Vista Alegre        1.0  Madrid\n",
       "4810       009     Gran Hotel Madrid        4.0  Madrid"
      ]
     },
     "execution_count": 29,
     "metadata": {},
     "output_type": "execute_result"
    }
   ],
   "source": [
    "df_propios[\"id_hotel\"] = df_propios[\"nombre_hotel\"].map(hoteles_propios)\n",
    "df_propios.sample(5)"
   ]
  },
  {
   "cell_type": "markdown",
   "metadata": {},
   "source": [
    "Una vez que tenemos los id_hotel correctamente asignados, debemos corregir la columna estrellas, que tiene valores distintos para el mismo nombre de hotel"
   ]
  },
  {
   "cell_type": "code",
   "execution_count": 30,
   "metadata": {},
   "outputs": [
    {
     "data": {
      "text/plain": [
       "nombre_hotel\n",
       "Gran Hotel Madrid         3.067568\n",
       "Hotel Brisas del Mar      3.088015\n",
       "Hotel Camino del Sol      3.067568\n",
       "Hotel Costa Azul          3.118447\n",
       "Hotel Encanto Real        3.031311\n",
       "Hotel Jardines del Rey    2.936255\n",
       "Hotel Las Estrellas       2.906615\n",
       "Hotel Los Almendros       3.011257\n",
       "Hotel Luz de Madrid       3.052239\n",
       "Hotel Maravilla Real      2.978858\n",
       "Hotel Mirador Real        2.977486\n",
       "Hotel Monte Verde         3.103636\n",
       "Hotel Palacio Imperial    3.006479\n",
       "Hotel Puerta del Cielo    3.028517\n",
       "Hotel Rincón Sereno       2.998047\n",
       "Hotel Sol y Luna          3.008977\n",
       "Hotel Torre Dorada        2.919922\n",
       "Hotel Vista Alegre        2.941292\n",
       "Palacio del Sol           2.992157\n",
       "Name: estrellas, dtype: float64"
      ]
     },
     "execution_count": 30,
     "metadata": {},
     "output_type": "execute_result"
    }
   ],
   "source": [
    "df_estrellas = df_propios.groupby(\"nombre_hotel\")[\"estrellas\"].mean()\n",
    "df_estrellas"
   ]
  }
 ],
 "metadata": {
  "kernelspec": {
   "display_name": "venv",
   "language": "python",
   "name": "venv"
  },
  "language_info": {
   "codemirror_mode": {
    "name": "ipython",
    "version": 3
   },
   "file_extension": ".py",
   "mimetype": "text/x-python",
   "name": "python",
   "nbconvert_exporter": "python",
   "pygments_lexer": "ipython3",
   "version": "3.13.0"
  }
 },
 "nbformat": 4,
 "nbformat_minor": 2
}
