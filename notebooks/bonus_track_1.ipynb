{
 "cells": [
  {
   "cell_type": "code",
   "execution_count": 1,
   "metadata": {},
   "outputs": [],
   "source": [
    "import pandas as pd"
   ]
  },
  {
   "cell_type": "markdown",
   "metadata": {},
   "source": [
    "# **BONUS TRACK 1**\n",
    "\n",
    "Una vez creada la base de datos, realiza consultas a esa base de datos:"
   ]
  },
  {
   "cell_type": "code",
   "execution_count": 2,
   "metadata": {},
   "outputs": [],
   "source": [
    "# Nos conectamos a la base de datos que hemos creado.\n",
    "import psycopg2\n",
    "# Importamos os y dotenv para poder recuperar variables del archivo .env\n",
    "import os\n",
    "from dotenv import load_dotenv\n",
    "# Cargamos variables de entorno\n",
    "load_dotenv()\n",
    "dbname = os.getenv(\"dbname\")\n",
    "user =  os.getenv(\"user\")\n",
    "password = os.getenv(\"password\")\n",
    "host = os.getenv(\"host\")\n",
    "port = os.getenv(\"port\")\n",
    "# Configurar la conexión\n",
    "conn = psycopg2.connect(\n",
    "    dbname = dbname,\n",
    "    user = user,\n",
    "    password = password,\n",
    "    host = host,\n",
    "    port = port)\n",
    "# Crear un cursor para ejecutar comandos SQL\n",
    "cur = conn.cursor()"
   ]
  },
  {
   "cell_type": "markdown",
   "metadata": {},
   "source": [
    "1. Cuantos hoteles tiene la base de datos"
   ]
  },
  {
   "cell_type": "code",
   "execution_count": 3,
   "metadata": {},
   "outputs": [
    {
     "data": {
      "text/plain": [
       "[(29,)]"
      ]
     },
     "execution_count": 3,
     "metadata": {},
     "output_type": "execute_result"
    }
   ],
   "source": [
    "query1 = \"\"\" SELECT count(id_hotel) \n",
    "            FROM hoteles;\"\"\"\n",
    "cur.execute(query1)\n",
    "resultado1 = cur.fetchall()\n",
    "resultado1"
   ]
  },
  {
   "cell_type": "code",
   "execution_count": 4,
   "metadata": {},
   "outputs": [
    {
     "name": "stdout",
     "output_type": "stream",
     "text": [
      "La base de datos tiene 29 hoteles\n"
     ]
    }
   ],
   "source": [
    "print(f\"La base de datos tiene {resultado1[0][0]} hoteles\")"
   ]
  },
  {
   "cell_type": "markdown",
   "metadata": {},
   "source": [
    "2. Cuantas reservas se han hecho"
   ]
  },
  {
   "cell_type": "code",
   "execution_count": 5,
   "metadata": {},
   "outputs": [
    {
     "data": {
      "text/plain": [
       "[(15000,)]"
      ]
     },
     "execution_count": 5,
     "metadata": {},
     "output_type": "execute_result"
    }
   ],
   "source": [
    "query2 = \"\"\" SELECT count(id_reserva) \n",
    "            FROM reservas;\"\"\"\n",
    "cur.execute(query2)\n",
    "resultado2 = cur.fetchall()\n",
    "resultado2"
   ]
  },
  {
   "cell_type": "code",
   "execution_count": 6,
   "metadata": {},
   "outputs": [
    {
     "name": "stdout",
     "output_type": "stream",
     "text": [
      "Se han realizado 15000 reservas en total\n"
     ]
    }
   ],
   "source": [
    "print(f\"Se han realizado {resultado2[0][0]} reservas en total\")"
   ]
  },
  {
   "cell_type": "markdown",
   "metadata": {},
   "source": [
    "3. Identifica los 10 clientes que más se han gastado"
   ]
  },
  {
   "cell_type": "code",
   "execution_count": 7,
   "metadata": {},
   "outputs": [
    {
     "data": {
      "text/html": [
       "<div>\n",
       "<style scoped>\n",
       "    .dataframe tbody tr th:only-of-type {\n",
       "        vertical-align: middle;\n",
       "    }\n",
       "\n",
       "    .dataframe tbody tr th {\n",
       "        vertical-align: top;\n",
       "    }\n",
       "\n",
       "    .dataframe thead th {\n",
       "        text-align: right;\n",
       "    }\n",
       "</style>\n",
       "<table border=\"1\" class=\"dataframe\">\n",
       "  <thead>\n",
       "    <tr style=\"text-align: right;\">\n",
       "      <th></th>\n",
       "      <th>id_cliente</th>\n",
       "      <th>nombre</th>\n",
       "      <th>apellido</th>\n",
       "      <th>gasto_total</th>\n",
       "    </tr>\n",
       "  </thead>\n",
       "  <tbody>\n",
       "    <tr>\n",
       "      <th>0</th>\n",
       "      <td>cliente_205</td>\n",
       "      <td>Ceferino</td>\n",
       "      <td>Sosa</td>\n",
       "      <td>888.93</td>\n",
       "    </tr>\n",
       "    <tr>\n",
       "      <th>1</th>\n",
       "      <td>cliente_255</td>\n",
       "      <td>Leandra</td>\n",
       "      <td>Castañeda</td>\n",
       "      <td>823.44</td>\n",
       "    </tr>\n",
       "    <tr>\n",
       "      <th>2</th>\n",
       "      <td>cliente_2576</td>\n",
       "      <td>Modesta</td>\n",
       "      <td>Heras</td>\n",
       "      <td>805.08</td>\n",
       "    </tr>\n",
       "    <tr>\n",
       "      <th>3</th>\n",
       "      <td>cliente_1567</td>\n",
       "      <td>Clarisa</td>\n",
       "      <td>Coll</td>\n",
       "      <td>795.63</td>\n",
       "    </tr>\n",
       "    <tr>\n",
       "      <th>4</th>\n",
       "      <td>cliente_6807</td>\n",
       "      <td>Abigaíl</td>\n",
       "      <td>Ayala</td>\n",
       "      <td>791.89</td>\n",
       "    </tr>\n",
       "    <tr>\n",
       "      <th>5</th>\n",
       "      <td>cliente_6190</td>\n",
       "      <td>Domingo</td>\n",
       "      <td>Zabaleta</td>\n",
       "      <td>778.89</td>\n",
       "    </tr>\n",
       "    <tr>\n",
       "      <th>6</th>\n",
       "      <td>cliente_3975</td>\n",
       "      <td>Consuela</td>\n",
       "      <td>Folch</td>\n",
       "      <td>749.41</td>\n",
       "    </tr>\n",
       "    <tr>\n",
       "      <th>7</th>\n",
       "      <td>cliente_3780</td>\n",
       "      <td>Samuel</td>\n",
       "      <td>Arco</td>\n",
       "      <td>696.95</td>\n",
       "    </tr>\n",
       "    <tr>\n",
       "      <th>8</th>\n",
       "      <td>cliente_11129</td>\n",
       "      <td>Ángeles</td>\n",
       "      <td>Nuñez</td>\n",
       "      <td>696.65</td>\n",
       "    </tr>\n",
       "    <tr>\n",
       "      <th>9</th>\n",
       "      <td>cliente_2798</td>\n",
       "      <td>Ariadna</td>\n",
       "      <td>Miguel</td>\n",
       "      <td>695.66</td>\n",
       "    </tr>\n",
       "  </tbody>\n",
       "</table>\n",
       "</div>"
      ],
      "text/plain": [
       "      id_cliente    nombre   apellido  gasto_total\n",
       "0    cliente_205  Ceferino       Sosa       888.93\n",
       "1    cliente_255   Leandra  Castañeda       823.44\n",
       "2   cliente_2576   Modesta      Heras       805.08\n",
       "3   cliente_1567   Clarisa       Coll       795.63\n",
       "4   cliente_6807   Abigaíl      Ayala       791.89\n",
       "5   cliente_6190   Domingo   Zabaleta       778.89\n",
       "6   cliente_3975  Consuela      Folch       749.41\n",
       "7   cliente_3780    Samuel       Arco       696.95\n",
       "8  cliente_11129   Ángeles      Nuñez       696.65\n",
       "9   cliente_2798   Ariadna     Miguel       695.66"
      ]
     },
     "execution_count": 7,
     "metadata": {},
     "output_type": "execute_result"
    }
   ],
   "source": [
    "query3 = \"\"\" SELECT c.id_cliente, nombre, apellido, sum(r.precio_noche) AS total\n",
    "            FROM clientes AS c\n",
    "            JOIN reservas AS r on c.id_cliente = r.id_cliente\n",
    "            GROUP BY c.id_cliente\n",
    "            ORDER BY sum(r.precio_noche) DESC\n",
    "            LIMIT 10\n",
    "              ;\"\"\"\n",
    "cur.execute(query3)\n",
    "# Organizamos el resultado en un dataframe para verlo mejor\n",
    "resultado3 = pd.DataFrame(cur.fetchall(), columns=[\"id_cliente\", \"nombre\", \"apellido\", \"gasto_total\"])\n",
    "resultado3"
   ]
  },
  {
   "cell_type": "markdown",
   "metadata": {},
   "source": [
    "4. Identifica el hotel de la competencia y el hotel de nuestra marca que más han recaudado para esas fechas"
   ]
  },
  {
   "cell_type": "code",
   "execution_count": 8,
   "metadata": {},
   "outputs": [],
   "source": [
    "conn.rollback()"
   ]
  },
  {
   "cell_type": "code",
   "execution_count": 9,
   "metadata": {},
   "outputs": [],
   "source": [
    "query4_c = \"\"\" SELECT h.nombre_hotel, sum(r.precio_noche)\n",
    "                FROM hoteles AS h\n",
    "                JOIN reservas AS r on h.id_hotel = r.id_hotel\n",
    "                GROUP BY h.nombre_hotel, h.competencia\n",
    "                HAVING h.competencia = True\n",
    "                ORDER BY sum(r.precio_noche) DESC\n",
    "                LIMIT 1\n",
    "              ;\"\"\"\n",
    "cur.execute(query4_c)\n",
    "resultado4_c = cur.fetchall()\n",
    "\n",
    "query4_m = \"\"\" SELECT h.nombre_hotel, sum(r.precio_noche)\n",
    "                FROM hoteles AS h\n",
    "                JOIN reservas AS r on h.id_hotel = r.id_hotel\n",
    "                GROUP BY h.nombre_hotel, h.competencia\n",
    "                HAVING h.competencia = False\n",
    "                ORDER BY sum(r.precio_noche) DESC\n",
    "                LIMIT 1\n",
    "              ;\"\"\"\n",
    "cur.execute(query4_m)\n",
    "resultado4_m = cur.fetchall()\n"
   ]
  },
  {
   "cell_type": "code",
   "execution_count": 10,
   "metadata": {},
   "outputs": [
    {
     "name": "stdout",
     "output_type": "stream",
     "text": [
      "El hotel de la competencia que más ha recaudado es el ibis Madrid Centro las Ventas con 94844.0 €\n",
      "El hotel de nuestra marca que más ha recaudado es el Hotel Monte Verde con 152136.80952380956 €\n"
     ]
    }
   ],
   "source": [
    "print(f\"El hotel de la competencia que más ha recaudado es el {resultado4_c[0][0]} con {resultado4_c[0][1]} €\") \n",
    "print(f\"El hotel de nuestra marca que más ha recaudado es el {resultado4_m[0][0]} con {resultado4_m[0][1]} €\")"
   ]
  },
  {
   "cell_type": "markdown",
   "metadata": {},
   "source": [
    "5. Identifica cuantos eventos hay"
   ]
  },
  {
   "cell_type": "code",
   "execution_count": 11,
   "metadata": {},
   "outputs": [
    {
     "name": "stdout",
     "output_type": "stream",
     "text": [
      "Hay 229 eventos en curso en las fechas reservadas\n"
     ]
    }
   ],
   "source": [
    "query5 = \"\"\" SELECT count(id_evento) \n",
    "            FROM eventos;\"\"\"\n",
    "cur.execute(query5)\n",
    "resultado5 = cur.fetchall()\n",
    "print(f\"Hay {resultado5[0][0]} eventos en curso en las fechas reservadas\")"
   ]
  },
  {
   "cell_type": "markdown",
   "metadata": {},
   "source": [
    "6. Identifica el día que más reservas se han hecho para nuestro hoteles"
   ]
  },
  {
   "cell_type": "code",
   "execution_count": 12,
   "metadata": {},
   "outputs": [
    {
     "name": "stdout",
     "output_type": "stream",
     "text": [
      "El día que más reservas se han hecho para nuestros hoteles es el 2025-02-06\n"
     ]
    }
   ],
   "source": [
    "query6 = \"\"\" SELECT r.fecha_reserva, count(r.id_reserva)\n",
    "                FROM reservas AS r\n",
    "                JOIN hoteles AS h ON r.id_hotel = h.id_hotel\n",
    "                GROUP BY r.fecha_reserva, h.competencia\n",
    "                HAVING h.competencia = False\n",
    "                ORDER BY count(r.id_reserva) DESC\n",
    "                LIMIT 1\n",
    "              ;\"\"\"\n",
    "cur.execute(query6)\n",
    "resultado6 = cur.fetchall()\n",
    "print(f\"El día que más reservas se han hecho para nuestros hoteles es el {resultado6[0][0]}\")"
   ]
  },
  {
   "cell_type": "code",
   "execution_count": 13,
   "metadata": {},
   "outputs": [],
   "source": [
    "# Cerramos el cursor y la conexión\n",
    "cur.close()\n",
    "conn.close()"
   ]
  }
 ],
 "metadata": {
  "kernelspec": {
   "display_name": "Python 3",
   "language": "python",
   "name": "python3"
  },
  "language_info": {
   "codemirror_mode": {
    "name": "ipython",
    "version": 3
   },
   "file_extension": ".py",
   "mimetype": "text/x-python",
   "name": "python",
   "nbconvert_exporter": "python",
   "pygments_lexer": "ipython3",
   "version": "3.13.0"
  }
 },
 "nbformat": 4,
 "nbformat_minor": 2
}
