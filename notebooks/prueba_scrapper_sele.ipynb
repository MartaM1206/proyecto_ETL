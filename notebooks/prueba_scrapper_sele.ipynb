{
 "cells": [
  {
   "cell_type": "code",
   "execution_count": 19,
   "metadata": {},
   "outputs": [
    {
     "name": "stdout",
     "output_type": "stream",
     "text": [
      "Cookies aceptadas.\n"
     ]
    }
   ],
   "source": [
    "from selenium import webdriver\n",
    "from selenium.webdriver.chrome.service import Service\n",
    "from selenium.webdriver.chrome.options import Options\n",
    "from webdriver_manager.chrome import ChromeDriverManager\n",
    "from selenium.webdriver.common.by import By\n",
    "from selenium.webdriver.common.keys import Keys\n",
    "from selenium.webdriver.support.ui import WebDriverWait\n",
    "from selenium.webdriver.support import expected_conditions as EC\n",
    "from selenium.common.exceptions import TimeoutException, NoSuchElementException\n",
    "import pandas as pd\n",
    "import time\n",
    "from time import sleep\n",
    "options = webdriver.ChromeOptions()\n",
    "options.add_argument('--headless')\n",
    "service = Service(ChromeDriverManager().install())\n",
    "# Inicializamos el WebDriver\n",
    "driver = webdriver.Chrome()\n",
    "\n",
    "# Configuramos el tiempo de espera implícito a 10 segundos\n",
    "driver.implicitly_wait(10)\n",
    "\n",
    "# URL de la web de hoteles\n",
    "# En este caso la url ya lleva las selecciones de fecha y disponibilidad\n",
    "url_hoteles = \"https://all.accor.com/ssr/app/ibis/hotels/madrid-spain/open/index.es.shtml?compositions=1&stayplus=false&snu=false&hideWDR=false&accessibleRooms=false&hideHotelDetails=false&dateIn=2025-03-01&nights=1&destination=madrid-spain\"\n",
    "\n",
    "# Abrimos la url\n",
    "driver.get(url_hoteles)\n",
    "#driver.maximize_window()\n",
    "sleep(3)  # Pausa para permitir la carga completa de la página\n",
    "try:\n",
    "    # Intentar encontrar y hacer clic en el botón de aceptar cookies\n",
    "    boton_cookies = driver.find_element(By.XPATH, '//*[@id=\"onetrust-accept-btn-handler\"]')\n",
    "    boton_cookies.click()\n",
    "    print(\"Cookies aceptadas.\")\n",
    "except NoSuchElementException:\n",
    "    print(\"No se encontraron cookies para aceptar.\")\n",
    "\n",
    "# Encuentra todos los bloques de información de los hoteles en la página\n",
    "hotel_blocks = driver.find_elements(By.CLASS_NAME, \"hotelblock__content\")\n",
    "\n",
    "# Lista vacía para almacenar la información de los hoteles\n",
    "hoteles_info = []\n",
    "\n",
    "# Itera sobre cada bloque de hotel y extrae la información\n",
    "for hotel in hotel_blocks:\n",
    "    nombre_hotel = (hotel.find_element(By.CLASS_NAME, \"title\").text).split('\\n')[0] # split('\\n')[0] para obtener solo el nombre del hotel\n",
    "    estrellas = (hotel.find_element(By.CLASS_NAME, \"ratings__score\").text).split(\"/\")[0] # obtener solo el número de estrellas\n",
    "    # Como hay hoteles con precios para socios, queremos obtener el precio por defecto\n",
    "    try: # intentamos obtener el precio por defecto\n",
    "        precio = hotel.find_element(By.CLASS_NAME, \"rate-details__price2__first-price.rate-details__price--default .booking-price__number.mcp-price-number\").text\n",
    "        \n",
    "    except: # si solo hay un precio nos devuelve el único disponible\n",
    "        precio = hotel.find_element(By.CLASS_NAME, \"rate-details__price1__first-price.rate-details__price--default .booking-price__number.mcp-price-number\").text\n",
    "        \n",
    "# añadimos la información a la lista\n",
    "    hoteles_info.append({\n",
    "        \"nombre\": nombre_hotel,\n",
    "        \"estrellas\": estrellas,\n",
    "        \"precio\": precio\n",
    "    })\n",
    "# Cerrar el navegador\n",
    "driver.quit()\n",
    "#driver.close()\n",
    "\n"
   ]
  },
  {
   "cell_type": "code",
   "execution_count": 20,
   "metadata": {},
   "outputs": [],
   "source": [
    "# Crear un dataframe con la información obtenida\n",
    "df_hoteles_competencia2 = pd.DataFrame(hoteles_info)\n",
    "df_hoteles_competencia2.to_csv('hoteles_competencia2.csv', index=False)"
   ]
  }
 ],
 "metadata": {
  "kernelspec": {
   "display_name": "venv",
   "language": "python",
   "name": "venv"
  },
  "language_info": {
   "codemirror_mode": {
    "name": "ipython",
    "version": 3
   },
   "file_extension": ".py",
   "mimetype": "text/x-python",
   "name": "python",
   "nbconvert_exporter": "python",
   "pygments_lexer": "ipython3",
   "version": "3.13.0"
  }
 },
 "nbformat": 4,
 "nbformat_minor": 2
}
