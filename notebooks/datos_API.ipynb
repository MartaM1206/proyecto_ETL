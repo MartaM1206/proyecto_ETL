{
 "cells": [
  {
   "cell_type": "code",
   "execution_count": 2,
   "metadata": {},
   "outputs": [
    {
     "data": {
      "text/plain": [
       "True"
      ]
     },
     "execution_count": 2,
     "metadata": {},
     "output_type": "execute_result"
    }
   ],
   "source": [
    "# importamos librerías\n",
    "import pandas as pd\n",
    "import numpy as np\n",
    "import requests\n",
    "import os\n",
    "from dotenv import load_dotenv\n",
    "\n",
    "# Cargamos variables de entorno\n",
    "load_dotenv()"
   ]
  },
  {
   "cell_type": "code",
   "execution_count": 3,
   "metadata": {},
   "outputs": [],
   "source": [
    "# endpoint de la API de la agenda de actividades y eventos de Madrid\n",
    "url = os.getenv(\"API_URL\")"
   ]
  },
  {
   "cell_type": "code",
   "execution_count": null,
   "metadata": {},
   "outputs": [
    {
     "data": {
      "text/plain": [
       "200"
      ]
     },
     "execution_count": 4,
     "metadata": {},
     "output_type": "execute_result"
    }
   ],
   "source": [
    "# Hacemos la petición y comprobamos el estado\n",
    "response = requests.get(url)\n",
    "response.status_code"
   ]
  },
  {
   "cell_type": "code",
   "execution_count": null,
   "metadata": {},
   "outputs": [
    {
     "data": {
      "text/plain": [
       "dict_keys(['@context', '@graph'])"
      ]
     },
     "execution_count": 5,
     "metadata": {},
     "output_type": "execute_result"
    }
   ],
   "source": [
    "# Convertimos a json\n",
    "data = response.json()"
   ]
  },
  {
   "cell_type": "code",
   "execution_count": 7,
   "metadata": {},
   "outputs": [],
   "source": [
    "# seleccionamos el elemento del diccionario obtenido que contiene la información de los eventos\n",
    "eventos = data.get(\"@graph\")"
   ]
  },
  {
   "cell_type": "code",
   "execution_count": 8,
   "metadata": {},
   "outputs": [],
   "source": [
    "# Obtenemos los nombres de los eventos que están en curso durante las fechas de estancia\n",
    "from datetime import datetime #importamos librería para transformar fechas\n",
    "eventos_fechas = {\"nombre_evento\":[], \n",
    "                  \"url_evento\": [], \n",
    "                  \"codigo_postal\": [], \n",
    "                  \"direccion\": [], \n",
    "                  \"horario\": [],\n",
    "                  \"fecha_inicio\": [],\n",
    "                  \"fecha_fin\":[], \n",
    "                  \"organizacion\":[]\n",
    "                  } #diccionario para almacenar los datos *faltan fechas inicio y fin*\n",
    "#transformamos las fechas de reservas para tener solo la fecha\n",
    "fecha_entrada = datetime.strptime(\"2025-03-01\", \"%Y-%m-%d\").date()\n",
    "fecha_salida = datetime.strptime(\"2025-03-02\", \"%Y-%m-%d\").date()\n",
    "# iteramos por cada elemento del diccionario\n",
    "for evento in eventos:\n",
    "    # transformamos la fecha para manterner el mismo formato\n",
    "    fecha_inicio = datetime.strptime(evento[\"dtstart\"], \"%Y-%m-%d %H:%M:%S.%f\").date()\n",
    "    fecha_fin = datetime.strptime(evento[\"dtend\"], \"%Y-%m-%d %H:%M:%S.%f\").date()\n",
    "    if (fecha_inicio <= fecha_entrada and fecha_fin >= fecha_salida): #si el evento empieza antes o en la fecha de entrada y termina en la fecha de salida o después\n",
    "        nombre = evento.get(\"title\")\n",
    "        eventos_fechas[\"nombre_evento\"].append(nombre)\n",
    "        link = evento.get(\"link\")\n",
    "        eventos_fechas[\"url_evento\"].append(link)\n",
    "        direccion_comp = evento.get(\"address\")\n",
    "        if direccion_comp !=None:\n",
    "            area = evento.get(\"address\").get(\"area\")\n",
    "            if area != None:\n",
    "                codigo_postal=evento.get(\"address\").get(\"area\").get(\"postal-code\")\n",
    "                direccion = evento.get(\"address\").get(\"area\").get(\"street-address\")\n",
    "            else:\n",
    "                codigo_postal= \"Dirección no disponible\"\n",
    "                direccion = \"Dirección no disponible\"\n",
    "        else: \n",
    "            codigo_postal= \"Dirección no disponible\"\n",
    "            direccion = \"Dirección no disponible\"\n",
    "        eventos_fechas[\"codigo_postal\"].append(codigo_postal)\n",
    "        eventos_fechas[\"direccion\"].append(direccion)\n",
    "        hora = evento.get(\"time\")\n",
    "        eventos_fechas[\"horario\"].append(hora)\n",
    "        eventos_fechas[\"fecha_inicio\"].append(fecha_inicio)\n",
    "        eventos_fechas[\"fecha_fin\"].append(fecha_fin)\n",
    "        organiza = evento.get(\"organization\")\n",
    "        if organiza != None:\n",
    "            organizacion = evento.get(\"organization\").get(\"organization-name\")\n",
    "        else:\n",
    "            organizacion = \"Organización no disponible\"\n",
    "        eventos_fechas[\"organizacion\"].append(organizacion)\n",
    "#Generamos un dataframe con los eventos\n",
    "df_eventos = pd.DataFrame(eventos_fechas)\n",
    "#Guardamos el dataframe en un archivo pickle\n",
    "df_eventos.to_pickle(\"../data/data_clean/eventos.pkl\")"
   ]
  }
 ],
 "metadata": {
  "kernelspec": {
   "display_name": "Python 3",
   "language": "python",
   "name": "python3"
  },
  "language_info": {
   "codemirror_mode": {
    "name": "ipython",
    "version": 3
   },
   "file_extension": ".py",
   "mimetype": "text/x-python",
   "name": "python",
   "nbconvert_exporter": "python",
   "pygments_lexer": "ipython3",
   "version": "3.13.0"
  }
 },
 "nbformat": 4,
 "nbformat_minor": 2
}
