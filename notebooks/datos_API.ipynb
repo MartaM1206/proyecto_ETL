{
 "cells": [
  {
   "cell_type": "code",
   "execution_count": 1,
   "metadata": {},
   "outputs": [],
   "source": [
    "# importamos librerías\n",
    "import pandas as pd\n",
    "import numpy as np\n",
    "import requests"
   ]
  },
  {
   "cell_type": "code",
   "execution_count": 2,
   "metadata": {},
   "outputs": [],
   "source": [
    "# endpoint de la API de la agenda de actividades y eventos de Madrid\n",
    "url = \"https://datos.madrid.es/egob/catalogo/300107-0-agenda-actividades-eventos.json\""
   ]
  },
  {
   "cell_type": "code",
   "execution_count": 3,
   "metadata": {},
   "outputs": [
    {
     "data": {
      "text/plain": [
       "200"
      ]
     },
     "execution_count": 3,
     "metadata": {},
     "output_type": "execute_result"
    }
   ],
   "source": [
    "# Hacemos la petición y comprobamos el estado\n",
    "response = requests.get(url)\n",
    "response.status_code\n"
   ]
  },
  {
   "cell_type": "code",
   "execution_count": 4,
   "metadata": {},
   "outputs": [
    {
     "data": {
      "text/plain": [
       "dict_keys(['@context', '@graph'])"
      ]
     },
     "execution_count": 4,
     "metadata": {},
     "output_type": "execute_result"
    }
   ],
   "source": [
    "# Convertimos a json\n",
    "data = response.json()\n",
    "data.keys()"
   ]
  },
  {
   "cell_type": "code",
   "execution_count": 9,
   "metadata": {},
   "outputs": [],
   "source": [
    "# seleccionamos el elemento del diccionario obtenido que contiene la información de los eventos\n",
    "eventos = data.get(\"@graph\")"
   ]
  },
  {
   "cell_type": "code",
   "execution_count": 10,
   "metadata": {},
   "outputs": [],
   "source": [
    "# Obtenemos los nombres de los eventos que están en curso durante las fechas de estancia\n",
    "from datetime import datetime #importamos librería para transformar fechas\n",
    "\n",
    "eventos_fechas = {\"nombre\":[], \"empieza\":[], \"termina\":[]} #diccionario para almacenar los datos !! Hay que sacar más cositas según la base de datos\n",
    "#transformamos las fechas de reservas para tener solo la fecha\n",
    "fecha_entrada = datetime.strptime(\"2025-03-01\", \"%Y-%m-%d\").date()\n",
    "fecha_salida = datetime.strptime(\"2025-03-02\", \"%Y-%m-%d\").date()\n",
    "# iteramos por cada elemento del diccionario\n",
    "for evento in eventos:\n",
    "    # transformamos la fecha para manterner el mismo formato\n",
    "    fecha_inicio = datetime.strptime(evento[\"dtstart\"], \"%Y-%m-%d %H:%M:%S.%f\").date()\n",
    "    fecha_fin = datetime.strptime(evento[\"dtend\"], \"%Y-%m-%d %H:%M:%S.%f\").date()\n",
    "    if (fecha_inicio <= fecha_entrada and fecha_fin >= fecha_salida): #si el evento empieza antes o en la fecha de entrada o termina en la fecha de salida o después\n",
    "\n",
    "        eventos_fechas[\"nombre\"].append(evento[\"title\"])\n",
    "        eventos_fechas[\"empieza\"].append(fecha_inicio)\n",
    "        eventos_fechas[\"termina\"].append(fecha_fin)"
   ]
  },
  {
   "cell_type": "code",
   "execution_count": 11,
   "metadata": {},
   "outputs": [
    {
     "data": {
      "text/html": [
       "<div>\n",
       "<style scoped>\n",
       "    .dataframe tbody tr th:only-of-type {\n",
       "        vertical-align: middle;\n",
       "    }\n",
       "\n",
       "    .dataframe tbody tr th {\n",
       "        vertical-align: top;\n",
       "    }\n",
       "\n",
       "    .dataframe thead th {\n",
       "        text-align: right;\n",
       "    }\n",
       "</style>\n",
       "<table border=\"1\" class=\"dataframe\">\n",
       "  <thead>\n",
       "    <tr style=\"text-align: right;\">\n",
       "      <th></th>\n",
       "      <th>nombre</th>\n",
       "      <th>empieza</th>\n",
       "      <th>termina</th>\n",
       "    </tr>\n",
       "  </thead>\n",
       "  <tbody>\n",
       "    <tr>\n",
       "      <th>0</th>\n",
       "      <td>25º aniversario de la revista La Fragua</td>\n",
       "      <td>2025-02-24</td>\n",
       "      <td>2025-03-02</td>\n",
       "    </tr>\n",
       "    <tr>\n",
       "      <th>1</th>\n",
       "      <td>A toda vela</td>\n",
       "      <td>2024-10-01</td>\n",
       "      <td>2025-06-01</td>\n",
       "    </tr>\n",
       "    <tr>\n",
       "      <th>2</th>\n",
       "      <td>Acompañamiento digital a personas mayores</td>\n",
       "      <td>2024-10-14</td>\n",
       "      <td>2025-06-30</td>\n",
       "    </tr>\n",
       "    <tr>\n",
       "      <th>3</th>\n",
       "      <td>Acompañar en la pérdida</td>\n",
       "      <td>2025-01-14</td>\n",
       "      <td>2025-06-17</td>\n",
       "    </tr>\n",
       "    <tr>\n",
       "      <th>4</th>\n",
       "      <td>Activas en compañía: gimnasia de mantenimiento</td>\n",
       "      <td>2025-01-13</td>\n",
       "      <td>2025-03-31</td>\n",
       "    </tr>\n",
       "    <tr>\n",
       "      <th>...</th>\n",
       "      <td>...</td>\n",
       "      <td>...</td>\n",
       "      <td>...</td>\n",
       "    </tr>\n",
       "    <tr>\n",
       "      <th>207</th>\n",
       "      <td>Y tú, ¿cómo viajas?</td>\n",
       "      <td>2024-12-04</td>\n",
       "      <td>2025-05-28</td>\n",
       "    </tr>\n",
       "    <tr>\n",
       "      <th>208</th>\n",
       "      <td>Yoga para el buen trato II</td>\n",
       "      <td>2025-02-18</td>\n",
       "      <td>2025-03-11</td>\n",
       "    </tr>\n",
       "    <tr>\n",
       "      <th>209</th>\n",
       "      <td>'Clases de árabe para niños'</td>\n",
       "      <td>2024-12-13</td>\n",
       "      <td>2025-05-30</td>\n",
       "    </tr>\n",
       "    <tr>\n",
       "      <th>210</th>\n",
       "      <td>'Refugiados' por Myriam Laguía</td>\n",
       "      <td>2025-02-14</td>\n",
       "      <td>2025-03-13</td>\n",
       "    </tr>\n",
       "    <tr>\n",
       "      <th>211</th>\n",
       "      <td>¡Ahora nos toca jugar! Juegos de mesa</td>\n",
       "      <td>2025-01-03</td>\n",
       "      <td>2025-03-28</td>\n",
       "    </tr>\n",
       "  </tbody>\n",
       "</table>\n",
       "<p>212 rows × 3 columns</p>\n",
       "</div>"
      ],
      "text/plain": [
       "                                             nombre     empieza     termina\n",
       "0           25º aniversario de la revista La Fragua  2025-02-24  2025-03-02\n",
       "1                                       A toda vela  2024-10-01  2025-06-01\n",
       "2         Acompañamiento digital a personas mayores  2024-10-14  2025-06-30\n",
       "3                           Acompañar en la pérdida  2025-01-14  2025-06-17\n",
       "4    Activas en compañía: gimnasia de mantenimiento  2025-01-13  2025-03-31\n",
       "..                                              ...         ...         ...\n",
       "207                             Y tú, ¿cómo viajas?  2024-12-04  2025-05-28\n",
       "208                      Yoga para el buen trato II  2025-02-18  2025-03-11\n",
       "209                    'Clases de árabe para niños'  2024-12-13  2025-05-30\n",
       "210                  'Refugiados' por Myriam Laguía  2025-02-14  2025-03-13\n",
       "211           ¡Ahora nos toca jugar! Juegos de mesa  2025-01-03  2025-03-28\n",
       "\n",
       "[212 rows x 3 columns]"
      ]
     },
     "execution_count": 11,
     "metadata": {},
     "output_type": "execute_result"
    }
   ],
   "source": [
    "df_eventos = pd.DataFrame(eventos_fechas)\n",
    "df_eventos"
   ]
  },
  {
   "cell_type": "code",
   "execution_count": null,
   "metadata": {},
   "outputs": [],
   "source": []
  }
 ],
 "metadata": {
  "kernelspec": {
   "display_name": "venv",
   "language": "python",
   "name": "venv"
  },
  "language_info": {
   "codemirror_mode": {
    "name": "ipython",
    "version": 3
   },
   "file_extension": ".py",
   "mimetype": "text/x-python",
   "name": "python",
   "nbconvert_exporter": "python",
   "pygments_lexer": "ipython3",
   "version": "3.13.0"
  }
 },
 "nbformat": 4,
 "nbformat_minor": 2
}
