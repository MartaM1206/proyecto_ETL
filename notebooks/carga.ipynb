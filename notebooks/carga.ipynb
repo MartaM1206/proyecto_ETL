{
 "cells": [
  {
   "cell_type": "markdown",
   "metadata": {},
   "source": [
    "# **Carga**"
   ]
  },
  {
   "cell_type": "markdown",
   "metadata": {},
   "source": [
    "Una vez que tenemos los datos limpios y organizados, podemos cargarlos en la base de datos."
   ]
  },
  {
   "cell_type": "code",
   "execution_count": 1,
   "metadata": {},
   "outputs": [
    {
     "ename": "AttributeError",
     "evalue": "module 'pandas' has no attribute 'read'",
     "output_type": "error",
     "traceback": [
      "\u001b[1;31m---------------------------------------------------------------------------\u001b[0m",
      "\u001b[1;31mAttributeError\u001b[0m                            Traceback (most recent call last)",
      "Cell \u001b[1;32mIn[1], line 4\u001b[0m\n\u001b[0;32m      2\u001b[0m \u001b[38;5;66;03m# Cargamos los datos\u001b[39;00m\n\u001b[0;32m      3\u001b[0m df_ciudades \u001b[38;5;241m=\u001b[39m pd\u001b[38;5;241m.\u001b[39mread_pickle(\u001b[38;5;124m\"\u001b[39m\u001b[38;5;124mciudades.pkl\u001b[39m\u001b[38;5;124m\"\u001b[39m)\n\u001b[1;32m----> 4\u001b[0m df_eventos \u001b[38;5;241m=\u001b[39m \u001b[43mpd\u001b[49m\u001b[38;5;241;43m.\u001b[39;49m\u001b[43mread\u001b[49m\u001b[38;5;241m.\u001b[39mpickle(\u001b[38;5;124m\"\u001b[39m\u001b[38;5;124meventos.pkl\u001b[39m\u001b[38;5;124m\"\u001b[39m)\n\u001b[0;32m      5\u001b[0m df_hoteles \u001b[38;5;241m=\u001b[39m pd\u001b[38;5;241m.\u001b[39mread_pickle(\u001b[38;5;124m\"\u001b[39m\u001b[38;5;124mhoteles.pkl\u001b[39m\u001b[38;5;124m\"\u001b[39m)\n\u001b[0;32m      6\u001b[0m df_clientes \u001b[38;5;241m=\u001b[39m pd\u001b[38;5;241m.\u001b[39mread_pickle(\u001b[38;5;124m\"\u001b[39m\u001b[38;5;124mclientes.pkl\u001b[39m\u001b[38;5;124m\"\u001b[39m)\n",
      "\u001b[1;31mAttributeError\u001b[0m: module 'pandas' has no attribute 'read'"
     ]
    }
   ],
   "source": [
    "import pandas as pd \n",
    "# Cargamos los datos\n",
    "df_ciudades = pd.read_pickle(\"ciudades.pkl\")\n",
    "df_eventos = pd.read.pickle(\"eventos.pkl\")\n",
    "df_hoteles = pd.read_pickle(\"hoteles.pkl\")\n",
    "df_clientes = pd.read_pickle(\"clientes.pkl\")\n",
    "df_reservas = pd.read_pickle(\"reservas.pkl\")"
   ]
  },
  {
   "cell_type": "code",
   "execution_count": null,
   "metadata": {},
   "outputs": [],
   "source": [
    "# Nos conectamos a la base de datos que hemos creado y llamado \"proyecto_ETL\"\n",
    "import psycopg2\n",
    "\n",
    "# Configurar la conexión\n",
    "conn = psycopg2.connect(\n",
    "    dbname=\"proyecto_ETL\",\n",
    "    user=\"postgres\",\n",
    "    password=\"1234\",\n",
    "    host=\"localhost\",\n",
    "    port=\"5432\")\n",
    "# Crear un cursor para ejecutar comandos SQL\n",
    "cur = conn.cursor()\n",
    "\n"
   ]
  },
  {
   "cell_type": "code",
   "execution_count": null,
   "metadata": {},
   "outputs": [
    {
     "name": "stdout",
     "output_type": "stream",
     "text": [
      "('PostgreSQL 17rc1 on x86_64-windows, compiled by msvc-19.41.34120, 64-bit',)\n"
     ]
    }
   ],
   "source": [
    "# Verificar la conexión\n",
    "cur.execute(\"SELECT version();\")\n",
    "print(cur.fetchone())"
   ]
  },
  {
   "cell_type": "code",
   "execution_count": null,
   "metadata": {},
   "outputs": [
    {
     "name": "stdout",
     "output_type": "stream",
     "text": [
      "Registros insertados correctamente\n"
     ]
    }
   ],
   "source": [
    "# Insertamos los datos de ciudades\n",
    "# Convertir DataFrame a lista de tuplas\n",
    "records = df_ciudades.to_records(index=False)\n",
    "records_list = list(records)\n",
    "query = (\"\"\"\n",
    "    INSERT INTO ciudad (nombre_ciudad)\n",
    "    VALUES (%s)\n",
    "\"\"\")\n",
    "cur.executemany(query, records_list)\n",
    "# Guardar los cambios y cerrar conexión\n",
    "conn.commit()\n",
    "\n",
    "print(\"Registros insertados correctamente\")"
   ]
  },
  {
   "cell_type": "code",
   "execution_count": null,
   "metadata": {},
   "outputs": [],
   "source": [
    "cur.execute(\"SELECT * FROM ciudad;\")"
   ]
  },
  {
   "cell_type": "code",
   "execution_count": null,
   "metadata": {},
   "outputs": [
    {
     "name": "stdout",
     "output_type": "stream",
     "text": [
      "(1, 'Madrid')\n"
     ]
    }
   ],
   "source": [
    "# Mostrar los resultados\n",
    "for row in cur.fetchall():\n",
    "    print(row)"
   ]
  },
  {
   "cell_type": "code",
   "execution_count": null,
   "metadata": {},
   "outputs": [],
   "source": [
    "conn.rollback()"
   ]
  },
  {
   "cell_type": "code",
   "execution_count": null,
   "metadata": {},
   "outputs": [
    {
     "ename": "UniqueViolation",
     "evalue": "llave duplicada viola restricción de unicidad «clientes_pkey»\nDETAIL:  Ya existe la llave (id_cliente)=(cliente_1876).\n",
     "output_type": "error",
     "traceback": [
      "\u001b[1;31m---------------------------------------------------------------------------\u001b[0m",
      "\u001b[1;31mUniqueViolation\u001b[0m                           Traceback (most recent call last)",
      "Cell \u001b[1;32mIn[13], line 9\u001b[0m\n\u001b[0;32m      4\u001b[0m records_list \u001b[38;5;241m=\u001b[39m \u001b[38;5;28mlist\u001b[39m(records)\n\u001b[0;32m      5\u001b[0m query \u001b[38;5;241m=\u001b[39m (\u001b[38;5;124m\"\"\"\u001b[39m\n\u001b[0;32m      6\u001b[0m \u001b[38;5;124m    INSERT INTO clientes (id_cliente, nombre, apellido, mail)\u001b[39m\n\u001b[0;32m      7\u001b[0m \u001b[38;5;124m    VALUES (\u001b[39m\u001b[38;5;132;01m%s\u001b[39;00m\u001b[38;5;124m, \u001b[39m\u001b[38;5;132;01m%s\u001b[39;00m\u001b[38;5;124m, \u001b[39m\u001b[38;5;132;01m%s\u001b[39;00m\u001b[38;5;124m, \u001b[39m\u001b[38;5;132;01m%s\u001b[39;00m\u001b[38;5;124m)\u001b[39m\n\u001b[0;32m      8\u001b[0m \u001b[38;5;124m\"\"\"\u001b[39m)\n\u001b[1;32m----> 9\u001b[0m \u001b[43mcur\u001b[49m\u001b[38;5;241;43m.\u001b[39;49m\u001b[43mexecutemany\u001b[49m\u001b[43m(\u001b[49m\u001b[43mquery\u001b[49m\u001b[43m,\u001b[49m\u001b[43m \u001b[49m\u001b[43mrecords_list\u001b[49m\u001b[43m)\u001b[49m\n\u001b[0;32m     10\u001b[0m \u001b[38;5;66;03m# Guardar los cambios y cerrar conexión\u001b[39;00m\n\u001b[0;32m     11\u001b[0m conn\u001b[38;5;241m.\u001b[39mcommit()\n",
      "\u001b[1;31mUniqueViolation\u001b[0m: llave duplicada viola restricción de unicidad «clientes_pkey»\nDETAIL:  Ya existe la llave (id_cliente)=(cliente_1876).\n"
     ]
    }
   ],
   "source": [
    "# Insertamos los datos de clientes\n",
    "# Convertir DataFrame a lista de tuplas\n",
    "records = df_clientes.to_records(index=False)\n",
    "records_list = list(records)\n",
    "query = (\"\"\"\n",
    "    INSERT INTO clientes (id_cliente, nombre, apellido, mail)\n",
    "    VALUES (%s, %s, %s, %s)\n",
    "\"\"\")\n",
    "cur.executemany(query, records_list)\n",
    "# Guardar los cambios y cerrar conexión\n",
    "conn.commit()\n",
    "\n",
    "print(\"Registros insertados correctamente\")"
   ]
  },
  {
   "cell_type": "code",
   "execution_count": null,
   "metadata": {},
   "outputs": [
    {
     "name": "stdout",
     "output_type": "stream",
     "text": [
      "(1, 'Madrid')\n",
      "(3, 'Madrid')\n"
     ]
    }
   ],
   "source": [
    "# Conectarse a PostgreSQL\n",
    "conn = psycopg2.connect(\n",
    "    dbname=\"proyecto_ETL\",\n",
    "    user=\"postgres\",\n",
    "    password=\"1234\",\n",
    "    host=\"localhost\",\n",
    "    port=\"5432\")\n",
    "cur = conn.cursor()\n",
    "\n",
    "# Obtener todas las ventas\n",
    "cur.execute(\"SELECT * FROM ciudad;\")\n",
    "\n",
    "# Mostrar los resultados\n",
    "for row in cur.fetchall():\n",
    "    print(row)\n",
    "\n",
    "# Cerrar conexión\n",
    "cur.close()\n",
    "conn.close()"
   ]
  }
 ],
 "metadata": {
  "kernelspec": {
   "display_name": "Python 3",
   "language": "python",
   "name": "python3"
  },
  "language_info": {
   "codemirror_mode": {
    "name": "ipython",
    "version": 3
   },
   "file_extension": ".py",
   "mimetype": "text/x-python",
   "name": "python",
   "nbconvert_exporter": "python",
   "pygments_lexer": "ipython3",
   "version": "3.13.0"
  }
 },
 "nbformat": 4,
 "nbformat_minor": 2
}
