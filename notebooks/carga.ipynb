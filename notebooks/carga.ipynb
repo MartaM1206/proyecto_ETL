{
 "cells": [
  {
   "cell_type": "markdown",
   "metadata": {},
   "source": [
    "# **Carga**"
   ]
  },
  {
   "cell_type": "markdown",
   "metadata": {},
   "source": [
    "Una vez que tenemos los datos limpios y organizados, podemos cargarlos en la base de datos."
   ]
  },
  {
   "cell_type": "code",
   "execution_count": null,
   "metadata": {},
   "outputs": [],
   "source": [
    "import pandas as pd \n",
    "# Cargamos los datos\n",
    "df_ciudades = pd.read_pickle(\"../data/data_clean/ciudades.pkl\")\n",
    "df_eventos = pd.read_pickle(\"../data/data_clean/eventos.pkl\")\n",
    "df_hoteles = pd.read_pickle(\"../data/data_clean/hoteles.pkl\")\n",
    "df_clientes = pd.read_pickle(\"../data/data_clean/clientes.pkl\")\n",
    "df_reservas = pd.read_pickle(\"../data/data_clean/reservas.pkl\")"
   ]
  },
  {
   "cell_type": "code",
   "execution_count": 3,
   "metadata": {},
   "outputs": [],
   "source": [
    "# Nos conectamos a la base de datos que hemos creado y llamado \"proyecto_ETL\"\n",
    "import psycopg2\n",
    "# Importamos os y dotenv para poder recuperar variables del archivo .env\n",
    "import os\n",
    "from dotenv import load_dotenv\n",
    "# Cargamos variables de entorno\n",
    "load_dotenv()\n",
    "password = os.getenv(\"password\")\n",
    "# Configurar la conexión\n",
    "conn = psycopg2.connect(\n",
    "    dbname = \"proyecto_ETL\",\n",
    "    user = \"postgres\",\n",
    "    password = password,\n",
    "    host=\"localhost\",\n",
    "    port=\"5432\")\n",
    "# Crear un cursor para ejecutar comandos SQL\n",
    "cur = conn.cursor()\n",
    "\n"
   ]
  },
  {
   "cell_type": "code",
   "execution_count": 4,
   "metadata": {},
   "outputs": [
    {
     "name": "stdout",
     "output_type": "stream",
     "text": [
      "('PostgreSQL 17rc1 on x86_64-windows, compiled by msvc-19.41.34120, 64-bit',)\n"
     ]
    }
   ],
   "source": [
    "# Verificar la conexión\n",
    "cur.execute(\"SELECT version();\")\n",
    "print(cur.fetchone())"
   ]
  },
  {
   "cell_type": "markdown",
   "metadata": {},
   "source": [
    "## Insertamos datos de ciudades"
   ]
  },
  {
   "cell_type": "code",
   "execution_count": 4,
   "metadata": {},
   "outputs": [
    {
     "name": "stdout",
     "output_type": "stream",
     "text": [
      "Registros insertados correctamente\n"
     ]
    }
   ],
   "source": [
    "# Insertamos los datos de ciudades\n",
    "# Convertir DataFrame a lista de tuplas\n",
    "records = df_ciudades.to_records(index=False)\n",
    "records_list = list(records)\n",
    "query = (\"\"\"\n",
    "    INSERT INTO ciudad (nombre_ciudad)\n",
    "    VALUES (%s)\n",
    "\"\"\")\n",
    "cur.executemany(query, records_list)\n",
    "# Guardar los cambios y cerrar conexión\n",
    "conn.commit()\n",
    "\n",
    "print(\"Registros insertados correctamente\")"
   ]
  },
  {
   "cell_type": "code",
   "execution_count": 5,
   "metadata": {},
   "outputs": [],
   "source": [
    "cur.execute(\"SELECT * FROM ciudad;\")"
   ]
  },
  {
   "cell_type": "code",
   "execution_count": 6,
   "metadata": {},
   "outputs": [
    {
     "name": "stdout",
     "output_type": "stream",
     "text": [
      "(1, 'Madrid')\n"
     ]
    }
   ],
   "source": [
    "# Mostrar los resultados\n",
    "for row in cur.fetchall():\n",
    "    print(row)"
   ]
  },
  {
   "cell_type": "code",
   "execution_count": 7,
   "metadata": {},
   "outputs": [
    {
     "data": {
      "text/plain": [
       "{'Madrid': 1}"
      ]
     },
     "execution_count": 7,
     "metadata": {},
     "output_type": "execute_result"
    }
   ],
   "source": [
    "# A partir de la tabla ciudad sacamos un diccionario con nombre_ciudad : id_ciudad\n",
    "cur.execute(\"SELECT nombre_ciudad, id_ciudad FROM ciudad\")\n",
    "dictio_ciudad = dict(cur.fetchall())\n",
    "dictio_ciudad"
   ]
  },
  {
   "cell_type": "code",
   "execution_count": null,
   "metadata": {},
   "outputs": [],
   "source": [
    "#conn.rollback()"
   ]
  },
  {
   "cell_type": "markdown",
   "metadata": {},
   "source": [
    "## Insertamos datos de clientes"
   ]
  },
  {
   "cell_type": "code",
   "execution_count": null,
   "metadata": {},
   "outputs": [
    {
     "name": "stdout",
     "output_type": "stream",
     "text": [
      "Registros insertados correctamente\n"
     ]
    }
   ],
   "source": [
    "# Convertir DataFrame a lista de tuplas\n",
    "records = df_clientes.to_records(index=False)\n",
    "records_list = list(records)\n",
    "query = (\"\"\"\n",
    "    INSERT INTO clientes (id_cliente, nombre, apellido, mail)\n",
    "    VALUES (%s, %s, %s, %s)\n",
    "\"\"\")\n",
    "cur.executemany(query, records_list)\n",
    "# Guardar los cambios y cerrar conexión\n",
    "conn.commit()\n",
    "\n",
    "print(\"Registros insertados correctamente\")"
   ]
  },
  {
   "cell_type": "markdown",
   "metadata": {},
   "source": [
    "## Insertamos datos de eventos"
   ]
  },
  {
   "cell_type": "code",
   "execution_count": null,
   "metadata": {},
   "outputs": [
    {
     "data": {
      "text/plain": [
       "Index(['nombre_evento', 'url_evento', 'codigo_postal', 'direccion', 'horario',\n",
       "       'fecha_inicio', 'fecha_fin', 'organizacion'],\n",
       "      dtype='object')"
      ]
     },
     "execution_count": 9,
     "metadata": {},
     "output_type": "execute_result"
    }
   ],
   "source": [
    "# Insertamos los datos de eventos\n",
    "# Creamos una lista para meter la información\n",
    "data_insert_eventos = []\n",
    "# Comprobamos las columnas del df_eventos\n",
    "df_eventos.columns"
   ]
  },
  {
   "cell_type": "code",
   "execution_count": 11,
   "metadata": {},
   "outputs": [],
   "source": [
    "# Vamos iterando por cada columna del dataframe y cada fila de cada columna, obteniendo los elementos de las filas (row)\n",
    "for i, row in df_eventos.iterrows():\n",
    "    nombre_evento = row[\"nombre_evento\"]\n",
    "    url_evento = row[\"url_evento\"]\n",
    "    codigo_postal = row[\"codigo_postal\"]\n",
    "    direccion = row[\"direccion\"] \n",
    "    horario = row[\"horario\"]\n",
    "    fecha_inicio = row[\"fecha_inicio\"]\n",
    "    fecha_fin = row[\"fecha_fin\"]\n",
    "    organizacion = row[\"organizacion\"]\n",
    "    id_ciudad = dictio_ciudad.get(\"Madrid\")\n",
    "\n",
    "    # incluimos los valores en la lista\n",
    "    data_insert_eventos.append((nombre_evento, url_evento, codigo_postal, direccion, horario, fecha_inicio, fecha_fin, organizacion, id_ciudad))"
   ]
  },
  {
   "cell_type": "code",
   "execution_count": 12,
   "metadata": {},
   "outputs": [
    {
     "data": {
      "text/plain": [
       "('60 Premio Reina Sofía de Pintura y Escultura',\n",
       " 'http://www.madrid.es/sites/v/index.jsp?vgnextchannel=ca9671ee4a9eb410VgnVCM100000171f5a0aRCRD&vgnextoid=34c5130393e15910VgnVCM2000001f4a900aRCRD',\n",
       " '28009',\n",
       " 'PASEO COLOMBIA 1',\n",
       " '',\n",
       " datetime.date(2025, 2, 27),\n",
       " datetime.date(2025, 3, 23),\n",
       " 'Centro Cultural Casa de Vacas (Retiro)',\n",
       " 1)"
      ]
     },
     "execution_count": 12,
     "metadata": {},
     "output_type": "execute_result"
    }
   ],
   "source": [
    "data_insert_eventos[1]"
   ]
  },
  {
   "cell_type": "code",
   "execution_count": 13,
   "metadata": {},
   "outputs": [],
   "source": [
    "# Creamos la query de inserción de los datos de eventos\n",
    "query_eventos = \"\"\" \n",
    "                        INSERT INTO eventos (nombre_evento, url_evento, codigo_postal, direccion, horario,\n",
    "                        fecha_inicio, fecha_fin,organizacion, id_ciudad)\n",
    "                        VALUES (%s, %s, %s, %s, %s, %s, %s, %s, %s)\n",
    "\"\"\""
   ]
  },
  {
   "cell_type": "code",
   "execution_count": 14,
   "metadata": {},
   "outputs": [
    {
     "ename": "InvalidTextRepresentation",
     "evalue": "la sintaxis de entrada no es válida para tipo integer: «Dirección no disponible»\nLINE 4: ...extoid=5b58d89ad2232910VgnVCM2000001f4a900aRCRD', 'Dirección...\n                                                             ^\n",
     "output_type": "error",
     "traceback": [
      "\u001b[1;31m---------------------------------------------------------------------------\u001b[0m",
      "\u001b[1;31mInvalidTextRepresentation\u001b[0m                 Traceback (most recent call last)",
      "Cell \u001b[1;32mIn[14], line 2\u001b[0m\n\u001b[0;32m      1\u001b[0m \u001b[38;5;66;03m# Insertamos los datos en la tabla eventos\u001b[39;00m\n\u001b[1;32m----> 2\u001b[0m \u001b[43mcur\u001b[49m\u001b[38;5;241;43m.\u001b[39;49m\u001b[43mexecutemany\u001b[49m\u001b[43m(\u001b[49m\u001b[43mquery_eventos\u001b[49m\u001b[43m,\u001b[49m\u001b[43m \u001b[49m\u001b[43mdata_insert_eventos\u001b[49m\u001b[43m)\u001b[49m\n\u001b[0;32m      3\u001b[0m \u001b[38;5;66;03m# Guardar los cambios\u001b[39;00m\n\u001b[0;32m      4\u001b[0m conn\u001b[38;5;241m.\u001b[39mcommit()\n",
      "\u001b[1;31mInvalidTextRepresentation\u001b[0m: la sintaxis de entrada no es válida para tipo integer: «Dirección no disponible»\nLINE 4: ...extoid=5b58d89ad2232910VgnVCM2000001f4a900aRCRD', 'Dirección...\n                                                             ^\n"
     ]
    }
   ],
   "source": [
    "# Insertamos los datos en la tabla eventos\n",
    "cur.executemany(query_eventos, data_insert_eventos)\n",
    "# Guardar los cambios\n",
    "conn.commit()\n",
    "print(\"Registros insertados correctamente\")"
   ]
  },
  {
   "cell_type": "markdown",
   "metadata": {},
   "source": [
    "## Insertamos datos de hoteles"
   ]
  },
  {
   "cell_type": "code",
   "execution_count": 15,
   "metadata": {},
   "outputs": [
    {
     "data": {
      "text/plain": [
       "Index(['nombre_hotel', 'id_hotel', 'valoracion', 'ciudad', 'competencia'], dtype='object')"
      ]
     },
     "execution_count": 15,
     "metadata": {},
     "output_type": "execute_result"
    }
   ],
   "source": [
    "# Insertamos los datos de hoteles\n",
    "# Creamos una lista para meter la información\n",
    "data_insert_hoteles = []\n",
    "# Comprobamos las columnas del df_hoteles\n",
    "df_hoteles.columns"
   ]
  },
  {
   "cell_type": "code",
   "execution_count": 16,
   "metadata": {},
   "outputs": [],
   "source": [
    "# Vamos iterando por cada columna del dataframe y cada fila de cada columna, obteniendo los elementos de las filas (row)\n",
    "for i, row in df_hoteles.iterrows():\n",
    "    nombre_hotel = row[\"nombre_hotel\"]\n",
    "    competencia = row[\"competencia\"]\n",
    "    valoracion = row[\"valoracion\"]\n",
    "    id_ciudad = dictio_ciudad.get(\"Madrid\")\n",
    "\n",
    "    # incluimos los valores en la lista\n",
    "    data_insert_hoteles.append((nombre_hotel, competencia, valoracion, id_ciudad))"
   ]
  },
  {
   "cell_type": "code",
   "execution_count": 21,
   "metadata": {},
   "outputs": [],
   "source": [
    "conn.rollback()"
   ]
  },
  {
   "cell_type": "code",
   "execution_count": 22,
   "metadata": {},
   "outputs": [],
   "source": [
    "# Creamos la query de inserción de los datos de hoteles\n",
    "query_hoteles = \"\"\" \n",
    "                        INSERT INTO hoteles (nombre_hotel, competencia, valoracion, id_ciudad)\n",
    "                        VALUES (%s, %s, %s, %s)\n",
    "\"\"\""
   ]
  },
  {
   "cell_type": "code",
   "execution_count": null,
   "metadata": {},
   "outputs": [
    {
     "name": "stdout",
     "output_type": "stream",
     "text": [
      "Registros insertados correctamente\n"
     ]
    }
   ],
   "source": [
    "# Insertamos los datos en la tabla hoteles\n",
    "cur.executemany(query_hoteles, data_insert_hoteles)\n",
    "# Guardar los cambios\n",
    "conn.commit()\n",
    "print(\"Registros insertados correctamente\")"
   ]
  },
  {
   "cell_type": "markdown",
   "metadata": {},
   "source": [
    "## Insertamos datos de reservas"
   ]
  },
  {
   "cell_type": "code",
   "execution_count": 24,
   "metadata": {},
   "outputs": [
    {
     "data": {
      "text/plain": [
       "Index(['id_reserva', 'fecha_reserva', 'inicio_estancia', 'final_estancia',\n",
       "       'precio_noche', 'id_cliente', 'id_hotel'],\n",
       "      dtype='object')"
      ]
     },
     "execution_count": 24,
     "metadata": {},
     "output_type": "execute_result"
    }
   ],
   "source": [
    "# Creamos una lista para meter la información\n",
    "data_insert_reservas = []\n",
    "# Comprobamos las columnas del df_reservas\n",
    "df_reservas.columns"
   ]
  },
  {
   "cell_type": "code",
   "execution_count": 31,
   "metadata": {},
   "outputs": [],
   "source": [
    "conn.rollback()"
   ]
  },
  {
   "cell_type": "code",
   "execution_count": 28,
   "metadata": {},
   "outputs": [
    {
     "data": {
      "text/plain": [
       "{'Hotel Monte Verde': 1,\n",
       " 'Hotel Brisas del Mar': 2,\n",
       " 'Hotel Camino del Sol': 3,\n",
       " 'Hotel Puerta del Cielo': 4,\n",
       " 'Hotel Encanto Real': 5,\n",
       " 'Palacio del Sol': 6,\n",
       " 'Hotel Jardines del Rey': 7,\n",
       " 'Hotel Las Estrellas': 8,\n",
       " 'Gran Hotel Madrid': 9,\n",
       " 'Hotel Torre Dorada': 10,\n",
       " 'Hotel Palacio Imperial': 11,\n",
       " 'Hotel Luz de Madrid': 12,\n",
       " 'Hotel Los Almendros': 13,\n",
       " 'Hotel Sol y Luna': 14,\n",
       " 'Hotel Mirador Real': 15,\n",
       " 'Hotel Rincón Sereno': 16,\n",
       " 'Hotel Vista Alegre': 17,\n",
       " 'Hotel Costa Azul': 18,\n",
       " 'Hotel Maravilla Real': 19,\n",
       " 'ibis Styles Madrid Prado': 20,\n",
       " 'ibis budget Madrid Calle 30': 21,\n",
       " 'ibis Madrid Centro las Ventas': 22,\n",
       " 'ibis budget Madrid Centro las Ventas': 23,\n",
       " 'ibis budget Madrid Vallecas': 24,\n",
       " 'ibis Madrid Aeropuerto Barajas': 25,\n",
       " 'ibis Madrid Alcorcon Tresaguas': 26,\n",
       " 'ibis budget Madrid Aeropuerto': 27,\n",
       " 'ibis Madrid Alcobendas': 28,\n",
       " 'ibis budget Madrid Alcorcon Móstoles': 29}"
      ]
     },
     "execution_count": 28,
     "metadata": {},
     "output_type": "execute_result"
    }
   ],
   "source": [
    "# Sacamos el id_hotel de la tabla hoteles\n",
    "cur.execute(\"SELECT nombre_hotel, id_hotel FROM hoteles\")\n",
    "dictio_hoteles = dict(cur.fetchall())\n",
    "dictio_hoteles"
   ]
  },
  {
   "cell_type": "code",
   "execution_count": 32,
   "metadata": {},
   "outputs": [],
   "source": [
    "# Vamos iterando por cada columna del dataframe y cada fila de cada columna, obteniendo los elementos de las filas (row)\n",
    "for i, row in df_reservas.iterrows():\n",
    "    id_reserva = row[\"id_reserva\"]\n",
    "    fecha_reserva = row[\"fecha_reserva\"]\n",
    "    inicio_estancia = row[\"inicio_estancia\"]\n",
    "    final_estancia = row[\"final_estancia\"]\n",
    "    precio_noche = row[\"precio_noche\"]\n",
    "    id_cliente = row[\"id_cliente\"]\n",
    "    id_hotel = dictio_hoteles.get(row[\"nombre_hotel\"])\n",
    "\n",
    "    # incluimos los valores en la lista\n",
    "    data_insert_reservas.append((id_reserva, fecha_reserva, inicio_estancia, final_estancia,\n",
    "       precio_noche, id_cliente, id_hotel))"
   ]
  },
  {
   "cell_type": "code",
   "execution_count": 33,
   "metadata": {},
   "outputs": [],
   "source": [
    "# Creamos la query de inserción de los datos de hoteles\n",
    "query_reservas = \"\"\" \n",
    "                        INSERT INTO reservas (id_reserva, fecha_reserva, inicio_estancia, final_estancia,\n",
    "       precio_noche, id_cliente, id_hotel)\n",
    "                        VALUES (%s, %s, %s, %s, %s, %s, %s)\n",
    "\"\"\""
   ]
  },
  {
   "cell_type": "code",
   "execution_count": 34,
   "metadata": {},
   "outputs": [
    {
     "name": "stdout",
     "output_type": "stream",
     "text": [
      "Registros insertados correctamente\n"
     ]
    }
   ],
   "source": [
    "# Insertamos los datos en la tabla reservas\n",
    "cur.executemany(query_reservas, data_insert_reservas)\n",
    "# Guardar los cambios\n",
    "conn.commit()\n",
    "print(\"Registros insertados correctamente\")"
   ]
  },
  {
   "cell_type": "code",
   "execution_count": 35,
   "metadata": {},
   "outputs": [],
   "source": [
    "# Cerramos el cursor y la conexión\n",
    "cur.close()\n",
    "conn.close()"
   ]
  }
 ],
 "metadata": {
  "kernelspec": {
   "display_name": "Python 3",
   "language": "python",
   "name": "python3"
  },
  "language_info": {
   "codemirror_mode": {
    "name": "ipython",
    "version": 3
   },
   "file_extension": ".py",
   "mimetype": "text/x-python",
   "name": "python",
   "nbconvert_exporter": "python",
   "pygments_lexer": "ipython3",
   "version": "3.13.0"
  }
 },
 "nbformat": 4,
 "nbformat_minor": 2
}
