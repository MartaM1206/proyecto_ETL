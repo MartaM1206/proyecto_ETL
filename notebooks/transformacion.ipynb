{
 "cells": [
  {
   "cell_type": "code",
   "execution_count": 1,
   "metadata": {},
   "outputs": [],
   "source": [
    "# importamos librerías\n",
    "import pandas as pd\n",
    "from datetime import datetime"
   ]
  },
  {
   "cell_type": "markdown",
   "metadata": {},
   "source": [
    "# **Carga del archivo**"
   ]
  },
  {
   "cell_type": "code",
   "execution_count": 2,
   "metadata": {},
   "outputs": [],
   "source": [
    "# cargamos el archivo con los datos\n",
    "df_raw = pd.read_parquet(\"../data/data_raw/reservas_hoteles.parquet\")"
   ]
  },
  {
   "cell_type": "code",
   "execution_count": 3,
   "metadata": {},
   "outputs": [],
   "source": [
    "# Hacemos copia del dataframe para trabajar\n",
    "df = df_raw.copy()"
   ]
  },
  {
   "cell_type": "markdown",
   "metadata": {},
   "source": [
    "# Cambio columnas con fechas a datetime"
   ]
  },
  {
   "cell_type": "code",
   "execution_count": 4,
   "metadata": {},
   "outputs": [],
   "source": [
    "# Las columnas de fecha_reserva, inicio_estancia y final_estancia deberían estar en formato fecha. Hacemos una función para transformarlas.\n",
    "def trans_fecha(lista_col, dataframe):\n",
    "    for col in lista_col:\n",
    "        dataframe[col] = pd.to_datetime(dataframe[col], errors=\"coerce\")\n",
    "    return dataframe"
   ]
  },
  {
   "cell_type": "code",
   "execution_count": 5,
   "metadata": {},
   "outputs": [],
   "source": [
    "df = trans_fecha([\"fecha_reserva\", \"inicio_estancia\", \"final_estancia\"], df)"
   ]
  },
  {
   "cell_type": "markdown",
   "metadata": {},
   "source": [
    "# Fechas estancia"
   ]
  },
  {
   "cell_type": "code",
   "execution_count": 6,
   "metadata": {},
   "outputs": [],
   "source": [
    "# miramos valores únicos de fechas de inicio y final de estancia porque las necesitaremos para buscar eventos en la API\n",
    "ini_estancia =df[\"inicio_estancia\"].unique()\n",
    "fin_estancia = df[\"final_estancia\"].unique()"
   ]
  },
  {
   "cell_type": "markdown",
   "metadata": {},
   "source": [
    "Como las fechas son las mismas, podríamos rellenar toda la columna con el mismo valor."
   ]
  },
  {
   "cell_type": "code",
   "execution_count": 7,
   "metadata": {},
   "outputs": [],
   "source": [
    "# Rellenamos las columnas del df con las fechas.\n",
    "df[\"inicio_estancia\"] = ini_estancia[0]\n",
    "df[\"final_estancia\"] = fin_estancia[0]"
   ]
  },
  {
   "cell_type": "markdown",
   "metadata": {},
   "source": [
    "# Ciudades"
   ]
  },
  {
   "cell_type": "code",
   "execution_count": 51,
   "metadata": {},
   "outputs": [],
   "source": [
    "# Rellenamos toda la columna con Madrid.\n",
    "df[\"ciudad\"] = \"Madrid\""
   ]
  },
  {
   "cell_type": "markdown",
   "metadata": {},
   "source": [
    "# Duplicados"
   ]
  },
  {
   "cell_type": "code",
   "execution_count": 9,
   "metadata": {},
   "outputs": [
    {
     "data": {
      "text/plain": [
       "np.int64(98)"
      ]
     },
     "execution_count": 9,
     "metadata": {},
     "output_type": "execute_result"
    }
   ],
   "source": [
    "df.duplicated().sum()"
   ]
  },
  {
   "cell_type": "code",
   "execution_count": 10,
   "metadata": {},
   "outputs": [],
   "source": [
    "# Hay 98 filas totalmente duplicadas, las eliminamos\n",
    "df = df.drop_duplicates()"
   ]
  },
  {
   "cell_type": "markdown",
   "metadata": {},
   "source": [
    "# **Transformación**"
   ]
  },
  {
   "cell_type": "markdown",
   "metadata": {},
   "source": [
    "De cara a cargar los datos en la base de datos vamos a generar unas tablas a partir del df."
   ]
  },
  {
   "cell_type": "code",
   "execution_count": 11,
   "metadata": {},
   "outputs": [
    {
     "data": {
      "text/plain": [
       "np.int64(0)"
      ]
     },
     "execution_count": 11,
     "metadata": {},
     "output_type": "execute_result"
    }
   ],
   "source": [
    "# Podemos tener id_hotel duplicados porque más de un cliente puede reservar en el mismo hotel y podemos tener id_cliente duplicados porque el mismo cliente puede haber hecho varias reservas\n",
    "# lo que no podemos tener repetido es el id_reserva. Lo comprobamos\n",
    "df[\"id_reserva\"].duplicated().sum()"
   ]
  },
  {
   "cell_type": "markdown",
   "metadata": {},
   "source": [
    "## Ciudades"
   ]
  },
  {
   "cell_type": "code",
   "execution_count": 52,
   "metadata": {},
   "outputs": [
    {
     "data": {
      "text/html": [
       "<div>\n",
       "<style scoped>\n",
       "    .dataframe tbody tr th:only-of-type {\n",
       "        vertical-align: middle;\n",
       "    }\n",
       "\n",
       "    .dataframe tbody tr th {\n",
       "        vertical-align: top;\n",
       "    }\n",
       "\n",
       "    .dataframe thead th {\n",
       "        text-align: right;\n",
       "    }\n",
       "</style>\n",
       "<table border=\"1\" class=\"dataframe\">\n",
       "  <thead>\n",
       "    <tr style=\"text-align: right;\">\n",
       "      <th></th>\n",
       "      <th>nombre_ciudad</th>\n",
       "    </tr>\n",
       "  </thead>\n",
       "  <tbody>\n",
       "    <tr>\n",
       "      <th>0</th>\n",
       "      <td>Madrid</td>\n",
       "    </tr>\n",
       "  </tbody>\n",
       "</table>\n",
       "</div>"
      ],
      "text/plain": [
       "  nombre_ciudad\n",
       "0        Madrid"
      ]
     },
     "execution_count": 52,
     "metadata": {},
     "output_type": "execute_result"
    }
   ],
   "source": [
    "ciudades_limpio = df[\"ciudad\"].unique()\n",
    "df_ciudades = pd.DataFrame(ciudades_limpio, columns=[\"nombre_ciudad\"])\n",
    "df_ciudades"
   ]
  },
  {
   "cell_type": "markdown",
   "metadata": {},
   "source": [
    "## Hoteles"
   ]
  },
  {
   "cell_type": "code",
   "execution_count": 13,
   "metadata": {},
   "outputs": [
    {
     "data": {
      "text/plain": [
       "False"
      ]
     },
     "execution_count": 13,
     "metadata": {},
     "output_type": "execute_result"
    }
   ],
   "source": [
    "# Cantidad de id_hotel\n",
    "df[\"id_hotel\"].nunique() == df[\"nombre_hotel\"].nunique()"
   ]
  },
  {
   "cell_type": "markdown",
   "metadata": {},
   "source": [
    "Hay discrepancia en la cantidad de valores únicos. Vamos a generar dos tablas de hoteles, una con los hoteles propios y otra con los de la competencia."
   ]
  },
  {
   "cell_type": "markdown",
   "metadata": {},
   "source": [
    "### Hoteles propios"
   ]
  },
  {
   "cell_type": "code",
   "execution_count": 14,
   "metadata": {},
   "outputs": [],
   "source": [
    "info_propios = df[[\"id_hotel\", \"nombre_hotel\" , \"estrellas\", \"ciudad\", \"competencia\"]][df[\"competencia\"]==False]"
   ]
  },
  {
   "cell_type": "code",
   "execution_count": 22,
   "metadata": {},
   "outputs": [
    {
     "data": {
      "text/html": [
       "<div>\n",
       "<style scoped>\n",
       "    .dataframe tbody tr th:only-of-type {\n",
       "        vertical-align: middle;\n",
       "    }\n",
       "\n",
       "    .dataframe tbody tr th {\n",
       "        vertical-align: top;\n",
       "    }\n",
       "\n",
       "    .dataframe thead th {\n",
       "        text-align: right;\n",
       "    }\n",
       "</style>\n",
       "<table border=\"1\" class=\"dataframe\">\n",
       "  <thead>\n",
       "    <tr style=\"text-align: right;\">\n",
       "      <th></th>\n",
       "      <th>nombre_hotel</th>\n",
       "      <th>id_hotel</th>\n",
       "    </tr>\n",
       "  </thead>\n",
       "  <tbody>\n",
       "    <tr>\n",
       "      <th>0</th>\n",
       "      <td>Gran Hotel Madrid</td>\n",
       "      <td>19</td>\n",
       "    </tr>\n",
       "    <tr>\n",
       "      <th>1</th>\n",
       "      <td>Hotel Brisas del Mar</td>\n",
       "      <td>19</td>\n",
       "    </tr>\n",
       "    <tr>\n",
       "      <th>2</th>\n",
       "      <td>Hotel Camino del Sol</td>\n",
       "      <td>19</td>\n",
       "    </tr>\n",
       "    <tr>\n",
       "      <th>3</th>\n",
       "      <td>Hotel Costa Azul</td>\n",
       "      <td>19</td>\n",
       "    </tr>\n",
       "    <tr>\n",
       "      <th>4</th>\n",
       "      <td>Hotel Encanto Real</td>\n",
       "      <td>19</td>\n",
       "    </tr>\n",
       "    <tr>\n",
       "      <th>5</th>\n",
       "      <td>Hotel Jardines del Rey</td>\n",
       "      <td>19</td>\n",
       "    </tr>\n",
       "    <tr>\n",
       "      <th>6</th>\n",
       "      <td>Hotel Las Estrellas</td>\n",
       "      <td>19</td>\n",
       "    </tr>\n",
       "    <tr>\n",
       "      <th>7</th>\n",
       "      <td>Hotel Los Almendros</td>\n",
       "      <td>19</td>\n",
       "    </tr>\n",
       "    <tr>\n",
       "      <th>8</th>\n",
       "      <td>Hotel Luz de Madrid</td>\n",
       "      <td>19</td>\n",
       "    </tr>\n",
       "    <tr>\n",
       "      <th>9</th>\n",
       "      <td>Hotel Maravilla Real</td>\n",
       "      <td>19</td>\n",
       "    </tr>\n",
       "    <tr>\n",
       "      <th>10</th>\n",
       "      <td>Hotel Mirador Real</td>\n",
       "      <td>19</td>\n",
       "    </tr>\n",
       "    <tr>\n",
       "      <th>11</th>\n",
       "      <td>Hotel Monte Verde</td>\n",
       "      <td>19</td>\n",
       "    </tr>\n",
       "    <tr>\n",
       "      <th>12</th>\n",
       "      <td>Hotel Palacio Imperial</td>\n",
       "      <td>19</td>\n",
       "    </tr>\n",
       "    <tr>\n",
       "      <th>13</th>\n",
       "      <td>Hotel Puerta del Cielo</td>\n",
       "      <td>19</td>\n",
       "    </tr>\n",
       "    <tr>\n",
       "      <th>14</th>\n",
       "      <td>Hotel Rincón Sereno</td>\n",
       "      <td>19</td>\n",
       "    </tr>\n",
       "    <tr>\n",
       "      <th>15</th>\n",
       "      <td>Hotel Sol y Luna</td>\n",
       "      <td>19</td>\n",
       "    </tr>\n",
       "    <tr>\n",
       "      <th>16</th>\n",
       "      <td>Hotel Torre Dorada</td>\n",
       "      <td>19</td>\n",
       "    </tr>\n",
       "    <tr>\n",
       "      <th>17</th>\n",
       "      <td>Hotel Vista Alegre</td>\n",
       "      <td>19</td>\n",
       "    </tr>\n",
       "    <tr>\n",
       "      <th>18</th>\n",
       "      <td>Palacio del Sol</td>\n",
       "      <td>19</td>\n",
       "    </tr>\n",
       "  </tbody>\n",
       "</table>\n",
       "</div>"
      ],
      "text/plain": [
       "              nombre_hotel  id_hotel\n",
       "0        Gran Hotel Madrid        19\n",
       "1     Hotel Brisas del Mar        19\n",
       "2     Hotel Camino del Sol        19\n",
       "3         Hotel Costa Azul        19\n",
       "4       Hotel Encanto Real        19\n",
       "5   Hotel Jardines del Rey        19\n",
       "6      Hotel Las Estrellas        19\n",
       "7      Hotel Los Almendros        19\n",
       "8      Hotel Luz de Madrid        19\n",
       "9     Hotel Maravilla Real        19\n",
       "10      Hotel Mirador Real        19\n",
       "11       Hotel Monte Verde        19\n",
       "12  Hotel Palacio Imperial        19\n",
       "13  Hotel Puerta del Cielo        19\n",
       "14     Hotel Rincón Sereno        19\n",
       "15        Hotel Sol y Luna        19\n",
       "16      Hotel Torre Dorada        19\n",
       "17      Hotel Vista Alegre        19\n",
       "18         Palacio del Sol        19"
      ]
     },
     "execution_count": 22,
     "metadata": {},
     "output_type": "execute_result"
    }
   ],
   "source": [
    "# Comprobamos si hay hoteles con más de un id asignado\n",
    "conteo_hoteles = info_propios.groupby(\"nombre_hotel\")[\"id_hotel\"].nunique().reset_index()\n",
    "conteo_hoteles"
   ]
  },
  {
   "cell_type": "markdown",
   "metadata": {},
   "source": [
    "Todos los hoteles tienen 19 id asignados, lo que no puede ser correcto. Vamos a asociar un único id_hotel por cada nombre_hotel"
   ]
  },
  {
   "cell_type": "code",
   "execution_count": 15,
   "metadata": {},
   "outputs": [],
   "source": [
    "# Cremos una lista con los nombres de los hoteles\n",
    "nombrespropios = list(info_propios[\"nombre_hotel\"].unique())\n",
    "# Creamos una lista de números seriales según la cantidad de hoteles propios\n",
    "idspropios = list(range(1, len(nombrespropios)+1))\n",
    "# Asignamos números seriales a cada elemento. Lo hacemos como un diccionario para poder hacer un mapeo en el df_propios\n",
    "hoteles_propios = dict(zip(nombrespropios, idspropios))"
   ]
  },
  {
   "cell_type": "code",
   "execution_count": 16,
   "metadata": {},
   "outputs": [],
   "source": [
    "info_propios[\"id_hotel\"] = info_propios[\"nombre_hotel\"].map(hoteles_propios)"
   ]
  },
  {
   "cell_type": "markdown",
   "metadata": {},
   "source": [
    "La columna estrellas se supone que se refiere a la clasificación del hotel, por lo que cada hotel debería tener una clasificación única. Lo comprobamos"
   ]
  },
  {
   "cell_type": "code",
   "execution_count": 26,
   "metadata": {},
   "outputs": [
    {
     "data": {
      "text/html": [
       "<div>\n",
       "<style scoped>\n",
       "    .dataframe tbody tr th:only-of-type {\n",
       "        vertical-align: middle;\n",
       "    }\n",
       "\n",
       "    .dataframe tbody tr th {\n",
       "        vertical-align: top;\n",
       "    }\n",
       "\n",
       "    .dataframe thead th {\n",
       "        text-align: right;\n",
       "    }\n",
       "</style>\n",
       "<table border=\"1\" class=\"dataframe\">\n",
       "  <thead>\n",
       "    <tr style=\"text-align: right;\">\n",
       "      <th></th>\n",
       "      <th>nombre_hotel</th>\n",
       "      <th>estrellas</th>\n",
       "    </tr>\n",
       "  </thead>\n",
       "  <tbody>\n",
       "    <tr>\n",
       "      <th>0</th>\n",
       "      <td>Gran Hotel Madrid</td>\n",
       "      <td>5</td>\n",
       "    </tr>\n",
       "    <tr>\n",
       "      <th>1</th>\n",
       "      <td>Hotel Brisas del Mar</td>\n",
       "      <td>5</td>\n",
       "    </tr>\n",
       "    <tr>\n",
       "      <th>2</th>\n",
       "      <td>Hotel Camino del Sol</td>\n",
       "      <td>5</td>\n",
       "    </tr>\n",
       "    <tr>\n",
       "      <th>3</th>\n",
       "      <td>Hotel Costa Azul</td>\n",
       "      <td>5</td>\n",
       "    </tr>\n",
       "    <tr>\n",
       "      <th>4</th>\n",
       "      <td>Hotel Encanto Real</td>\n",
       "      <td>5</td>\n",
       "    </tr>\n",
       "    <tr>\n",
       "      <th>5</th>\n",
       "      <td>Hotel Jardines del Rey</td>\n",
       "      <td>5</td>\n",
       "    </tr>\n",
       "    <tr>\n",
       "      <th>6</th>\n",
       "      <td>Hotel Las Estrellas</td>\n",
       "      <td>5</td>\n",
       "    </tr>\n",
       "    <tr>\n",
       "      <th>7</th>\n",
       "      <td>Hotel Los Almendros</td>\n",
       "      <td>5</td>\n",
       "    </tr>\n",
       "    <tr>\n",
       "      <th>8</th>\n",
       "      <td>Hotel Luz de Madrid</td>\n",
       "      <td>5</td>\n",
       "    </tr>\n",
       "    <tr>\n",
       "      <th>9</th>\n",
       "      <td>Hotel Maravilla Real</td>\n",
       "      <td>5</td>\n",
       "    </tr>\n",
       "    <tr>\n",
       "      <th>10</th>\n",
       "      <td>Hotel Mirador Real</td>\n",
       "      <td>5</td>\n",
       "    </tr>\n",
       "    <tr>\n",
       "      <th>11</th>\n",
       "      <td>Hotel Monte Verde</td>\n",
       "      <td>5</td>\n",
       "    </tr>\n",
       "    <tr>\n",
       "      <th>12</th>\n",
       "      <td>Hotel Palacio Imperial</td>\n",
       "      <td>5</td>\n",
       "    </tr>\n",
       "    <tr>\n",
       "      <th>13</th>\n",
       "      <td>Hotel Puerta del Cielo</td>\n",
       "      <td>5</td>\n",
       "    </tr>\n",
       "    <tr>\n",
       "      <th>14</th>\n",
       "      <td>Hotel Rincón Sereno</td>\n",
       "      <td>5</td>\n",
       "    </tr>\n",
       "    <tr>\n",
       "      <th>15</th>\n",
       "      <td>Hotel Sol y Luna</td>\n",
       "      <td>5</td>\n",
       "    </tr>\n",
       "    <tr>\n",
       "      <th>16</th>\n",
       "      <td>Hotel Torre Dorada</td>\n",
       "      <td>5</td>\n",
       "    </tr>\n",
       "    <tr>\n",
       "      <th>17</th>\n",
       "      <td>Hotel Vista Alegre</td>\n",
       "      <td>5</td>\n",
       "    </tr>\n",
       "    <tr>\n",
       "      <th>18</th>\n",
       "      <td>Palacio del Sol</td>\n",
       "      <td>5</td>\n",
       "    </tr>\n",
       "  </tbody>\n",
       "</table>\n",
       "</div>"
      ],
      "text/plain": [
       "              nombre_hotel  estrellas\n",
       "0        Gran Hotel Madrid          5\n",
       "1     Hotel Brisas del Mar          5\n",
       "2     Hotel Camino del Sol          5\n",
       "3         Hotel Costa Azul          5\n",
       "4       Hotel Encanto Real          5\n",
       "5   Hotel Jardines del Rey          5\n",
       "6      Hotel Las Estrellas          5\n",
       "7      Hotel Los Almendros          5\n",
       "8      Hotel Luz de Madrid          5\n",
       "9     Hotel Maravilla Real          5\n",
       "10      Hotel Mirador Real          5\n",
       "11       Hotel Monte Verde          5\n",
       "12  Hotel Palacio Imperial          5\n",
       "13  Hotel Puerta del Cielo          5\n",
       "14     Hotel Rincón Sereno          5\n",
       "15        Hotel Sol y Luna          5\n",
       "16      Hotel Torre Dorada          5\n",
       "17      Hotel Vista Alegre          5\n",
       "18         Palacio del Sol          5"
      ]
     },
     "execution_count": 26,
     "metadata": {},
     "output_type": "execute_result"
    }
   ],
   "source": [
    "conteo_estrellas = info_propios.groupby(\"nombre_hotel\")[\"estrellas\"].nunique().reset_index()\n",
    "conteo_estrellas"
   ]
  },
  {
   "cell_type": "markdown",
   "metadata": {},
   "source": [
    "Vemos cada hotel tiene 5 clasificaciones distintas, lo que no tendría sentido. Vamos a suponer que se trata de la valoración de los clientes, por lo que tomaremos el valor medio de cada hotel."
   ]
  },
  {
   "cell_type": "code",
   "execution_count": 18,
   "metadata": {},
   "outputs": [],
   "source": [
    "# Cambiamos el nombre de la columna\n",
    "info_propios.rename(columns={\"estrellas\":\"valoracion\"}, inplace=True)"
   ]
  },
  {
   "cell_type": "code",
   "execution_count": 19,
   "metadata": {},
   "outputs": [],
   "source": [
    "# Calculamos la valoracion media por cada nombre de hotel y redondeamos a 1 decimal\n",
    "df_valoracion_propios = round(info_propios.groupby(\"nombre_hotel\")[\"valoracion\"].mean().reset_index(),1)"
   ]
  },
  {
   "cell_type": "code",
   "execution_count": 20,
   "metadata": {},
   "outputs": [],
   "source": [
    "def generar_mapa(col1, col2, dataframe):\n",
    "    \"\"\"\n",
    "    Genera un diccionario a partir de los valores de dos columnas de un DataFrame, generando pares clave:valor por cada fila.\n",
    "\n",
    "    Parámetros:\n",
    "    col1 (str): Nombre de la primera columna que se usará como claves del diccionario.\n",
    "    col2 (str): Nombre de la segunda columna que se usará como valores del diccionario.\n",
    "    dataframe (pandas.DataFrame): El DataFrame que contiene las columnas a mapear.\n",
    "\n",
    "    Retorna:\n",
    "    dict: Un diccionario donde las claves son los valores de la columna col1 y los valores son los valores de la columna col2.\n",
    "    \"\"\"\n",
    "    lista_col1 = []\n",
    "    lista_col2 = []\n",
    "    for i in dataframe[col1]:\n",
    "        lista_col1.append(i)\n",
    "    for f in dataframe[col2]:\n",
    "        lista_col2.append(f)\n",
    "\n",
    "    mapa = dict(zip(lista_col1, lista_col2))\n",
    "    return mapa"
   ]
  },
  {
   "cell_type": "code",
   "execution_count": 21,
   "metadata": {},
   "outputs": [],
   "source": [
    "# generamos un diccionario con los nombres de los hoteles y su valoración media\n",
    "valoracion_propios = generar_mapa(\"nombre_hotel\", \"valoracion\", df_valoracion_propios)"
   ]
  },
  {
   "cell_type": "code",
   "execution_count": null,
   "metadata": {},
   "outputs": [],
   "source": [
    "# Usamos el diccionario para mapear el df de hoteles propios y corregir la columna de estrellas\n",
    "info_propios[\"valoracion\"] = info_propios[\"nombre_hotel\"].map(valoracion_propios)"
   ]
  },
  {
   "cell_type": "code",
   "execution_count": 23,
   "metadata": {},
   "outputs": [],
   "source": [
    "# usamos los diccionarios que hemos creado para generar un df con los hoteles propios\n",
    "df_propios = pd.DataFrame(hoteles_propios.items(), columns=[\"nombre_hotel\", \"id_hotel\"])\n",
    "# Creamos las columnas que nos faltan para rellenarlas\n",
    "df_propios[[\"valoracion\", \"ciudad\", \"competencia\"]] = pd.NA\n",
    "df_propios[\"valoracion\"] = df_propios[\"nombre_hotel\"].map(valoracion_propios)\n",
    "valor_ciudad = \"Madrid\"\n",
    "valor_competencia = False\n",
    "df_propios[\"ciudad\"] = valor_ciudad\n",
    "df_propios[\"competencia\"] = valor_competencia"
   ]
  },
  {
   "cell_type": "markdown",
   "metadata": {},
   "source": [
    "### Hoteles competencia"
   ]
  },
  {
   "cell_type": "code",
   "execution_count": 26,
   "metadata": {},
   "outputs": [],
   "source": [
    "competencia = df[[\"id_hotel\", \"nombre_hotel\", \"estrellas\", \"ciudad\", \"competencia\"]][df[\"competencia\"]==True]"
   ]
  },
  {
   "cell_type": "code",
   "execution_count": 27,
   "metadata": {},
   "outputs": [],
   "source": [
    "# Cambiamos el nombre de la columna estrellas\n",
    "competencia.rename(columns={\"estrellas\":\"valoracion\"}, inplace=True)"
   ]
  },
  {
   "cell_type": "code",
   "execution_count": 28,
   "metadata": {},
   "outputs": [],
   "source": [
    "ids_competencia = (competencia[\"id_hotel\"].unique()).tolist()"
   ]
  },
  {
   "cell_type": "markdown",
   "metadata": {},
   "source": [
    "Los datos que faltan los extraemos por scrapeo"
   ]
  },
  {
   "cell_type": "code",
   "execution_count": 29,
   "metadata": {},
   "outputs": [],
   "source": [
    "info_competencia = pd.read_pickle(\"../data/data_clean/hoteles_competencia.pkl\")"
   ]
  },
  {
   "cell_type": "code",
   "execution_count": 30,
   "metadata": {},
   "outputs": [],
   "source": [
    "info_competencia[\"id_hotel\"] = ids_competencia\n",
    "info_competencia[\"ciudad\"] = \"Madrid\""
   ]
  },
  {
   "cell_type": "code",
   "execution_count": 33,
   "metadata": {},
   "outputs": [
    {
     "name": "stderr",
     "output_type": "stream",
     "text": [
      "C:\\Users\\marta\\AppData\\Local\\Temp\\ipykernel_12144\\4064413440.py:3: SettingWithCopyWarning: \n",
      "A value is trying to be set on a copy of a slice from a DataFrame.\n",
      "Try using .loc[row_indexer,col_indexer] = value instead\n",
      "\n",
      "See the caveats in the documentation: https://pandas.pydata.org/pandas-docs/stable/user_guide/indexing.html#returning-a-view-versus-a-copy\n",
      "  df_competencia[\"competencia\"] = competencia\n",
      "C:\\Users\\marta\\AppData\\Local\\Temp\\ipykernel_12144\\4064413440.py:4: SettingWithCopyWarning: \n",
      "A value is trying to be set on a copy of a slice from a DataFrame\n",
      "\n",
      "See the caveats in the documentation: https://pandas.pydata.org/pandas-docs/stable/user_guide/indexing.html#returning-a-view-versus-a-copy\n",
      "  df_competencia.rename(columns={\"nombre\" : \"nombre_hotel\"}, inplace = True)\n"
     ]
    }
   ],
   "source": [
    "df_competencia = info_competencia[[\"id_hotel\", \"nombre\", \"valoracion\", \"ciudad\"]]\n",
    "competencia = True\n",
    "df_competencia[\"competencia\"] = competencia\n",
    "df_competencia.rename(columns={\"nombre\" : \"nombre_hotel\"}, inplace = True)"
   ]
  },
  {
   "cell_type": "code",
   "execution_count": 35,
   "metadata": {},
   "outputs": [],
   "source": [
    "#unimos los dos dataframes de hoteles\n",
    "df_hoteles = pd.concat([df_propios, df_competencia], axis = 0)"
   ]
  },
  {
   "cell_type": "code",
   "execution_count": 36,
   "metadata": {},
   "outputs": [],
   "source": [
    "valoracion_hoteles = generar_mapa(\"nombre_hotel\", \"valoracion\", df_hoteles)\n",
    "nombres_id_hoteles = generar_mapa(\"nombre_hotel\", \"id_hotel\", df_hoteles)\n",
    "nombres_competencia = generar_mapa(\"id_hotel\", \"nombre_hotel\", df_competencia)\n",
    "precios_competencia = generar_mapa(\"nombre\", \"precio\", info_competencia)"
   ]
  },
  {
   "cell_type": "markdown",
   "metadata": {},
   "source": [
    "## Clientes"
   ]
  },
  {
   "cell_type": "markdown",
   "metadata": {},
   "source": [
    "Como podemos tener dos clientes con el mismo nombre, tomaremos el mail de cliente como el valor único de cliente. Es posible que tengamos un mismo cliente que haya hecho vrias reservas, por lo que encontrar el mismo id_cliente varias veces tampoco indicaría error. Vamos a comprobar si el número de valores únicos de id_cliente se corresponde con el número de valores únicos de mail. De no ser así, podría indicar un error en la asignación de id_cliente que debemos corregir"
   ]
  },
  {
   "cell_type": "code",
   "execution_count": 39,
   "metadata": {},
   "outputs": [
    {
     "data": {
      "text/plain": [
       "False"
      ]
     },
     "execution_count": 39,
     "metadata": {},
     "output_type": "execute_result"
    }
   ],
   "source": [
    "df[\"id_cliente\"].nunique() == df[\"mail\"].nunique()"
   ]
  },
  {
   "cell_type": "markdown",
   "metadata": {},
   "source": [
    "Vemos que hay más valores de mail que de id_cliente, lo que sugiere que más de un cliente tiene el mismo id. Vamos a corregir el id de la misma forma que hemos corregido los id_hotel."
   ]
  },
  {
   "cell_type": "code",
   "execution_count": 40,
   "metadata": {},
   "outputs": [],
   "source": [
    "df_clientes = df[[\"id_cliente\", \"nombre\", \"apellido\", \"mail\"]]"
   ]
  },
  {
   "cell_type": "code",
   "execution_count": 41,
   "metadata": {},
   "outputs": [],
   "source": [
    "mails=df_clientes[\"mail\"].unique()"
   ]
  },
  {
   "cell_type": "code",
   "execution_count": 42,
   "metadata": {},
   "outputs": [],
   "source": [
    "mailcliente=[]\n",
    "idcliente=[]\n",
    "for mail in enumerate(mails, start=1):\n",
    "    mailcliente.append(mail[1])\n",
    "    idcliente.append(f\"cliente_{mail[0]}\")\n",
    "mail_cliente = dict(zip(mailcliente, idcliente))"
   ]
  },
  {
   "cell_type": "code",
   "execution_count": 43,
   "metadata": {},
   "outputs": [],
   "source": [
    "df_clientes.loc[:, \"id_cliente\"] = df_clientes[\"mail\"].map(mail_cliente)"
   ]
  },
  {
   "cell_type": "code",
   "execution_count": 44,
   "metadata": {},
   "outputs": [],
   "source": [
    "df_clientes = df_clientes.drop_duplicates()"
   ]
  },
  {
   "cell_type": "code",
   "execution_count": 45,
   "metadata": {},
   "outputs": [
    {
     "data": {
      "text/plain": [
       "np.int64(0)"
      ]
     },
     "execution_count": 45,
     "metadata": {},
     "output_type": "execute_result"
    }
   ],
   "source": [
    "df_clientes.duplicated().sum()"
   ]
  },
  {
   "cell_type": "markdown",
   "metadata": {},
   "source": [
    "## Reservas"
   ]
  },
  {
   "cell_type": "code",
   "execution_count": 53,
   "metadata": {},
   "outputs": [],
   "source": [
    "# Renombramos la columna estrellas por valoracion\n",
    "df.rename(columns = {\"estrellas\": \"valoracion\"}, inplace = True)"
   ]
  },
  {
   "cell_type": "code",
   "execution_count": 46,
   "metadata": {},
   "outputs": [],
   "source": [
    "# La fecha de reserva para los hoteles de la competencia es la del scrapeo. Lo actualizamos\n",
    "df.loc[df[\"competencia\"]==True, \"fecha_reserva\"] = info_competencia[\"fecha_reserva\"][0]\n",
    "df[\"id_cliente\"] = df[\"mail\"].map(mail_cliente)\n",
    "df.loc[df[\"competencia\"]==False, \"id_hotel\"] = df[\"nombre_hotel\"].map(hoteles_propios)\n",
    "df.loc[df[\"competencia\"] == True, \"nombre_hotel\"] = df[\"id_hotel\"].map(nombres_competencia)\n",
    "df.loc[df[\"competencia\"] == True, \"precio_noche\"] = df[\"nombre_hotel\"].map(precios_competencia)\n",
    "df[\"valoracion\"] = df[\"nombre_hotel\"].map(valoracion_hoteles)"
   ]
  },
  {
   "cell_type": "code",
   "execution_count": 47,
   "metadata": {},
   "outputs": [],
   "source": [
    "df_reservas = df[[\"id_reserva\", \"fecha_reserva\", \"inicio_estancia\", \"final_estancia\", \"precio_noche\", \"id_cliente\", \"id_hotel\", \"nombre_hotel\"]]"
   ]
  },
  {
   "cell_type": "code",
   "execution_count": 48,
   "metadata": {},
   "outputs": [],
   "source": [
    "df_precios = df_reservas.groupby(\"id_hotel\")[\"precio_noche\"].describe()"
   ]
  },
  {
   "cell_type": "code",
   "execution_count": 49,
   "metadata": {},
   "outputs": [],
   "source": [
    "# Creamos un diccionario con los precios medios de los hoteles para poder rellenar los valores nulos\n",
    "precios_medios = dict(df_precios[\"mean\"])\n",
    "df.loc[df[\"competencia\"]==False, \"id_hotel\"] = df[\"nombre_hotel\"].map(hoteles_propios)\n",
    "df_reservas.loc[df_reservas[\"precio_noche\"].isnull(), \"precio_noche\"] = df_reservas[\"id_hotel\"].map(precios_medios)"
   ]
  },
  {
   "cell_type": "code",
   "execution_count": 53,
   "metadata": {},
   "outputs": [],
   "source": [
    "#Guardamos los df generados en archivos pickle\n",
    "df_ciudades.to_pickle(\"../data/data_clean/ciudades.pkl\")\n",
    "df_hoteles.to_pickle(\"../data/data_clean/hoteles.pkl\")\n",
    "df_clientes.to_pickle(\"../data/data_clean/clientes.pkl\")\n",
    "df_reservas.to_pickle(\"../data/data_clean/reservas.pkl\")"
   ]
  }
 ],
 "metadata": {
  "kernelspec": {
   "display_name": "Python 3",
   "language": "python",
   "name": "python3"
  },
  "language_info": {
   "codemirror_mode": {
    "name": "ipython",
    "version": 3
   },
   "file_extension": ".py",
   "mimetype": "text/x-python",
   "name": "python",
   "nbconvert_exporter": "python",
   "pygments_lexer": "ipython3",
   "version": "3.13.0"
  }
 },
 "nbformat": 4,
 "nbformat_minor": 2
}
