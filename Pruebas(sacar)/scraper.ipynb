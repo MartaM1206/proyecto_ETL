{
 "cells": [
  {
   "cell_type": "code",
   "execution_count": 1,
   "metadata": {},
   "outputs": [],
   "source": [
    "# vamos a usar beautifulsoup4 para scrapear los datos de los municipios\n",
    "# importamos las librerias necesarias\n",
    "import pandas as pd\n",
    "import numpy as np\n",
    "from bs4 import BeautifulSoup as bs \n",
    "import requests"
   ]
  },
  {
   "cell_type": "code",
   "execution_count": 2,
   "metadata": {},
   "outputs": [
    {
     "data": {
      "text/plain": [
       "200"
      ]
     },
     "execution_count": 2,
     "metadata": {},
     "output_type": "execute_result"
    }
   ],
   "source": [
    "# definimos la url de la pagina\n",
    "url_hoteles = \"https://all.accor.com/ssr/app/ibis/hotels/madrid-spain/index.es.shtml?compositions=1&stayplus=false&snu=false&hideWDR=false&productCode=null&accessibleRooms=false&hideHotelDetails=false\"\n",
    "# hacemos la peticion a la pagina\n",
    "res_hoteles = requests.get(url_hoteles)\n",
    "# comprobamos que la peticion se ha hecho correctamente\n",
    "res_hoteles.status_code"
   ]
  },
  {
   "cell_type": "code",
   "execution_count": 3,
   "metadata": {},
   "outputs": [],
   "source": [
    "# Creamos la sopa. Esto nos trae el html de la web, en este caso de la wiki\n",
    "sopa_hoteles = bs(res_hoteles.content, \"html.parser\")\n",
    "# Ojo que los print infinitos que aquí se ven scrolleables, en el repo se ven enteros"
   ]
  },
  {
   "cell_type": "code",
   "execution_count": null,
   "metadata": {},
   "outputs": [
    {
     "data": {
      "text/plain": [
       "10"
      ]
     },
     "execution_count": 33,
     "metadata": {},
     "output_type": "execute_result"
    }
   ],
   "source": [
    "# Buscamos todos los hoteles\n",
    "hoteles = sopa_hoteles.find_all(\"div\",{\"class\":\"hotelblock\"})\n",
    "# Vemos cuantas hoteles hay  \n",
    "len(hoteles)"
   ]
  },
  {
   "cell_type": "code",
   "execution_count": 39,
   "metadata": {},
   "outputs": [
    {
     "data": {
      "text/plain": [
       "<div class=\"hotelblock__content\" data-v-40d92af9=\"\"><header class=\"title-block\" data-v-40d92af9=\"\" data-v-438ba70d=\"\"><h2 class=\"title\" data-v-438ba70d=\"\" data-v-71eed73c=\"\"><a class=\"title__link title__link\" data-v-71eed73c=\"\" href=\"/ssr/app/ibis/rates/8052/index.es.shtml?compositions=1&amp;dateIn=2025-02-16&amp;nights=1&amp;hideHotelDetails=false&amp;hideWDR=false&amp;destination=madrid-spain\" target=\"\" title=\"ibis Styles Madrid Prado\">\n",
       "    ibis Styles Madrid Prado\n",
       "    <span class=\"title-block__stick-to-previous-text\" data-v-438ba70d=\"\"><span class=\"rating\" data-v-399a1766=\"\" data-v-438ba70d=\"\"><span class=\"sr-only\" data-v-399a1766=\"\">3 Estrellas</span> <svg aria-hidden=\"true\" class=\"icon rating__star\" data-v-399a1766=\"\" focusable=\"false\" viewbox=\"0 0 7 7\" xmlns=\"http://www.w3.org/2000/svg\"><path d=\"M3.5 5.52 1.34 6.66l.41-2.41L0 2.55l2.42-.36L3.5 0l1.08 2.2L7 2.53l-1.75 1.7.41 2.42z\"></path></svg><svg aria-hidden=\"true\" class=\"icon rating__star\" data-v-399a1766=\"\" focusable=\"false\" viewbox=\"0 0 7 7\" xmlns=\"http://www.w3.org/2000/svg\"><path d=\"M3.5 5.52 1.34 6.66l.41-2.41L0 2.55l2.42-.36L3.5 0l1.08 2.2L7 2.53l-1.75 1.7.41 2.42z\"></path></svg><svg aria-hidden=\"true\" class=\"icon rating__star\" data-v-399a1766=\"\" focusable=\"false\" viewbox=\"0 0 7 7\" xmlns=\"http://www.w3.org/2000/svg\"><path d=\"M3.5 5.52 1.34 6.66l.41-2.41L0 2.55l2.42-.36L3.5 0l1.08 2.2L7 2.53l-1.75 1.7.41 2.42z\"></path></svg></span></span></a></h2> <p class=\"search-details title-block__search-details\" data-v-438ba70d=\"\" data-v-546d6082=\"\"><span data-v-438ba70d=\"\" data-v-546d6082=\"\">Hoteles</span> <button class=\"title-block__distance-link\" data-v-438ba70d=\"\" data-v-546d6082=\"\" type=\"button\">\n",
       "      0.4 km desde tu búsqueda\n",
       "    </button></p> <!-- --></header> <div class=\"hotelblock__content-body\" data-v-40d92af9=\"\"><div class=\"hotelblock__content-ratings\" data-v-40d92af9=\"\"><div class=\"ratings\" data-v-40d92af9=\"\" data-v-4e25d506=\"\"><p class=\"ratings__wrapper\" data-v-4e25d506=\"\"><span class=\"review-rating review-rating--trustyou\" data-v-21a6bfb0=\"\" data-v-4e25d506=\"\"><img alt=\"\" class=\"review-rating__brand-logo\" data-v-21a6bfb0=\"\" src=\"/ssr/_nuxt/img/trustyou.4505704.svg\"/> <span class=\"review-rating__rating\" data-v-21a6bfb0=\"\"><span class=\"review-rating__star\" data-v-21a6bfb0=\"\"><span class=\"review-rating__fill\" data-v-21a6bfb0=\"\" style=\"width:100%;\"></span></span><span class=\"review-rating__star\" data-v-21a6bfb0=\"\"><span class=\"review-rating__fill\" data-v-21a6bfb0=\"\" style=\"width:100%;\"></span></span><span class=\"review-rating__star\" data-v-21a6bfb0=\"\"><span class=\"review-rating__fill\" data-v-21a6bfb0=\"\" style=\"width:100%;\"></span></span><span class=\"review-rating__star\" data-v-21a6bfb0=\"\"><span class=\"review-rating__fill\" data-v-21a6bfb0=\"\" style=\"width:100%;\"></span></span><span class=\"review-rating__star\" data-v-21a6bfb0=\"\"><span class=\"review-rating__fill\" data-v-21a6bfb0=\"\" style=\"width:70.00%;\"></span></span></span></span> <span class=\"sr-only\" data-v-4e25d506=\"\">Puntuación de viajeros de TripAdvisor:</span> <span class=\"ratings__score\" data-v-4e25d506=\"\">\n",
       "        4.7<span aria-hidden=\"true\" data-v-4e25d506=\"\">/</span><span class=\"sr-only\" data-v-4e25d506=\"\">En</span>5\n",
       "      </span> <button class=\"ratings__cta-reviews\" data-v-4e25d506=\"\" type=\"button\"><span data-v-4e25d506=\"\">Ver reseñas</span></button></p></div> <div data-v-40d92af9=\"\"><div class=\"label-badge\"><svg aria-hidden=\"true\" class=\"icon\" focusable=\"false\" xmlns=\"http://www.w3.org/2000/svg\"><path d=\"M15.56 11.78a.57.57 0 0 0-.8-.05c-.23.2-.48.38-.74.55a6.87 6.87 0 0 1-.84-2.53 2.25 2.25 0 0 0-.95-1.9 4.12 4.12 0 0 0-1.93-.4 8.82 8.82 0 0 0-1.69.13A6.68 6.68 0 0 0 7.19 4.2c-.4-.4-.88-.7-1.4-.88-.47-.2-.96-.32-1.46-.39a.56.56 0 0 0-.6.75l.44 1.34-1.13 1.5a.53.53 0 0 0-.1.23 1.3 1.3 0 0 0 .26 1.16 1.5 1.5 0 0 0 1.17.47h.15l.75-.22a6.75 6.75 0 0 1-.84 4.35 7.85 7.85 0 0 1-1.2-.82.56.56 0 0 0-.75.82 10.13 10.13 0 0 0 6.66 2.36h.24a9.6 9.6 0 0 0 6.13-2.25.56.56 0 0 0 .05-.84Zm-9.34-4.5a.54.54 0 0 0-.26-.36.6.6 0 0 0-.45-.04l-1.24.38a.4.4 0 0 1-.23-.08.2.2 0 0 1 0-.11l1.21-1.63a.54.54 0 0 0 .09-.5l-.22-.67.24.1c.37.1.71.3 1 .58A6.28 6.28 0 0 1 7.6 8.29a.57.57 0 0 0 .45.48.9.9 0 0 0 .23-.01 7.74 7.74 0 0 1 2-.22c.47-.02.95.06 1.4.25.25.15.33.52.38 1.02a7.87 7.87 0 0 0 1.01 3 8.6 8.6 0 0 1-1.16.47l-.67-1.79a.56.56 0 0 0-.82-.29 2.58 2.58 0 0 1-2.25.08.58.58 0 0 0-.75.3l-.75 1.84a8.32 8.32 0 0 1-1.25-.44 7.89 7.89 0 0 0 .79-5.71v.01Zm2.93 6.47c-.46 0-.92-.02-1.38-.09l.48-1.17c.7.21 1.46.2 2.15-.03l.41 1.13c-.54.1-1.1.15-1.66.14v.02Z\"></path></svg>\n",
       "</div> <!-- --></div> <!-- --></div> <div class=\"hotelblock__content-priceblock\" data-v-40d92af9=\"\"><div class=\"skeleton price-block__skeleton hotelblock__content-priceblock-skeleton skeleton--animation\" data-v-40d92af9=\"\" data-v-7d05c6a0=\"\" data-v-8b753c9c=\"\"></div></div></div> <div class=\"hotel-footer-skeleton hotelblock__footer-skeleton\" data-v-40d92af9=\"\" data-v-5f242de6=\"\"><div class=\"skeleton hotel-footer-skeleton__cta skeleton--animation\" data-v-5f242de6=\"\" data-v-7d05c6a0=\"\"></div> <div class=\"skeleton hotel-footer-skeleton__calendar-cta skeleton--animation\" data-v-5f242de6=\"\" data-v-7d05c6a0=\"\"></div></div></div>"
      ]
     },
     "execution_count": 39,
     "metadata": {},
     "output_type": "execute_result"
    }
   ],
   "source": [
    "prueba= sopa_hoteles.find(\"div\", {\"class\": \"hotelblock__content\"})\n",
    "prueba"
   ]
  },
  {
   "cell_type": "code",
   "execution_count": 44,
   "metadata": {},
   "outputs": [
    {
     "name": "stdout",
     "output_type": "stream",
     "text": [
      "No se encontró el elemento con la clase \"booking-price__number mcp-price-number\"\n"
     ]
    }
   ],
   "source": [
    "# Verificar si el bloque se ha encontrado\n",
    "if prueba:\n",
    "    # Buscar el elemento con la clase específica\n",
    "    precio_elemento = prueba.find(\"span\", {\"class\": \"booking-price__number mcp-price-number\"})\n",
    "    # Verificar si el elemento se ha encontrado\n",
    "    if precio_elemento:\n",
    "        precio = precio_elemento.get_text(strip=True)\n",
    "        print('Precio:', precio)\n",
    "    else:\n",
    "        print('No se encontró el elemento con la clase \"booking-price__number mcp-price-number\"')\n",
    "else:\n",
    "    print('No se encontró el bloque con la clase \"hotelblock__content\"')\n"
   ]
  },
  {
   "cell_type": "code",
   "execution_count": 6,
   "metadata": {},
   "outputs": [],
   "source": [
    "# Creamos diccionario vacío para guardar los datos\n",
    "dictio_scrap ={\"nombre\": [], \"estrellas\": [], \"precio\": []}"
   ]
  },
  {
   "cell_type": "code",
   "execution_count": 22,
   "metadata": {},
   "outputs": [
    {
     "data": {
      "text/plain": [
       "'\\n    ibis Styles Madrid Prado\\n    3 Estrellas '"
      ]
     },
     "execution_count": 22,
     "metadata": {},
     "output_type": "execute_result"
    }
   ],
   "source": [
    "nombre = prueba.select_one(\"a.title__link\").get_text()\n",
    "nombre"
   ]
  },
  {
   "cell_type": "code",
   "execution_count": 47,
   "metadata": {},
   "outputs": [
    {
     "name": "stdout",
     "output_type": "stream",
     "text": [
      "None\n"
     ]
    }
   ],
   "source": [
    "precio = prueba.find(\"span\", {\"class\":\"booking-price\"})\n",
    "print(precio)"
   ]
  },
  {
   "cell_type": "code",
   "execution_count": null,
   "metadata": {},
   "outputs": [],
   "source": [
    "# Necesitamos pasar por todas las filas de las tablas que hemos encontrado\n",
    "for hotel in hoteles:\n",
    "    nombre = hotel.find_all(\"h2\").get_text()\n",
    "    # Ahora tenemos que añadir los datos al diccionario que hemos creado\n",
    "    dictio_scrap[\"nombre\"].append(municipio)\n",
    "    dictio_scrap[\"estrellas\"].append(provincia)\n",
    "    dictio_scrap[\"precio\"].append(comunidad_autonoma)\n"
   ]
  },
  {
   "cell_type": "code",
   "execution_count": null,
   "metadata": {},
   "outputs": [],
   "source": [
    "# Necesitamos pasar por todas las filas de las tablas que hemos encontrado\n",
    "for tabla in tablas:\n",
    "    filas = tabla.find_all(\"tr\")\n",
    "# Y en cada fila buscamos los td\n",
    "    for fila in filas[1:]:\n",
    "        valores = fila.find_all(\"td\")\n",
    "        # Si aquí hacemos un len(valores) nos da que en algunas filas da 0, eso es porque es el th. \n",
    "        # Vamos a cambiar el código para que coja todas las filas menos la primera [1:]\n",
    "        municipio = valores[1].get_text()\n",
    "        provincia = valores[3].get_text()\n",
    "        if len(valores) == 4:   \n",
    "            comunidad_autonoma = valores[3].get_text()\n",
    "        elif len(valores) == 5:\n",
    "            comunidad_autonoma = valores[4].get_text()\n",
    "        # Ahora tenemos que añadir los datos al diccionario que hemos creado\n",
    "        dictio_scrap[\"municipio\"].append(municipio)\n",
    "        dictio_scrap[\"provincia\"].append(provincia)\n",
    "        dictio_scrap[\"comunidad_autonoma\"].append(comunidad_autonoma)\n"
   ]
  },
  {
   "cell_type": "code",
   "execution_count": null,
   "metadata": {},
   "outputs": [],
   "source": [
    "<span data-v-2f20e2ee=\"\" data-v-177df34b=\"\" dir=\"ltr\" data-testid=\"rate-details__first-price\" class=\"rate-details__price2__first-price rate-details__price--default\"><span data-v-2f20e2ee=\"\" class=\"booking-price\"><!----><span data-v-2f20e2ee=\"\" class=\"booking-price__number mcp-price-number\">73</span><!----><span data-v-2f20e2ee=\"\" class=\"booking-price__symbol mcp-currency-symbol\">€</span></span></span>"
   ]
  },
  {
   "cell_type": "code",
   "execution_count": 32,
   "metadata": {},
   "outputs": [
    {
     "name": "stdout",
     "output_type": "stream",
     "text": [
      "Precio: 69\n"
     ]
    }
   ],
   "source": [
    "from bs4 import BeautifulSoup\n",
    "\n",
    "html_content = '''\n",
    "<!-- Aquí va tu HTML completo -->\n",
    "<div class=\"hotelblock__content\">\n",
    "    <span class=\"booking-price__number mcp-price-number\" data-v-2f20e2ee=\"\">69</span>\n",
    "</div>\n",
    "'''\n",
    "\n",
    "soup = BeautifulSoup(html_content, 'html.parser')\n",
    "\n",
    "# Buscar el bloque de prueba\n",
    "prueba = soup.find(\"div\", {\"class\": \"hotelblock__content\"})\n",
    "\n",
    "# Verificar si el bloque se ha encontrado\n",
    "if prueba:\n",
    "    # Buscar el elemento con la clase específica\n",
    "    precio_elemento = prueba.find(\"span\", {\"class\": \"booking-price__number mcp-price-number\"})\n",
    "    # Verificar si el elemento se ha encontrado\n",
    "    if precio_elemento:\n",
    "        precio = precio_elemento.get_text(strip=True)\n",
    "        print('Precio:', precio)\n",
    "    else:\n",
    "        print('No se encontró el elemento con la clase \"booking-price__number mcp-price-number\"')\n",
    "else:\n",
    "    print('No se encontró el bloque con la clase \"hotelblock__content\"')\n"
   ]
  }
 ],
 "metadata": {
  "kernelspec": {
   "display_name": "venv",
   "language": "python",
   "name": "venv"
  },
  "language_info": {
   "codemirror_mode": {
    "name": "ipython",
    "version": 3
   },
   "file_extension": ".py",
   "mimetype": "text/x-python",
   "name": "python",
   "nbconvert_exporter": "python",
   "pygments_lexer": "ipython3",
   "version": "3.13.0"
  }
 },
 "nbformat": 4,
 "nbformat_minor": 2
}
